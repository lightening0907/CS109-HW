{
 "cells": [
  {
   "cell_type": "markdown",
   "metadata": {},
   "source": [
    "# Homework 2: More Exploratory Data Analysis\n",
    "## Gene Expression Data and Election Polls \n",
    "\n",
    "Due: Thursday, October 2, 2014 11:59 PM\n",
    "\n",
    "<a href=https://raw.githubusercontent.com/cs109/2014/master/homework/HW2.ipynb download=HW2.ipynb> Download this assignment</a>\n",
    "\n",
    "#### Submission Instructions\n",
    "To submit your homework, create a folder named lastname_firstinitial_hw# and place your IPython notebooks, data files, and any other files in this folder. Your IPython Notebooks should be completely executed with the results visible in the notebook. We should not have to run any code. Compress the folder (please use .zip compression) and submit to the CS109 dropbox in the appropriate folder. If we cannot access your work because these directions are not followed correctly, we will not grade your work.\n",
    "\n",
    "\n",
    "---"
   ]
  },
  {
   "cell_type": "markdown",
   "metadata": {},
   "source": [
    "## Introduction\n",
    "\n",
    "John Tukey wrote in [Exploratory Data Analysis, 1977](http://www.amazon.com/Exploratory-Data-Analysis-Wilder-Tukey/dp/0201076160/ref=pd_bbs_sr_2/103-4466654-5303007?ie=UTF8&s=books&qid=1189739816&sr=8-2): \"The greatest value of a picture is when it forces us to notice what we never expected to see.\" In this assignment we will continue using our exploratory data analysis tools, but apply it to new sets of data: [gene expression](http://en.wikipedia.org/wiki/Gene_expression) and polls from the [2012 Presidental Election](http://en.wikipedia.org/wiki/United_States_presidential_election,_2012) and from the [2014 Senate Midterm Elections](http://en.wikipedia.org/wiki/United_States_Senate_elections,_2014).   \n",
    "\n",
    "**First**: You will use exploratory data analysis and apply the [singular value decomposition](http://en.wikipedia.org/wiki/Singular_value_decomposition) (SVD) to a gene expression data matrix to determine if the the date that the gene expression samples are processed has large effect on the variability seen in the data.  \n",
    "\n",
    "**Second**: You will use the polls from the 2012 Presidential Elections to determine (1) Is there a pollster bias in presidential election polls? and (2) Is the average of polls better than just one poll?\n",
    "\n",
    "**Finally**: You will use the [HuffPost Pollster API](http://elections.huffingtonpost.com/pollster/api) to extract the polls for the current 2014 Senate Midterm Elections and provide a preliminary prediction of the result of each state.\n",
    "\n",
    "#### Data\n",
    "\n",
    "We will use the following data sets: \n",
    "\n",
    "1. A gene expression data set called `exprs_GSE5859.csv` and sample annotation table called `sampleinfo_GSE5859.csv` which are both available on Github in the 2014_data repository: [expression data set](https://github.com/cs109/2014_data/blob/master/exprs_GSE5859.csv) and [sample annotation table](https://github.com/cs109/2014_data/blob/master/sampleinfo_GSE5859.csv).  \n",
    "\n",
    "2. Polls from the [2012 Presidential Election: Barack Obama vs Mitt Romney](http://elections.huffingtonpost.com/pollster/2012-general-election-romney-vs-obama). The polls we will use are from the [Huffington Post Pollster](http://elections.huffingtonpost.com/pollster).  \n",
    "\n",
    "3. Polls from the [2014 Senate Midterm Elections](http://elections.huffingtonpost.com/pollster) from the [HuffPost Pollster API](http://elections.huffingtonpost.com/pollster/api). \n",
    "\n",
    "---"
   ]
  },
  {
   "cell_type": "markdown",
   "metadata": {},
   "source": [
    "## Load Python modules"
   ]
  },
  {
   "cell_type": "code",
   "execution_count": 1,
   "metadata": {
    "collapsed": false
   },
   "outputs": [],
   "source": [
    "# special IPython command to prepare the notebook for matplotlib\n",
    "%matplotlib inline \n",
    "\n",
    "import requests \n",
    "from StringIO import StringIO\n",
    "import numpy as np\n",
    "import pandas as pd # pandas\n",
    "import matplotlib.pyplot as plt # module for plotting \n",
    "import datetime as dt # module for manipulating dates and times\n",
    "import numpy.linalg as lin # module for performing linear algebra operations"
   ]
  },
  {
   "cell_type": "markdown",
   "metadata": {},
   "source": [
    "## Problem 1\n",
    "\n",
    "In this problem we will be using a [gene expression](http://en.wikipedia.org/wiki/Gene_expression) data set obtained from a [microarray](http://en.wikipedia.org/wiki/DNA_microarray) experiement [Read more about the specific experiment here](http://www.ncbi.nlm.nih.gov/geo/query/acc.cgi?acc=GSE5859).  There are two data sets we will use:  \n",
    "\n",
    "1. The gene expression intensities where the rows represent the features on the microarray (e.g. genes) and the columsns represent the different microarray samples.  \n",
    "\n",
    "2. A table that contains the information about each of the samples (columns in the gene expression data set) such as the sex, the age, the treatment status, the date the samples were processed.  Each row represents one sample. "
   ]
  },
  {
   "cell_type": "markdown",
   "metadata": {},
   "source": [
    "#### Problem 1(a) \n",
    "Read in the two files from Github: [exprs_GSE5859.csv](https://github.com/cs109/2014_data/blob/master/exprs_GSE5859.csv) and [sampleinfo_GSE5859.csv](https://github.com/cs109/2014_data/blob/master/sampleinfo_GSE5859.csv) as pandas DataFrames called `exprs` and `sampleinfo`. Use the gene names as the index of the `exprs` DataFrame."
   ]
  },
  {
   "cell_type": "code",
   "execution_count": 2,
   "metadata": {
    "collapsed": false
   },
   "outputs": [
    {
     "data": {
      "text/html": [
       "<div>\n",
       "<table border=\"1\" class=\"dataframe\">\n",
       "  <thead>\n",
       "    <tr style=\"text-align: right;\">\n",
       "      <th></th>\n",
       "      <th>GSM25581.CEL.gz</th>\n",
       "      <th>GSM25681.CEL.gz</th>\n",
       "      <th>GSM136524.CEL.gz</th>\n",
       "      <th>GSM136707.CEL.gz</th>\n",
       "      <th>GSM25553.CEL.gz</th>\n",
       "      <th>GSM136676.CEL.gz</th>\n",
       "      <th>GSM136711.CEL.gz</th>\n",
       "      <th>GSM136542.CEL.gz</th>\n",
       "      <th>GSM136535.CEL.gz</th>\n",
       "      <th>GSM25399.CEL.gz</th>\n",
       "      <th>...</th>\n",
       "      <th>GSM48650.CEL.gz</th>\n",
       "      <th>GSM25687.CEL.gz</th>\n",
       "      <th>GSM25685.CEL.gz</th>\n",
       "      <th>GSM136549.CEL.gz</th>\n",
       "      <th>GSM25427.CEL.gz</th>\n",
       "      <th>GSM25525.CEL.gz</th>\n",
       "      <th>GSM25349.CEL.gz</th>\n",
       "      <th>GSM136727.CEL.gz</th>\n",
       "      <th>GSM25626.CEL.gz</th>\n",
       "      <th>GSM136725.CEL.gz</th>\n",
       "    </tr>\n",
       "  </thead>\n",
       "  <tbody>\n",
       "    <tr>\n",
       "      <th>1007_s_at</th>\n",
       "      <td>6.333951</td>\n",
       "      <td>5.736190</td>\n",
       "      <td>6.156754</td>\n",
       "      <td>6.513010</td>\n",
       "      <td>6.061013</td>\n",
       "      <td>6.506493</td>\n",
       "      <td>6.863426</td>\n",
       "      <td>6.369645</td>\n",
       "      <td>6.646321</td>\n",
       "      <td>5.810930</td>\n",
       "      <td>...</td>\n",
       "      <td>7.082636</td>\n",
       "      <td>6.315866</td>\n",
       "      <td>7.010165</td>\n",
       "      <td>6.460107</td>\n",
       "      <td>6.122355</td>\n",
       "      <td>6.330314</td>\n",
       "      <td>6.627014</td>\n",
       "      <td>6.133068</td>\n",
       "      <td>6.419444</td>\n",
       "      <td>6.488579</td>\n",
       "    </tr>\n",
       "    <tr>\n",
       "      <th>1053_at</th>\n",
       "      <td>7.255622</td>\n",
       "      <td>7.399993</td>\n",
       "      <td>7.491967</td>\n",
       "      <td>7.006123</td>\n",
       "      <td>7.250995</td>\n",
       "      <td>7.082581</td>\n",
       "      <td>6.842236</td>\n",
       "      <td>7.048487</td>\n",
       "      <td>7.042361</td>\n",
       "      <td>6.666625</td>\n",
       "      <td>...</td>\n",
       "      <td>6.599718</td>\n",
       "      <td>7.412731</td>\n",
       "      <td>7.274429</td>\n",
       "      <td>6.928642</td>\n",
       "      <td>7.168782</td>\n",
       "      <td>7.235648</td>\n",
       "      <td>6.939184</td>\n",
       "      <td>7.280781</td>\n",
       "      <td>6.351776</td>\n",
       "      <td>7.517410</td>\n",
       "    </tr>\n",
       "    <tr>\n",
       "      <th>117_at</th>\n",
       "      <td>5.760106</td>\n",
       "      <td>4.825169</td>\n",
       "      <td>5.039387</td>\n",
       "      <td>5.414160</td>\n",
       "      <td>5.205697</td>\n",
       "      <td>5.300078</td>\n",
       "      <td>5.099337</td>\n",
       "      <td>5.156459</td>\n",
       "      <td>5.736109</td>\n",
       "      <td>5.807496</td>\n",
       "      <td>...</td>\n",
       "      <td>6.231457</td>\n",
       "      <td>5.240717</td>\n",
       "      <td>5.275062</td>\n",
       "      <td>5.759827</td>\n",
       "      <td>5.409720</td>\n",
       "      <td>5.491938</td>\n",
       "      <td>5.113570</td>\n",
       "      <td>5.401876</td>\n",
       "      <td>5.537605</td>\n",
       "      <td>5.247190</td>\n",
       "    </tr>\n",
       "    <tr>\n",
       "      <th>121_at</th>\n",
       "      <td>6.935451</td>\n",
       "      <td>7.025210</td>\n",
       "      <td>7.543667</td>\n",
       "      <td>7.959781</td>\n",
       "      <td>7.223323</td>\n",
       "      <td>8.006816</td>\n",
       "      <td>8.102504</td>\n",
       "      <td>7.434617</td>\n",
       "      <td>7.532321</td>\n",
       "      <td>7.711461</td>\n",
       "      <td>...</td>\n",
       "      <td>8.215096</td>\n",
       "      <td>7.677593</td>\n",
       "      <td>7.923624</td>\n",
       "      <td>7.219401</td>\n",
       "      <td>7.432338</td>\n",
       "      <td>6.785174</td>\n",
       "      <td>7.833862</td>\n",
       "      <td>7.607461</td>\n",
       "      <td>7.302935</td>\n",
       "      <td>7.331864</td>\n",
       "    </tr>\n",
       "    <tr>\n",
       "      <th>1255_g_at</th>\n",
       "      <td>3.597872</td>\n",
       "      <td>3.108801</td>\n",
       "      <td>3.128269</td>\n",
       "      <td>3.364947</td>\n",
       "      <td>3.125909</td>\n",
       "      <td>3.186834</td>\n",
       "      <td>3.311022</td>\n",
       "      <td>3.092042</td>\n",
       "      <td>3.167737</td>\n",
       "      <td>2.969579</td>\n",
       "      <td>...</td>\n",
       "      <td>3.331424</td>\n",
       "      <td>3.043856</td>\n",
       "      <td>3.151900</td>\n",
       "      <td>3.132253</td>\n",
       "      <td>3.250600</td>\n",
       "      <td>2.984125</td>\n",
       "      <td>3.152269</td>\n",
       "      <td>3.225123</td>\n",
       "      <td>3.222731</td>\n",
       "      <td>3.175846</td>\n",
       "    </tr>\n",
       "  </tbody>\n",
       "</table>\n",
       "<p>5 rows × 208 columns</p>\n",
       "</div>"
      ],
      "text/plain": [
       "           GSM25581.CEL.gz  GSM25681.CEL.gz  GSM136524.CEL.gz  \\\n",
       "1007_s_at         6.333951         5.736190          6.156754   \n",
       "1053_at           7.255622         7.399993          7.491967   \n",
       "117_at            5.760106         4.825169          5.039387   \n",
       "121_at            6.935451         7.025210          7.543667   \n",
       "1255_g_at         3.597872         3.108801          3.128269   \n",
       "\n",
       "           GSM136707.CEL.gz  GSM25553.CEL.gz  GSM136676.CEL.gz  \\\n",
       "1007_s_at          6.513010         6.061013          6.506493   \n",
       "1053_at            7.006123         7.250995          7.082581   \n",
       "117_at             5.414160         5.205697          5.300078   \n",
       "121_at             7.959781         7.223323          8.006816   \n",
       "1255_g_at          3.364947         3.125909          3.186834   \n",
       "\n",
       "           GSM136711.CEL.gz  GSM136542.CEL.gz  GSM136535.CEL.gz  \\\n",
       "1007_s_at          6.863426          6.369645          6.646321   \n",
       "1053_at            6.842236          7.048487          7.042361   \n",
       "117_at             5.099337          5.156459          5.736109   \n",
       "121_at             8.102504          7.434617          7.532321   \n",
       "1255_g_at          3.311022          3.092042          3.167737   \n",
       "\n",
       "           GSM25399.CEL.gz        ...         GSM48650.CEL.gz  \\\n",
       "1007_s_at         5.810930        ...                7.082636   \n",
       "1053_at           6.666625        ...                6.599718   \n",
       "117_at            5.807496        ...                6.231457   \n",
       "121_at            7.711461        ...                8.215096   \n",
       "1255_g_at         2.969579        ...                3.331424   \n",
       "\n",
       "           GSM25687.CEL.gz  GSM25685.CEL.gz  GSM136549.CEL.gz  \\\n",
       "1007_s_at         6.315866         7.010165          6.460107   \n",
       "1053_at           7.412731         7.274429          6.928642   \n",
       "117_at            5.240717         5.275062          5.759827   \n",
       "121_at            7.677593         7.923624          7.219401   \n",
       "1255_g_at         3.043856         3.151900          3.132253   \n",
       "\n",
       "           GSM25427.CEL.gz  GSM25525.CEL.gz  GSM25349.CEL.gz  \\\n",
       "1007_s_at         6.122355         6.330314         6.627014   \n",
       "1053_at           7.168782         7.235648         6.939184   \n",
       "117_at            5.409720         5.491938         5.113570   \n",
       "121_at            7.432338         6.785174         7.833862   \n",
       "1255_g_at         3.250600         2.984125         3.152269   \n",
       "\n",
       "           GSM136727.CEL.gz  GSM25626.CEL.gz  GSM136725.CEL.gz  \n",
       "1007_s_at          6.133068         6.419444          6.488579  \n",
       "1053_at            7.280781         6.351776          7.517410  \n",
       "117_at             5.401876         5.537605          5.247190  \n",
       "121_at             7.607461         7.302935          7.331864  \n",
       "1255_g_at          3.225123         3.222731          3.175846  \n",
       "\n",
       "[5 rows x 208 columns]"
      ]
     },
     "execution_count": 2,
     "metadata": {},
     "output_type": "execute_result"
    }
   ],
   "source": [
    "#your code here\n",
    "exprs = pd.read_csv(\"https://raw.githubusercontent.com/cs109/2014_data/master/exprs_GSE5859.csv\",index_col=0)\n",
    "exprs.head()\n",
    "    "
   ]
  },
  {
   "cell_type": "code",
   "execution_count": 3,
   "metadata": {
    "collapsed": false
   },
   "outputs": [
    {
     "data": {
      "text/plain": [
       "(8793, 208)"
      ]
     },
     "execution_count": 3,
     "metadata": {},
     "output_type": "execute_result"
    }
   ],
   "source": [
    "exprs.shape"
   ]
  },
  {
   "cell_type": "code",
   "execution_count": 4,
   "metadata": {
    "collapsed": false
   },
   "outputs": [
    {
     "data": {
      "text/html": [
       "<div>\n",
       "<table border=\"1\" class=\"dataframe\">\n",
       "  <thead>\n",
       "    <tr style=\"text-align: right;\">\n",
       "      <th></th>\n",
       "      <th>ethnicity</th>\n",
       "      <th>date</th>\n",
       "      <th>filename</th>\n",
       "      <th>sex</th>\n",
       "    </tr>\n",
       "  </thead>\n",
       "  <tbody>\n",
       "    <tr>\n",
       "      <th>0</th>\n",
       "      <td>CEU</td>\n",
       "      <td>2003-02-04</td>\n",
       "      <td>GSM25349.CEL.gz</td>\n",
       "      <td>M</td>\n",
       "    </tr>\n",
       "    <tr>\n",
       "      <th>1</th>\n",
       "      <td>CEU</td>\n",
       "      <td>2003-02-04</td>\n",
       "      <td>GSM25350.CEL.gz</td>\n",
       "      <td>M</td>\n",
       "    </tr>\n",
       "    <tr>\n",
       "      <th>2</th>\n",
       "      <td>CEU</td>\n",
       "      <td>2002-12-17</td>\n",
       "      <td>GSM25356.CEL.gz</td>\n",
       "      <td>M</td>\n",
       "    </tr>\n",
       "    <tr>\n",
       "      <th>3</th>\n",
       "      <td>CEU</td>\n",
       "      <td>2003-01-30</td>\n",
       "      <td>GSM25357.CEL.gz</td>\n",
       "      <td>M</td>\n",
       "    </tr>\n",
       "    <tr>\n",
       "      <th>4</th>\n",
       "      <td>CEU</td>\n",
       "      <td>2003-01-03</td>\n",
       "      <td>GSM25358.CEL.gz</td>\n",
       "      <td>M</td>\n",
       "    </tr>\n",
       "  </tbody>\n",
       "</table>\n",
       "</div>"
      ],
      "text/plain": [
       "  ethnicity        date         filename sex\n",
       "0       CEU  2003-02-04  GSM25349.CEL.gz   M\n",
       "1       CEU  2003-02-04  GSM25350.CEL.gz   M\n",
       "2       CEU  2002-12-17  GSM25356.CEL.gz   M\n",
       "3       CEU  2003-01-30  GSM25357.CEL.gz   M\n",
       "4       CEU  2003-01-03  GSM25358.CEL.gz   M"
      ]
     },
     "execution_count": 4,
     "metadata": {},
     "output_type": "execute_result"
    }
   ],
   "source": [
    "sampleinfo = pd.read_csv(\"https://raw.githubusercontent.com/cs109/2014_data/master/sampleinfo_GSE5859.csv\")\n",
    "sampleinfo.head()\n"
   ]
  },
  {
   "cell_type": "code",
   "execution_count": 5,
   "metadata": {
    "collapsed": false
   },
   "outputs": [
    {
     "data": {
      "text/plain": [
       "(208, 4)"
      ]
     },
     "execution_count": 5,
     "metadata": {},
     "output_type": "execute_result"
    }
   ],
   "source": [
    "sampleinfo.shape"
   ]
  },
  {
   "cell_type": "markdown",
   "metadata": {},
   "source": [
    "Make sure the order of the columns in the gene expression DataFrame match the order of file names in the sample annotation DataFrame. If the order of the columns the `exprs` DataFrame do not match the order of the file names in the `sampleinfo` DataFrame, reorder the columns in the `exprs` DataFrame. \n",
    "\n",
    "**Note**: The column names of the gene expression DataFrame are the filenames of the orignal files from which these data were obtained.  \n",
    "\n",
    "**Hint**: The method `list.index(x)` [[read here](https://docs.python.org/2/tutorial/datastructures.html)] can be used to return the index in the list of the first item whose value is x. It is an error if there is no such item. To check if the order of the columns in `exprs` matches the order of the rows in `sampleinfo`, you can check using the method `.all()` on a Boolean or list of Booleans: \n",
    "\n",
    "Example code: `(exprs.columns == sampleinfo.filename).all()`"
   ]
  },
  {
   "cell_type": "code",
   "execution_count": 6,
   "metadata": {
    "collapsed": false
   },
   "outputs": [
    {
     "data": {
      "text/plain": [
       "False"
      ]
     },
     "execution_count": 6,
     "metadata": {},
     "output_type": "execute_result"
    }
   ],
   "source": [
    "#your code here\n",
    "(exprs.columns == sampleinfo.filename).all()"
   ]
  },
  {
   "cell_type": "code",
   "execution_count": 7,
   "metadata": {
    "collapsed": false
   },
   "outputs": [
    {
     "data": {
      "text/plain": [
       "Index([u'GSM25581.CEL.gz', u'GSM25681.CEL.gz', u'GSM136524.CEL.gz',\n",
       "       u'GSM136707.CEL.gz', u'GSM25553.CEL.gz', u'GSM136676.CEL.gz',\n",
       "       u'GSM136711.CEL.gz', u'GSM136542.CEL.gz', u'GSM136535.CEL.gz',\n",
       "       u'GSM25399.CEL.gz',\n",
       "       ...\n",
       "       u'GSM48650.CEL.gz', u'GSM25687.CEL.gz', u'GSM25685.CEL.gz',\n",
       "       u'GSM136549.CEL.gz', u'GSM25427.CEL.gz', u'GSM25525.CEL.gz',\n",
       "       u'GSM25349.CEL.gz', u'GSM136727.CEL.gz', u'GSM25626.CEL.gz',\n",
       "       u'GSM136725.CEL.gz'],\n",
       "      dtype='object', length=208)"
      ]
     },
     "execution_count": 7,
     "metadata": {},
     "output_type": "execute_result"
    }
   ],
   "source": [
    "exprs.columns"
   ]
  },
  {
   "cell_type": "code",
   "execution_count": 8,
   "metadata": {
    "collapsed": false
   },
   "outputs": [
    {
     "data": {
      "text/plain": [
       "array(['GSM25349.CEL.gz', 'GSM25350.CEL.gz', 'GSM25356.CEL.gz',\n",
       "       'GSM25357.CEL.gz', 'GSM25358.CEL.gz', 'GSM25359.CEL.gz',\n",
       "       'GSM25360.CEL.gz', 'GSM25361.CEL.gz', 'GSM25377.CEL.gz',\n",
       "       'GSM25378.CEL.gz', 'GSM25385.CEL.gz', 'GSM25386.CEL.gz',\n",
       "       'GSM25399.CEL.gz', 'GSM25400.CEL.gz', 'GSM25401.CEL.gz',\n",
       "       'GSM25402.CEL.gz', 'GSM25409.CEL.gz', 'GSM25410.CEL.gz',\n",
       "       'GSM25426.CEL.gz', 'GSM25427.CEL.gz', 'GSM25479.CEL.gz',\n",
       "       'GSM25480.CEL.gz', 'GSM25481.CEL.gz', 'GSM25482.CEL.gz',\n",
       "       'GSM25524.CEL.gz', 'GSM25525.CEL.gz', 'GSM25526.CEL.gz',\n",
       "       'GSM25527.CEL.gz', 'GSM25528.CEL.gz', 'GSM25529.CEL.gz',\n",
       "       'GSM25530.CEL.gz', 'GSM25531.CEL.gz', 'GSM25540.CEL.gz',\n",
       "       'GSM25541.CEL.gz', 'GSM25542.CEL.gz', 'GSM25543.CEL.gz',\n",
       "       'GSM25548.CEL.gz', 'GSM25549.CEL.gz', 'GSM25550.CEL.gz',\n",
       "       'GSM25551.CEL.gz', 'GSM25552.CEL.gz', 'GSM25553.CEL.gz',\n",
       "       'GSM25561.CEL.gz', 'GSM25562.CEL.gz', 'GSM25563.CEL.gz',\n",
       "       'GSM25564.CEL.gz', 'GSM25565.CEL.gz', 'GSM25566.CEL.gz',\n",
       "       'GSM25568.CEL.gz', 'GSM25569.CEL.gz', 'GSM25570.CEL.gz',\n",
       "       'GSM25571.CEL.gz', 'GSM25578.CEL.gz', 'GSM25579.CEL.gz',\n",
       "       'GSM25580.CEL.gz', 'GSM25581.CEL.gz', 'GSM25624.CEL.gz',\n",
       "       'GSM25625.CEL.gz', 'GSM25626.CEL.gz', 'GSM25627.CEL.gz',\n",
       "       'GSM25628.CEL.gz', 'GSM25629.CEL.gz', 'GSM25630.CEL.gz',\n",
       "       'GSM25631.CEL.gz', 'GSM25632.CEL.gz', 'GSM25633.CEL.gz',\n",
       "       'GSM25634.CEL.gz', 'GSM25635.CEL.gz', 'GSM25656.CEL.gz',\n",
       "       'GSM25657.CEL.gz', 'GSM25658.CEL.gz', 'GSM25659.CEL.gz',\n",
       "       'GSM25660.CEL.gz', 'GSM25661.CEL.gz', 'GSM25662.CEL.gz',\n",
       "       'GSM25663.CEL.gz', 'GSM25680.CEL.gz', 'GSM25681.CEL.gz',\n",
       "       'GSM25682.CEL.gz', 'GSM25683.CEL.gz', 'GSM25684.CEL.gz',\n",
       "       'GSM25685.CEL.gz', 'GSM25686.CEL.gz', 'GSM25687.CEL.gz',\n",
       "       'GSM48650.CEL.gz', 'GSM48651.CEL.gz', 'GSM48652.CEL.gz',\n",
       "       'GSM48653.CEL.gz', 'GSM48654.CEL.gz', 'GSM48655.CEL.gz',\n",
       "       'GSM48656.CEL.gz', 'GSM48657.CEL.gz', 'GSM48658.CEL.gz',\n",
       "       'GSM48660.CEL.gz', 'GSM48661.CEL.gz', 'GSM48662.CEL.gz',\n",
       "       'GSM48663.CEL.gz', 'GSM48664.CEL.gz', 'GSM48665.CEL.gz',\n",
       "       'GSM136441.CEL.gz', 'GSM136442.CEL.gz', 'GSM136443.CEL.gz',\n",
       "       'GSM136444.CEL.gz', 'GSM136445.CEL.gz', 'GSM136506.CEL.gz',\n",
       "       'GSM136507.CEL.gz', 'GSM136508.CEL.gz', 'GSM136509.CEL.gz',\n",
       "       'GSM136510.CEL.gz', 'GSM136514.CEL.gz', 'GSM136515.CEL.gz',\n",
       "       'GSM136516.CEL.gz', 'GSM136517.CEL.gz', 'GSM136518.CEL.gz',\n",
       "       'GSM136520.CEL.gz', 'GSM136521.CEL.gz', 'GSM136522.CEL.gz',\n",
       "       'GSM136523.CEL.gz', 'GSM136524.CEL.gz', 'GSM136528.CEL.gz',\n",
       "       'GSM136529.CEL.gz', 'GSM136530.CEL.gz', 'GSM136531.CEL.gz',\n",
       "       'GSM136532.CEL.gz', 'GSM136534.CEL.gz', 'GSM136535.CEL.gz',\n",
       "       'GSM136536.CEL.gz', 'GSM136537.CEL.gz', 'GSM136538.CEL.gz',\n",
       "       'GSM136539.CEL.gz', 'GSM136540.CEL.gz', 'GSM136541.CEL.gz',\n",
       "       'GSM136542.CEL.gz', 'GSM136543.CEL.gz', 'GSM136544.CEL.gz',\n",
       "       'GSM136545.CEL.gz', 'GSM136546.CEL.gz', 'GSM136547.CEL.gz',\n",
       "       'GSM136548.CEL.gz', 'GSM136549.CEL.gz', 'GSM136550.CEL.gz',\n",
       "       'GSM136551.CEL.gz', 'GSM136552.CEL.gz', 'GSM136553.CEL.gz',\n",
       "       'GSM136555.CEL.gz', 'GSM136556.CEL.gz', 'GSM136557.CEL.gz',\n",
       "       'GSM136558.CEL.gz', 'GSM136559.CEL.gz', 'GSM136563.CEL.gz',\n",
       "       'GSM136564.CEL.gz', 'GSM136565.CEL.gz', 'GSM136566.CEL.gz',\n",
       "       'GSM136567.CEL.gz', 'GSM136568.CEL.gz', 'GSM136569.CEL.gz',\n",
       "       'GSM136570.CEL.gz', 'GSM136571.CEL.gz', 'GSM136572.CEL.gz',\n",
       "       'GSM136573.CEL.gz', 'GSM136574.CEL.gz', 'GSM136575.CEL.gz',\n",
       "       'GSM136576.CEL.gz', 'GSM136577.CEL.gz', 'GSM136658.CEL.gz',\n",
       "       'GSM136659.CEL.gz', 'GSM136660.CEL.gz', 'GSM136661.CEL.gz',\n",
       "       'GSM136662.CEL.gz', 'GSM136663.CEL.gz', 'GSM136664.CEL.gz',\n",
       "       'GSM136665.CEL.gz', 'GSM136666.CEL.gz', 'GSM136667.CEL.gz',\n",
       "       'GSM136668.CEL.gz', 'GSM136669.CEL.gz', 'GSM136670.CEL.gz',\n",
       "       'GSM136671.CEL.gz', 'GSM136672.CEL.gz', 'GSM136673.CEL.gz',\n",
       "       'GSM136674.CEL.gz', 'GSM136675.CEL.gz', 'GSM136676.CEL.gz',\n",
       "       'GSM136677.CEL.gz', 'GSM136705.CEL.gz', 'GSM136706.CEL.gz',\n",
       "       'GSM136707.CEL.gz', 'GSM136708.CEL.gz', 'GSM136709.CEL.gz',\n",
       "       'GSM136710.CEL.gz', 'GSM136711.CEL.gz', 'GSM136712.CEL.gz',\n",
       "       'GSM136713.CEL.gz', 'GSM136714.CEL.gz', 'GSM136715.CEL.gz',\n",
       "       'GSM136716.CEL.gz', 'GSM136717.CEL.gz', 'GSM136718.CEL.gz',\n",
       "       'GSM136719.CEL.gz', 'GSM136720.CEL.gz', 'GSM136721.CEL.gz',\n",
       "       'GSM136722.CEL.gz', 'GSM136723.CEL.gz', 'GSM136724.CEL.gz',\n",
       "       'GSM136725.CEL.gz', 'GSM136726.CEL.gz', 'GSM136727.CEL.gz',\n",
       "       'GSM136729.CEL.gz'], dtype=object)"
      ]
     },
     "execution_count": 8,
     "metadata": {},
     "output_type": "execute_result"
    }
   ],
   "source": [
    "sampleinfo.filename.values"
   ]
  },
  {
   "cell_type": "code",
   "execution_count": 9,
   "metadata": {
    "collapsed": false
   },
   "outputs": [],
   "source": [
    "# exprs = exprs[sampleinfo.filename]\n",
    "# exprs.head()\n",
    "\n"
   ]
  },
  {
   "cell_type": "code",
   "execution_count": 10,
   "metadata": {
    "collapsed": false
   },
   "outputs": [],
   "source": [
    "#temp = list(exprs.columns)\n",
    "#temp[1:] = list(sampleinfo.filename)\n",
    "exprs = exprs[sampleinfo.filename]\n",
    "\n"
   ]
  },
  {
   "cell_type": "code",
   "execution_count": 11,
   "metadata": {
    "collapsed": false
   },
   "outputs": [
    {
     "data": {
      "text/html": [
       "<div>\n",
       "<table border=\"1\" class=\"dataframe\">\n",
       "  <thead>\n",
       "    <tr style=\"text-align: right;\">\n",
       "      <th></th>\n",
       "      <th>GSM25349.CEL.gz</th>\n",
       "      <th>GSM25350.CEL.gz</th>\n",
       "      <th>GSM25356.CEL.gz</th>\n",
       "      <th>GSM25357.CEL.gz</th>\n",
       "      <th>GSM25358.CEL.gz</th>\n",
       "      <th>GSM25359.CEL.gz</th>\n",
       "      <th>GSM25360.CEL.gz</th>\n",
       "      <th>GSM25361.CEL.gz</th>\n",
       "      <th>GSM25377.CEL.gz</th>\n",
       "      <th>GSM25378.CEL.gz</th>\n",
       "      <th>...</th>\n",
       "      <th>GSM136719.CEL.gz</th>\n",
       "      <th>GSM136720.CEL.gz</th>\n",
       "      <th>GSM136721.CEL.gz</th>\n",
       "      <th>GSM136722.CEL.gz</th>\n",
       "      <th>GSM136723.CEL.gz</th>\n",
       "      <th>GSM136724.CEL.gz</th>\n",
       "      <th>GSM136725.CEL.gz</th>\n",
       "      <th>GSM136726.CEL.gz</th>\n",
       "      <th>GSM136727.CEL.gz</th>\n",
       "      <th>GSM136729.CEL.gz</th>\n",
       "    </tr>\n",
       "  </thead>\n",
       "  <tbody>\n",
       "    <tr>\n",
       "      <th>1007_s_at</th>\n",
       "      <td>6.627014</td>\n",
       "      <td>6.249807</td>\n",
       "      <td>5.934128</td>\n",
       "      <td>6.145268</td>\n",
       "      <td>6.091270</td>\n",
       "      <td>6.041186</td>\n",
       "      <td>6.050375</td>\n",
       "      <td>6.063847</td>\n",
       "      <td>6.226106</td>\n",
       "      <td>6.358282</td>\n",
       "      <td>...</td>\n",
       "      <td>6.466445</td>\n",
       "      <td>6.533592</td>\n",
       "      <td>6.631492</td>\n",
       "      <td>6.513362</td>\n",
       "      <td>6.440706</td>\n",
       "      <td>6.704324</td>\n",
       "      <td>6.488579</td>\n",
       "      <td>6.809481</td>\n",
       "      <td>6.133068</td>\n",
       "      <td>6.155473</td>\n",
       "    </tr>\n",
       "    <tr>\n",
       "      <th>1053_at</th>\n",
       "      <td>6.939184</td>\n",
       "      <td>6.818038</td>\n",
       "      <td>7.047962</td>\n",
       "      <td>7.422477</td>\n",
       "      <td>7.272361</td>\n",
       "      <td>7.128216</td>\n",
       "      <td>6.750719</td>\n",
       "      <td>6.836287</td>\n",
       "      <td>6.738022</td>\n",
       "      <td>7.367895</td>\n",
       "      <td>...</td>\n",
       "      <td>7.032885</td>\n",
       "      <td>7.156344</td>\n",
       "      <td>7.018025</td>\n",
       "      <td>6.973322</td>\n",
       "      <td>6.884738</td>\n",
       "      <td>7.120898</td>\n",
       "      <td>7.517410</td>\n",
       "      <td>7.200596</td>\n",
       "      <td>7.280781</td>\n",
       "      <td>7.111583</td>\n",
       "    </tr>\n",
       "    <tr>\n",
       "      <th>117_at</th>\n",
       "      <td>5.113570</td>\n",
       "      <td>5.074096</td>\n",
       "      <td>5.371201</td>\n",
       "      <td>5.266550</td>\n",
       "      <td>5.342047</td>\n",
       "      <td>5.063876</td>\n",
       "      <td>5.315898</td>\n",
       "      <td>5.483652</td>\n",
       "      <td>6.689444</td>\n",
       "      <td>6.482782</td>\n",
       "      <td>...</td>\n",
       "      <td>5.661112</td>\n",
       "      <td>5.127260</td>\n",
       "      <td>5.151840</td>\n",
       "      <td>5.505602</td>\n",
       "      <td>5.687689</td>\n",
       "      <td>4.942651</td>\n",
       "      <td>5.247190</td>\n",
       "      <td>5.237239</td>\n",
       "      <td>5.401876</td>\n",
       "      <td>5.302628</td>\n",
       "    </tr>\n",
       "    <tr>\n",
       "      <th>121_at</th>\n",
       "      <td>7.833862</td>\n",
       "      <td>7.780682</td>\n",
       "      <td>7.458197</td>\n",
       "      <td>7.655948</td>\n",
       "      <td>7.546555</td>\n",
       "      <td>7.072670</td>\n",
       "      <td>7.092984</td>\n",
       "      <td>6.954225</td>\n",
       "      <td>7.489785</td>\n",
       "      <td>7.388539</td>\n",
       "      <td>...</td>\n",
       "      <td>7.769734</td>\n",
       "      <td>7.815864</td>\n",
       "      <td>7.683279</td>\n",
       "      <td>7.883231</td>\n",
       "      <td>7.913621</td>\n",
       "      <td>7.834196</td>\n",
       "      <td>7.331864</td>\n",
       "      <td>7.357102</td>\n",
       "      <td>7.607461</td>\n",
       "      <td>7.456453</td>\n",
       "    </tr>\n",
       "    <tr>\n",
       "      <th>1255_g_at</th>\n",
       "      <td>3.152269</td>\n",
       "      <td>3.111747</td>\n",
       "      <td>3.018932</td>\n",
       "      <td>3.154545</td>\n",
       "      <td>3.107954</td>\n",
       "      <td>3.224284</td>\n",
       "      <td>3.114241</td>\n",
       "      <td>3.044975</td>\n",
       "      <td>3.304038</td>\n",
       "      <td>2.887919</td>\n",
       "      <td>...</td>\n",
       "      <td>3.257484</td>\n",
       "      <td>3.339234</td>\n",
       "      <td>3.298384</td>\n",
       "      <td>3.150654</td>\n",
       "      <td>3.344501</td>\n",
       "      <td>3.230285</td>\n",
       "      <td>3.175846</td>\n",
       "      <td>3.105092</td>\n",
       "      <td>3.225123</td>\n",
       "      <td>3.090149</td>\n",
       "    </tr>\n",
       "  </tbody>\n",
       "</table>\n",
       "<p>5 rows × 208 columns</p>\n",
       "</div>"
      ],
      "text/plain": [
       "           GSM25349.CEL.gz  GSM25350.CEL.gz  GSM25356.CEL.gz  GSM25357.CEL.gz  \\\n",
       "1007_s_at         6.627014         6.249807         5.934128         6.145268   \n",
       "1053_at           6.939184         6.818038         7.047962         7.422477   \n",
       "117_at            5.113570         5.074096         5.371201         5.266550   \n",
       "121_at            7.833862         7.780682         7.458197         7.655948   \n",
       "1255_g_at         3.152269         3.111747         3.018932         3.154545   \n",
       "\n",
       "           GSM25358.CEL.gz  GSM25359.CEL.gz  GSM25360.CEL.gz  GSM25361.CEL.gz  \\\n",
       "1007_s_at         6.091270         6.041186         6.050375         6.063847   \n",
       "1053_at           7.272361         7.128216         6.750719         6.836287   \n",
       "117_at            5.342047         5.063876         5.315898         5.483652   \n",
       "121_at            7.546555         7.072670         7.092984         6.954225   \n",
       "1255_g_at         3.107954         3.224284         3.114241         3.044975   \n",
       "\n",
       "           GSM25377.CEL.gz  GSM25378.CEL.gz        ...         \\\n",
       "1007_s_at         6.226106         6.358282        ...          \n",
       "1053_at           6.738022         7.367895        ...          \n",
       "117_at            6.689444         6.482782        ...          \n",
       "121_at            7.489785         7.388539        ...          \n",
       "1255_g_at         3.304038         2.887919        ...          \n",
       "\n",
       "           GSM136719.CEL.gz  GSM136720.CEL.gz  GSM136721.CEL.gz  \\\n",
       "1007_s_at          6.466445          6.533592          6.631492   \n",
       "1053_at            7.032885          7.156344          7.018025   \n",
       "117_at             5.661112          5.127260          5.151840   \n",
       "121_at             7.769734          7.815864          7.683279   \n",
       "1255_g_at          3.257484          3.339234          3.298384   \n",
       "\n",
       "           GSM136722.CEL.gz  GSM136723.CEL.gz  GSM136724.CEL.gz  \\\n",
       "1007_s_at          6.513362          6.440706          6.704324   \n",
       "1053_at            6.973322          6.884738          7.120898   \n",
       "117_at             5.505602          5.687689          4.942651   \n",
       "121_at             7.883231          7.913621          7.834196   \n",
       "1255_g_at          3.150654          3.344501          3.230285   \n",
       "\n",
       "           GSM136725.CEL.gz  GSM136726.CEL.gz  GSM136727.CEL.gz  \\\n",
       "1007_s_at          6.488579          6.809481          6.133068   \n",
       "1053_at            7.517410          7.200596          7.280781   \n",
       "117_at             5.247190          5.237239          5.401876   \n",
       "121_at             7.331864          7.357102          7.607461   \n",
       "1255_g_at          3.175846          3.105092          3.225123   \n",
       "\n",
       "           GSM136729.CEL.gz  \n",
       "1007_s_at          6.155473  \n",
       "1053_at            7.111583  \n",
       "117_at             5.302628  \n",
       "121_at             7.456453  \n",
       "1255_g_at          3.090149  \n",
       "\n",
       "[5 rows x 208 columns]"
      ]
     },
     "execution_count": 11,
     "metadata": {},
     "output_type": "execute_result"
    }
   ],
   "source": [
    "exprs.head()"
   ]
  },
  {
   "cell_type": "code",
   "execution_count": 12,
   "metadata": {
    "collapsed": false
   },
   "outputs": [
    {
     "data": {
      "text/plain": [
       "True"
      ]
     },
     "execution_count": 12,
     "metadata": {},
     "output_type": "execute_result"
    }
   ],
   "source": [
    "\n",
    "(exprs.columns == sampleinfo.filename).all()"
   ]
  },
  {
   "cell_type": "markdown",
   "metadata": {},
   "source": [
    "Show the head of the two tables: `exprs` and `sampleinfo`. "
   ]
  },
  {
   "cell_type": "code",
   "execution_count": 13,
   "metadata": {
    "collapsed": false
   },
   "outputs": [
    {
     "data": {
      "text/html": [
       "<div>\n",
       "<table border=\"1\" class=\"dataframe\">\n",
       "  <thead>\n",
       "    <tr style=\"text-align: right;\">\n",
       "      <th></th>\n",
       "      <th>ethnicity</th>\n",
       "      <th>date</th>\n",
       "      <th>filename</th>\n",
       "      <th>sex</th>\n",
       "    </tr>\n",
       "  </thead>\n",
       "  <tbody>\n",
       "    <tr>\n",
       "      <th>0</th>\n",
       "      <td>CEU</td>\n",
       "      <td>2003-02-04</td>\n",
       "      <td>GSM25349.CEL.gz</td>\n",
       "      <td>M</td>\n",
       "    </tr>\n",
       "    <tr>\n",
       "      <th>1</th>\n",
       "      <td>CEU</td>\n",
       "      <td>2003-02-04</td>\n",
       "      <td>GSM25350.CEL.gz</td>\n",
       "      <td>M</td>\n",
       "    </tr>\n",
       "    <tr>\n",
       "      <th>2</th>\n",
       "      <td>CEU</td>\n",
       "      <td>2002-12-17</td>\n",
       "      <td>GSM25356.CEL.gz</td>\n",
       "      <td>M</td>\n",
       "    </tr>\n",
       "    <tr>\n",
       "      <th>3</th>\n",
       "      <td>CEU</td>\n",
       "      <td>2003-01-30</td>\n",
       "      <td>GSM25357.CEL.gz</td>\n",
       "      <td>M</td>\n",
       "    </tr>\n",
       "    <tr>\n",
       "      <th>4</th>\n",
       "      <td>CEU</td>\n",
       "      <td>2003-01-03</td>\n",
       "      <td>GSM25358.CEL.gz</td>\n",
       "      <td>M</td>\n",
       "    </tr>\n",
       "  </tbody>\n",
       "</table>\n",
       "</div>"
      ],
      "text/plain": [
       "  ethnicity        date         filename sex\n",
       "0       CEU  2003-02-04  GSM25349.CEL.gz   M\n",
       "1       CEU  2003-02-04  GSM25350.CEL.gz   M\n",
       "2       CEU  2002-12-17  GSM25356.CEL.gz   M\n",
       "3       CEU  2003-01-30  GSM25357.CEL.gz   M\n",
       "4       CEU  2003-01-03  GSM25358.CEL.gz   M"
      ]
     },
     "execution_count": 13,
     "metadata": {},
     "output_type": "execute_result"
    }
   ],
   "source": [
    "#your code here\n",
    "sampleinfo.head()"
   ]
  },
  {
   "cell_type": "markdown",
   "metadata": {},
   "source": [
    "#### Problem 1(b)\n",
    "\n",
    "Extract the year and month as integers from the `sampleinfo` table. \n",
    "\n",
    "**Hint**: To convert a Series or a column of a pandas DataFrame that contains a date-like object, you can use the `to_datetime` function [[read here](http://pandas.pydata.org/pandas-docs/stable/timeseries.html)].  This will create a `DatetimeIndex` which can be used to extract the month and year for each row in the DataFrame. "
   ]
  },
  {
   "cell_type": "code",
   "execution_count": 14,
   "metadata": {
    "collapsed": false
   },
   "outputs": [],
   "source": [
    "#your code here\n",
    "sampleinfo['DateIndex']=pd.to_datetime(sampleinfo['date'])"
   ]
  },
  {
   "cell_type": "code",
   "execution_count": 15,
   "metadata": {
    "collapsed": false
   },
   "outputs": [],
   "source": [
    "sampleinfo['year'] = sampleinfo['DateIndex'].apply(lambda x: x.year)\n",
    "sampleinfo['month'] = sampleinfo['DateIndex'].apply(lambda x: x.month)"
   ]
  },
  {
   "cell_type": "code",
   "execution_count": null,
   "metadata": {
    "collapsed": true
   },
   "outputs": [],
   "source": []
  },
  {
   "cell_type": "markdown",
   "metadata": {},
   "source": [
    "#### Problem 1(c)\n",
    "\n",
    "Convert the dates in the `date` column from the `sampleinfo` table into days since October 31, 2002. Add a column to the `sampleinfo` DataFrame titled `elapsedInDays` containing the days since October 31, 2002.  Show the head of the `sampleinfo` DataFrame which includes the new column.  \n",
    "\n",
    "**Hint**: Use the `datetime` module to create a new `datetime` object for the specific date October 31, 2002. Then, subtract the October 31, 2002 date from each date from the `date` column in the `sampleinfo` DataFrame. \n",
    "\n",
    "checkout difference between map and apply?"
   ]
  },
  {
   "cell_type": "code",
   "execution_count": 16,
   "metadata": {
    "collapsed": false
   },
   "outputs": [],
   "source": [
    "#your code here\n",
    "sampleinfo['elapsedInDays'] = map(lambda x: (x - pd.to_datetime('2002-10-31')).days,sampleinfo.DateIndex)"
   ]
  },
  {
   "cell_type": "code",
   "execution_count": 17,
   "metadata": {
    "collapsed": false
   },
   "outputs": [
    {
     "data": {
      "text/plain": [
       "0    96\n",
       "1    96\n",
       "2    47\n",
       "3    91\n",
       "4    64\n",
       "Name: elapsedInDays, dtype: int64"
      ]
     },
     "execution_count": 17,
     "metadata": {},
     "output_type": "execute_result"
    }
   ],
   "source": [
    "sampleinfo['elapsedInDays'].head()"
   ]
  },
  {
   "cell_type": "markdown",
   "metadata": {},
   "source": [
    "#### Problem 1(d)\n",
    "\n",
    "Use exploratory analysis and the singular value decomposition (SVD) of the gene expression data matrix to determine if the date the samples were processed has large effect on the variability seen in the data or if it is just ethnicity (which is confounded with date). \n",
    "\n",
    "**Hint**: See the end of the [lecture from 9/23/2014 for help with SVD](http://nbviewer.ipython.org/github/cs109/2014/blob/master/lectures/lecture07/data_scraping_transcript.ipynb). \n",
    "\n",
    "First subset the the `sampleinfo` DataFrame to include only the CEU ethnicity.  Call this new subsetted DataFrame `sampleinfoCEU`.  Show the head of `sampleinfoCEU` DataFrame. "
   ]
  },
  {
   "cell_type": "code",
   "execution_count": 18,
   "metadata": {
    "collapsed": false
   },
   "outputs": [
    {
     "data": {
      "text/html": [
       "<div>\n",
       "<table border=\"1\" class=\"dataframe\">\n",
       "  <thead>\n",
       "    <tr style=\"text-align: right;\">\n",
       "      <th></th>\n",
       "      <th>ethnicity</th>\n",
       "      <th>date</th>\n",
       "      <th>filename</th>\n",
       "      <th>sex</th>\n",
       "      <th>DateIndex</th>\n",
       "      <th>year</th>\n",
       "      <th>month</th>\n",
       "      <th>elapsedInDays</th>\n",
       "    </tr>\n",
       "  </thead>\n",
       "  <tbody>\n",
       "    <tr>\n",
       "      <th>0</th>\n",
       "      <td>CEU</td>\n",
       "      <td>2003-02-04</td>\n",
       "      <td>GSM25349.CEL.gz</td>\n",
       "      <td>M</td>\n",
       "      <td>2003-02-04</td>\n",
       "      <td>2003</td>\n",
       "      <td>2</td>\n",
       "      <td>96</td>\n",
       "    </tr>\n",
       "    <tr>\n",
       "      <th>1</th>\n",
       "      <td>CEU</td>\n",
       "      <td>2003-02-04</td>\n",
       "      <td>GSM25350.CEL.gz</td>\n",
       "      <td>M</td>\n",
       "      <td>2003-02-04</td>\n",
       "      <td>2003</td>\n",
       "      <td>2</td>\n",
       "      <td>96</td>\n",
       "    </tr>\n",
       "    <tr>\n",
       "      <th>2</th>\n",
       "      <td>CEU</td>\n",
       "      <td>2002-12-17</td>\n",
       "      <td>GSM25356.CEL.gz</td>\n",
       "      <td>M</td>\n",
       "      <td>2002-12-17</td>\n",
       "      <td>2002</td>\n",
       "      <td>12</td>\n",
       "      <td>47</td>\n",
       "    </tr>\n",
       "    <tr>\n",
       "      <th>3</th>\n",
       "      <td>CEU</td>\n",
       "      <td>2003-01-30</td>\n",
       "      <td>GSM25357.CEL.gz</td>\n",
       "      <td>M</td>\n",
       "      <td>2003-01-30</td>\n",
       "      <td>2003</td>\n",
       "      <td>1</td>\n",
       "      <td>91</td>\n",
       "    </tr>\n",
       "    <tr>\n",
       "      <th>4</th>\n",
       "      <td>CEU</td>\n",
       "      <td>2003-01-03</td>\n",
       "      <td>GSM25358.CEL.gz</td>\n",
       "      <td>M</td>\n",
       "      <td>2003-01-03</td>\n",
       "      <td>2003</td>\n",
       "      <td>1</td>\n",
       "      <td>64</td>\n",
       "    </tr>\n",
       "  </tbody>\n",
       "</table>\n",
       "</div>"
      ],
      "text/plain": [
       "  ethnicity        date         filename sex  DateIndex  year  month  \\\n",
       "0       CEU  2003-02-04  GSM25349.CEL.gz   M 2003-02-04  2003      2   \n",
       "1       CEU  2003-02-04  GSM25350.CEL.gz   M 2003-02-04  2003      2   \n",
       "2       CEU  2002-12-17  GSM25356.CEL.gz   M 2002-12-17  2002     12   \n",
       "3       CEU  2003-01-30  GSM25357.CEL.gz   M 2003-01-30  2003      1   \n",
       "4       CEU  2003-01-03  GSM25358.CEL.gz   M 2003-01-03  2003      1   \n",
       "\n",
       "   elapsedInDays  \n",
       "0             96  \n",
       "1             96  \n",
       "2             47  \n",
       "3             91  \n",
       "4             64  "
      ]
     },
     "execution_count": 18,
     "metadata": {},
     "output_type": "execute_result"
    }
   ],
   "source": [
    "#your code here\n",
    "sampleinfoCEU = sampleinfo.loc[sampleinfo.ethnicity == 'CEU']\n",
    "sampleinfoCEU.head()"
   ]
  },
  {
   "cell_type": "code",
   "execution_count": 19,
   "metadata": {
    "collapsed": false
   },
   "outputs": [
    {
     "data": {
      "text/plain": [
       "(102, 8)"
      ]
     },
     "execution_count": 19,
     "metadata": {},
     "output_type": "execute_result"
    }
   ],
   "source": [
    "sampleinfoCEU.shape"
   ]
  },
  {
   "cell_type": "markdown",
   "metadata": {},
   "source": [
    "Next, subset the `exprs` DataFrame to only include the samples with the CEU ethnicity. Name this new subsetted DataFrame `exprsCEU`. Show the head of the `exprsCEU` DataFrame. "
   ]
  },
  {
   "cell_type": "code",
   "execution_count": 20,
   "metadata": {
    "collapsed": false
   },
   "outputs": [
    {
     "data": {
      "text/html": [
       "<div>\n",
       "<table border=\"1\" class=\"dataframe\">\n",
       "  <thead>\n",
       "    <tr style=\"text-align: right;\">\n",
       "      <th></th>\n",
       "      <th>GSM25349.CEL.gz</th>\n",
       "      <th>GSM25350.CEL.gz</th>\n",
       "      <th>GSM25356.CEL.gz</th>\n",
       "      <th>GSM25357.CEL.gz</th>\n",
       "      <th>GSM25358.CEL.gz</th>\n",
       "      <th>GSM25359.CEL.gz</th>\n",
       "      <th>GSM25360.CEL.gz</th>\n",
       "      <th>GSM25361.CEL.gz</th>\n",
       "      <th>GSM25377.CEL.gz</th>\n",
       "      <th>GSM25378.CEL.gz</th>\n",
       "      <th>...</th>\n",
       "      <th>GSM48658.CEL.gz</th>\n",
       "      <th>GSM48660.CEL.gz</th>\n",
       "      <th>GSM48661.CEL.gz</th>\n",
       "      <th>GSM48662.CEL.gz</th>\n",
       "      <th>GSM48663.CEL.gz</th>\n",
       "      <th>GSM48664.CEL.gz</th>\n",
       "      <th>GSM48665.CEL.gz</th>\n",
       "      <th>GSM136725.CEL.gz</th>\n",
       "      <th>GSM136726.CEL.gz</th>\n",
       "      <th>GSM136727.CEL.gz</th>\n",
       "    </tr>\n",
       "  </thead>\n",
       "  <tbody>\n",
       "    <tr>\n",
       "      <th>1007_s_at</th>\n",
       "      <td>6.627014</td>\n",
       "      <td>6.249807</td>\n",
       "      <td>5.934128</td>\n",
       "      <td>6.145268</td>\n",
       "      <td>6.091270</td>\n",
       "      <td>6.041186</td>\n",
       "      <td>6.050375</td>\n",
       "      <td>6.063847</td>\n",
       "      <td>6.226106</td>\n",
       "      <td>6.358282</td>\n",
       "      <td>...</td>\n",
       "      <td>6.501510</td>\n",
       "      <td>6.558100</td>\n",
       "      <td>6.618286</td>\n",
       "      <td>6.869995</td>\n",
       "      <td>5.981000</td>\n",
       "      <td>6.403285</td>\n",
       "      <td>6.248702</td>\n",
       "      <td>6.488579</td>\n",
       "      <td>6.809481</td>\n",
       "      <td>6.133068</td>\n",
       "    </tr>\n",
       "    <tr>\n",
       "      <th>1053_at</th>\n",
       "      <td>6.939184</td>\n",
       "      <td>6.818038</td>\n",
       "      <td>7.047962</td>\n",
       "      <td>7.422477</td>\n",
       "      <td>7.272361</td>\n",
       "      <td>7.128216</td>\n",
       "      <td>6.750719</td>\n",
       "      <td>6.836287</td>\n",
       "      <td>6.738022</td>\n",
       "      <td>7.367895</td>\n",
       "      <td>...</td>\n",
       "      <td>7.066686</td>\n",
       "      <td>7.386702</td>\n",
       "      <td>6.407958</td>\n",
       "      <td>7.089180</td>\n",
       "      <td>7.120923</td>\n",
       "      <td>7.018998</td>\n",
       "      <td>7.155419</td>\n",
       "      <td>7.517410</td>\n",
       "      <td>7.200596</td>\n",
       "      <td>7.280781</td>\n",
       "    </tr>\n",
       "    <tr>\n",
       "      <th>117_at</th>\n",
       "      <td>5.113570</td>\n",
       "      <td>5.074096</td>\n",
       "      <td>5.371201</td>\n",
       "      <td>5.266550</td>\n",
       "      <td>5.342047</td>\n",
       "      <td>5.063876</td>\n",
       "      <td>5.315898</td>\n",
       "      <td>5.483652</td>\n",
       "      <td>6.689444</td>\n",
       "      <td>6.482782</td>\n",
       "      <td>...</td>\n",
       "      <td>5.600514</td>\n",
       "      <td>5.232676</td>\n",
       "      <td>5.630720</td>\n",
       "      <td>4.944748</td>\n",
       "      <td>5.275577</td>\n",
       "      <td>5.770358</td>\n",
       "      <td>5.616842</td>\n",
       "      <td>5.247190</td>\n",
       "      <td>5.237239</td>\n",
       "      <td>5.401876</td>\n",
       "    </tr>\n",
       "    <tr>\n",
       "      <th>121_at</th>\n",
       "      <td>7.833862</td>\n",
       "      <td>7.780682</td>\n",
       "      <td>7.458197</td>\n",
       "      <td>7.655948</td>\n",
       "      <td>7.546555</td>\n",
       "      <td>7.072670</td>\n",
       "      <td>7.092984</td>\n",
       "      <td>6.954225</td>\n",
       "      <td>7.489785</td>\n",
       "      <td>7.388539</td>\n",
       "      <td>...</td>\n",
       "      <td>7.437535</td>\n",
       "      <td>7.714650</td>\n",
       "      <td>7.416252</td>\n",
       "      <td>7.746448</td>\n",
       "      <td>8.001434</td>\n",
       "      <td>7.626723</td>\n",
       "      <td>7.452299</td>\n",
       "      <td>7.331864</td>\n",
       "      <td>7.357102</td>\n",
       "      <td>7.607461</td>\n",
       "    </tr>\n",
       "    <tr>\n",
       "      <th>1255_g_at</th>\n",
       "      <td>3.152269</td>\n",
       "      <td>3.111747</td>\n",
       "      <td>3.018932</td>\n",
       "      <td>3.154545</td>\n",
       "      <td>3.107954</td>\n",
       "      <td>3.224284</td>\n",
       "      <td>3.114241</td>\n",
       "      <td>3.044975</td>\n",
       "      <td>3.304038</td>\n",
       "      <td>2.887919</td>\n",
       "      <td>...</td>\n",
       "      <td>3.009983</td>\n",
       "      <td>3.151203</td>\n",
       "      <td>3.199709</td>\n",
       "      <td>3.159496</td>\n",
       "      <td>3.149710</td>\n",
       "      <td>3.242780</td>\n",
       "      <td>3.433125</td>\n",
       "      <td>3.175846</td>\n",
       "      <td>3.105092</td>\n",
       "      <td>3.225123</td>\n",
       "    </tr>\n",
       "  </tbody>\n",
       "</table>\n",
       "<p>5 rows × 102 columns</p>\n",
       "</div>"
      ],
      "text/plain": [
       "           GSM25349.CEL.gz  GSM25350.CEL.gz  GSM25356.CEL.gz  GSM25357.CEL.gz  \\\n",
       "1007_s_at         6.627014         6.249807         5.934128         6.145268   \n",
       "1053_at           6.939184         6.818038         7.047962         7.422477   \n",
       "117_at            5.113570         5.074096         5.371201         5.266550   \n",
       "121_at            7.833862         7.780682         7.458197         7.655948   \n",
       "1255_g_at         3.152269         3.111747         3.018932         3.154545   \n",
       "\n",
       "           GSM25358.CEL.gz  GSM25359.CEL.gz  GSM25360.CEL.gz  GSM25361.CEL.gz  \\\n",
       "1007_s_at         6.091270         6.041186         6.050375         6.063847   \n",
       "1053_at           7.272361         7.128216         6.750719         6.836287   \n",
       "117_at            5.342047         5.063876         5.315898         5.483652   \n",
       "121_at            7.546555         7.072670         7.092984         6.954225   \n",
       "1255_g_at         3.107954         3.224284         3.114241         3.044975   \n",
       "\n",
       "           GSM25377.CEL.gz  GSM25378.CEL.gz        ...         \\\n",
       "1007_s_at         6.226106         6.358282        ...          \n",
       "1053_at           6.738022         7.367895        ...          \n",
       "117_at            6.689444         6.482782        ...          \n",
       "121_at            7.489785         7.388539        ...          \n",
       "1255_g_at         3.304038         2.887919        ...          \n",
       "\n",
       "           GSM48658.CEL.gz  GSM48660.CEL.gz  GSM48661.CEL.gz  GSM48662.CEL.gz  \\\n",
       "1007_s_at         6.501510         6.558100         6.618286         6.869995   \n",
       "1053_at           7.066686         7.386702         6.407958         7.089180   \n",
       "117_at            5.600514         5.232676         5.630720         4.944748   \n",
       "121_at            7.437535         7.714650         7.416252         7.746448   \n",
       "1255_g_at         3.009983         3.151203         3.199709         3.159496   \n",
       "\n",
       "           GSM48663.CEL.gz  GSM48664.CEL.gz  GSM48665.CEL.gz  \\\n",
       "1007_s_at         5.981000         6.403285         6.248702   \n",
       "1053_at           7.120923         7.018998         7.155419   \n",
       "117_at            5.275577         5.770358         5.616842   \n",
       "121_at            8.001434         7.626723         7.452299   \n",
       "1255_g_at         3.149710         3.242780         3.433125   \n",
       "\n",
       "           GSM136725.CEL.gz  GSM136726.CEL.gz  GSM136727.CEL.gz  \n",
       "1007_s_at          6.488579          6.809481          6.133068  \n",
       "1053_at            7.517410          7.200596          7.280781  \n",
       "117_at             5.247190          5.237239          5.401876  \n",
       "121_at             7.331864          7.357102          7.607461  \n",
       "1255_g_at          3.175846          3.105092          3.225123  \n",
       "\n",
       "[5 rows x 102 columns]"
      ]
     },
     "execution_count": 20,
     "metadata": {},
     "output_type": "execute_result"
    }
   ],
   "source": [
    "#your code here\n",
    "\n",
    "exprsCEU = exprs[sampleinfoCEU.filename]\n",
    "exprsCEU.head()"
   ]
  },
  {
   "cell_type": "markdown",
   "metadata": {},
   "source": [
    "Check to make sure the order of the columns in the `exprsCEU` DataFrame matches the rows in the `sampleinfoCEU` DataFrame.  "
   ]
  },
  {
   "cell_type": "markdown",
   "metadata": {},
   "source": [
    "Compute the average gene expression intensity in the `exprsCEU` DataFrame across all the samples. For each sample in the `exprsCEU` DataFrame, subtract the average gene expression intensity from each of the samples. Show the head of the mean normalized gene expression data.  "
   ]
  },
  {
   "cell_type": "code",
   "execution_count": 21,
   "metadata": {
    "collapsed": false
   },
   "outputs": [
    {
     "data": {
      "text/plain": [
       "1007_s_at    6.261955\n",
       "1053_at      7.075217\n",
       "117_at       5.604127\n",
       "121_at       7.415835\n",
       "1255_g_at    3.133934\n",
       "dtype: float64"
      ]
     },
     "execution_count": 21,
     "metadata": {},
     "output_type": "execute_result"
    }
   ],
   "source": [
    "#your code here\n",
    "exprsCEU.mean(axis=1).head()"
   ]
  },
  {
   "cell_type": "code",
   "execution_count": 22,
   "metadata": {
    "collapsed": false
   },
   "outputs": [
    {
     "data": {
      "text/html": [
       "<div>\n",
       "<table border=\"1\" class=\"dataframe\">\n",
       "  <thead>\n",
       "    <tr style=\"text-align: right;\">\n",
       "      <th></th>\n",
       "      <th>GSM25349.CEL.gz</th>\n",
       "      <th>GSM25350.CEL.gz</th>\n",
       "      <th>GSM25356.CEL.gz</th>\n",
       "      <th>GSM25357.CEL.gz</th>\n",
       "      <th>GSM25358.CEL.gz</th>\n",
       "      <th>GSM25359.CEL.gz</th>\n",
       "      <th>GSM25360.CEL.gz</th>\n",
       "      <th>GSM25361.CEL.gz</th>\n",
       "      <th>GSM25377.CEL.gz</th>\n",
       "      <th>GSM25378.CEL.gz</th>\n",
       "      <th>...</th>\n",
       "      <th>GSM48658.CEL.gz</th>\n",
       "      <th>GSM48660.CEL.gz</th>\n",
       "      <th>GSM48661.CEL.gz</th>\n",
       "      <th>GSM48662.CEL.gz</th>\n",
       "      <th>GSM48663.CEL.gz</th>\n",
       "      <th>GSM48664.CEL.gz</th>\n",
       "      <th>GSM48665.CEL.gz</th>\n",
       "      <th>GSM136725.CEL.gz</th>\n",
       "      <th>GSM136726.CEL.gz</th>\n",
       "      <th>GSM136727.CEL.gz</th>\n",
       "    </tr>\n",
       "  </thead>\n",
       "  <tbody>\n",
       "    <tr>\n",
       "      <th>1007_s_at</th>\n",
       "      <td>0.365059</td>\n",
       "      <td>-0.012149</td>\n",
       "      <td>-0.327827</td>\n",
       "      <td>-0.116687</td>\n",
       "      <td>-0.170685</td>\n",
       "      <td>-0.220769</td>\n",
       "      <td>-0.211580</td>\n",
       "      <td>-0.198109</td>\n",
       "      <td>-0.035849</td>\n",
       "      <td>0.096327</td>\n",
       "      <td>...</td>\n",
       "      <td>0.239554</td>\n",
       "      <td>0.296144</td>\n",
       "      <td>0.356331</td>\n",
       "      <td>0.608040</td>\n",
       "      <td>-0.280956</td>\n",
       "      <td>0.141330</td>\n",
       "      <td>-0.013254</td>\n",
       "      <td>0.226624</td>\n",
       "      <td>0.547526</td>\n",
       "      <td>-0.128887</td>\n",
       "    </tr>\n",
       "    <tr>\n",
       "      <th>1053_at</th>\n",
       "      <td>-0.136032</td>\n",
       "      <td>-0.257178</td>\n",
       "      <td>-0.027254</td>\n",
       "      <td>0.347260</td>\n",
       "      <td>0.197144</td>\n",
       "      <td>0.053000</td>\n",
       "      <td>-0.324497</td>\n",
       "      <td>-0.238930</td>\n",
       "      <td>-0.337195</td>\n",
       "      <td>0.292678</td>\n",
       "      <td>...</td>\n",
       "      <td>-0.008531</td>\n",
       "      <td>0.311485</td>\n",
       "      <td>-0.667259</td>\n",
       "      <td>0.013964</td>\n",
       "      <td>0.045706</td>\n",
       "      <td>-0.056219</td>\n",
       "      <td>0.080203</td>\n",
       "      <td>0.442193</td>\n",
       "      <td>0.125379</td>\n",
       "      <td>0.205564</td>\n",
       "    </tr>\n",
       "    <tr>\n",
       "      <th>117_at</th>\n",
       "      <td>-0.490556</td>\n",
       "      <td>-0.530031</td>\n",
       "      <td>-0.232926</td>\n",
       "      <td>-0.337577</td>\n",
       "      <td>-0.262080</td>\n",
       "      <td>-0.540250</td>\n",
       "      <td>-0.288228</td>\n",
       "      <td>-0.120475</td>\n",
       "      <td>1.085317</td>\n",
       "      <td>0.878655</td>\n",
       "      <td>...</td>\n",
       "      <td>-0.003613</td>\n",
       "      <td>-0.371451</td>\n",
       "      <td>0.026594</td>\n",
       "      <td>-0.659379</td>\n",
       "      <td>-0.328549</td>\n",
       "      <td>0.166231</td>\n",
       "      <td>0.012716</td>\n",
       "      <td>-0.356936</td>\n",
       "      <td>-0.366887</td>\n",
       "      <td>-0.202251</td>\n",
       "    </tr>\n",
       "    <tr>\n",
       "      <th>121_at</th>\n",
       "      <td>0.418026</td>\n",
       "      <td>0.364847</td>\n",
       "      <td>0.042362</td>\n",
       "      <td>0.240113</td>\n",
       "      <td>0.130720</td>\n",
       "      <td>-0.343165</td>\n",
       "      <td>-0.322852</td>\n",
       "      <td>-0.461611</td>\n",
       "      <td>0.073949</td>\n",
       "      <td>-0.027296</td>\n",
       "      <td>...</td>\n",
       "      <td>0.021700</td>\n",
       "      <td>0.298814</td>\n",
       "      <td>0.000417</td>\n",
       "      <td>0.330612</td>\n",
       "      <td>0.585598</td>\n",
       "      <td>0.210887</td>\n",
       "      <td>0.036463</td>\n",
       "      <td>-0.083972</td>\n",
       "      <td>-0.058733</td>\n",
       "      <td>0.191626</td>\n",
       "    </tr>\n",
       "    <tr>\n",
       "      <th>1255_g_at</th>\n",
       "      <td>0.018335</td>\n",
       "      <td>-0.022187</td>\n",
       "      <td>-0.115002</td>\n",
       "      <td>0.020611</td>\n",
       "      <td>-0.025980</td>\n",
       "      <td>0.090351</td>\n",
       "      <td>-0.019693</td>\n",
       "      <td>-0.088959</td>\n",
       "      <td>0.170104</td>\n",
       "      <td>-0.246015</td>\n",
       "      <td>...</td>\n",
       "      <td>-0.123951</td>\n",
       "      <td>0.017269</td>\n",
       "      <td>0.065775</td>\n",
       "      <td>0.025562</td>\n",
       "      <td>0.015776</td>\n",
       "      <td>0.108846</td>\n",
       "      <td>0.299192</td>\n",
       "      <td>0.041912</td>\n",
       "      <td>-0.028842</td>\n",
       "      <td>0.091189</td>\n",
       "    </tr>\n",
       "  </tbody>\n",
       "</table>\n",
       "<p>5 rows × 102 columns</p>\n",
       "</div>"
      ],
      "text/plain": [
       "           GSM25349.CEL.gz  GSM25350.CEL.gz  GSM25356.CEL.gz  GSM25357.CEL.gz  \\\n",
       "1007_s_at         0.365059        -0.012149        -0.327827        -0.116687   \n",
       "1053_at          -0.136032        -0.257178        -0.027254         0.347260   \n",
       "117_at           -0.490556        -0.530031        -0.232926        -0.337577   \n",
       "121_at            0.418026         0.364847         0.042362         0.240113   \n",
       "1255_g_at         0.018335        -0.022187        -0.115002         0.020611   \n",
       "\n",
       "           GSM25358.CEL.gz  GSM25359.CEL.gz  GSM25360.CEL.gz  GSM25361.CEL.gz  \\\n",
       "1007_s_at        -0.170685        -0.220769        -0.211580        -0.198109   \n",
       "1053_at           0.197144         0.053000        -0.324497        -0.238930   \n",
       "117_at           -0.262080        -0.540250        -0.288228        -0.120475   \n",
       "121_at            0.130720        -0.343165        -0.322852        -0.461611   \n",
       "1255_g_at        -0.025980         0.090351        -0.019693        -0.088959   \n",
       "\n",
       "           GSM25377.CEL.gz  GSM25378.CEL.gz        ...         \\\n",
       "1007_s_at        -0.035849         0.096327        ...          \n",
       "1053_at          -0.337195         0.292678        ...          \n",
       "117_at            1.085317         0.878655        ...          \n",
       "121_at            0.073949        -0.027296        ...          \n",
       "1255_g_at         0.170104        -0.246015        ...          \n",
       "\n",
       "           GSM48658.CEL.gz  GSM48660.CEL.gz  GSM48661.CEL.gz  GSM48662.CEL.gz  \\\n",
       "1007_s_at         0.239554         0.296144         0.356331         0.608040   \n",
       "1053_at          -0.008531         0.311485        -0.667259         0.013964   \n",
       "117_at           -0.003613        -0.371451         0.026594        -0.659379   \n",
       "121_at            0.021700         0.298814         0.000417         0.330612   \n",
       "1255_g_at        -0.123951         0.017269         0.065775         0.025562   \n",
       "\n",
       "           GSM48663.CEL.gz  GSM48664.CEL.gz  GSM48665.CEL.gz  \\\n",
       "1007_s_at        -0.280956         0.141330        -0.013254   \n",
       "1053_at           0.045706        -0.056219         0.080203   \n",
       "117_at           -0.328549         0.166231         0.012716   \n",
       "121_at            0.585598         0.210887         0.036463   \n",
       "1255_g_at         0.015776         0.108846         0.299192   \n",
       "\n",
       "           GSM136725.CEL.gz  GSM136726.CEL.gz  GSM136727.CEL.gz  \n",
       "1007_s_at          0.226624          0.547526         -0.128887  \n",
       "1053_at            0.442193          0.125379          0.205564  \n",
       "117_at            -0.356936         -0.366887         -0.202251  \n",
       "121_at            -0.083972         -0.058733          0.191626  \n",
       "1255_g_at          0.041912         -0.028842          0.091189  \n",
       "\n",
       "[5 rows x 102 columns]"
      ]
     },
     "execution_count": 22,
     "metadata": {},
     "output_type": "execute_result"
    }
   ],
   "source": [
    "\n",
    "exprsCEU_mn = exprsCEU.apply(lambda x: x - exprsCEU.mean(axis=1))\n",
    "exprsCEU_mn.head()"
   ]
  },
  {
   "cell_type": "markdown",
   "metadata": {},
   "source": [
    "Using this mean normalized gene expression data, compute the projection to the first Principal Component (PC1).  \n",
    "\n",
    "**Hint**: Use the `numpy.linalg.svd()` function in the `numpy.linalg` module (or the `scipy.linalg.svd()` function in the `scipy.linalg` module) to apply an [singular value decomposition](http://en.wikipedia.org/wiki/Singular_value_decomposition) to a matrix. \n",
    "\n",
    "difference between svd and pca https://www.quora.com/What-is-an-intuitive-explanation-of-the-relation-between-PCA-and-SVD"
   ]
  },
  {
   "cell_type": "code",
   "execution_count": 23,
   "metadata": {
    "collapsed": true
   },
   "outputs": [],
   "source": [
    "import scipy.linalg as la"
   ]
  },
  {
   "cell_type": "code",
   "execution_count": 24,
   "metadata": {
    "collapsed": false
   },
   "outputs": [],
   "source": [
    "#your code here\n",
    "U,s,Vh = la.svd(exprsCEU_mn)\n"
   ]
  },
  {
   "cell_type": "code",
   "execution_count": 25,
   "metadata": {
    "collapsed": false
   },
   "outputs": [
    {
     "name": "stdout",
     "output_type": "stream",
     "text": [
      "(102,) (8793, 8793) (102, 102)\n"
     ]
    }
   ],
   "source": [
    "print s.shape,U.shape,Vh.shape"
   ]
  },
  {
   "cell_type": "code",
   "execution_count": 26,
   "metadata": {
    "collapsed": false
   },
   "outputs": [],
   "source": [
    "S = la.diagsvd(s, exprsCEU_mn.shape[0],exprsCEU_mn.shape[1])\n"
   ]
  },
  {
   "cell_type": "code",
   "execution_count": 27,
   "metadata": {
    "collapsed": true
   },
   "outputs": [],
   "source": [
    "projection = np.dot(Vh,S[:1,:].T)\n"
   ]
  },
  {
   "cell_type": "code",
   "execution_count": 28,
   "metadata": {
    "collapsed": false
   },
   "outputs": [
    {
     "name": "stdout",
     "output_type": "stream",
     "text": [
      "(102, 1)\n"
     ]
    }
   ],
   "source": [
    "print projection.shape"
   ]
  },
  {
   "cell_type": "markdown",
   "metadata": {},
   "source": [
    "Create a histogram using the values from PC1.  Use a bin size of 25.  "
   ]
  },
  {
   "cell_type": "code",
   "execution_count": null,
   "metadata": {
    "collapsed": true
   },
   "outputs": [],
   "source": []
  },
  {
   "cell_type": "code",
   "execution_count": 29,
   "metadata": {
    "collapsed": false
   },
   "outputs": [
    {
     "data": {
      "image/png": "[encoded data removed]",
      "text/plain": [
       "<matplotlib.figure.Figure at 0x1145e0110>"
      ]
     },
     "metadata": {},
     "output_type": "display_data"
    }
   ],
   "source": [
    "plt.hist(Vh[0,:],bins=25)\n",
    "plt.title(\"distribution of projection\")\n",
    "plt.xlabel(\"PC1\")\n",
    "plt.ylabel(\"Frequency\")\n",
    "plt.show()\n"
   ]
  },
  {
   "cell_type": "code",
   "execution_count": 30,
   "metadata": {
    "collapsed": false
   },
   "outputs": [
    {
     "data": {
      "image/png": "[encoded data removed]",
      "text/plain": [
       "<matplotlib.figure.Figure at 0x1145e01d0>"
      ]
     },
     "metadata": {},
     "output_type": "display_data"
    }
   ],
   "source": [
    "#your code here\n",
    "\n",
    "plt.hist(projection,bins=25)\n",
    "plt.title(\"distribution of projection\")\n",
    "plt.xlabel(\"projection\")\n",
    "plt.ylabel(\"Frequency\")\n",
    "plt.show()\n"
   ]
  },
  {
   "cell_type": "markdown",
   "metadata": {},
   "source": [
    "Create a scatter plot with the days since October 31, 2002 on the x-axis and PC1 on the y-axis."
   ]
  },
  {
   "cell_type": "code",
   "execution_count": 31,
   "metadata": {
    "collapsed": false
   },
   "outputs": [
    {
     "data": {
      "text/plain": [
       "<matplotlib.text.Text at 0x145544710>"
      ]
     },
     "execution_count": 31,
     "metadata": {},
     "output_type": "execute_result"
    },
    {
     "data": {
      "image/png": "[encoded data removed]",
      "text/plain": [
       "<matplotlib.figure.Figure at 0x1454b10d0>"
      ]
     },
     "metadata": {},
     "output_type": "display_data"
    }
   ],
   "source": [
    "#your code here\n",
    "plt.scatter(sampleinfoCEU.elapsedInDays,Vh[0,:])\n",
    "plt.xlabel('Elapsed In Days Since 10-31-2002')\n",
    "plt.ylabel('PC1')"
   ]
  },
  {
   "cell_type": "markdown",
   "metadata": {},
   "source": [
    "Around what day do you notice a difference in the way the samples were processed?"
   ]
  },
  {
   "cell_type": "code",
   "execution_count": 32,
   "metadata": {
    "collapsed": false,
    "scrolled": true
   },
   "outputs": [
    {
     "data": {
      "text/plain": [
       "<matplotlib.lines.Line2D at 0x1456ae250>"
      ]
     },
     "execution_count": 32,
     "metadata": {},
     "output_type": "execute_result"
    },
    {
     "data": {
      "image/png": "[encoded data removed]",
      "text/plain": [
       "<matplotlib.figure.Figure at 0x1455bb2d0>"
      ]
     },
     "metadata": {},
     "output_type": "display_data"
    }
   ],
   "source": [
    "#your code here\n",
    "plt.scatter(sampleinfoCEU.elapsedInDays,Vh[0,:])\n",
    "plt.xlabel('Elapsed In Days Since 10-31-2002')\n",
    "plt.ylabel('PC1')\n",
    "plt.xlim(0,170)\n",
    "plt.axvline(x=100,color='r')"
   ]
  },
  {
   "cell_type": "markdown",
   "metadata": {},
   "source": [
    "Answer:Difference Around day 100"
   ]
  },
  {
   "cell_type": "markdown",
   "metadata": {},
   "source": [
    "## Discussion for Problem 1\n",
    "\n",
    "*Write a brief discussion of your conclusions to the questions and tasks above in 100 words or less.*\n",
    "\n",
    "---\n"
   ]
  },
  {
   "cell_type": "markdown",
   "metadata": {},
   "source": [
    "## Problem 2: Is there a pollster bias in presidential election polls?"
   ]
  },
  {
   "cell_type": "markdown",
   "metadata": {},
   "source": [
    "#### Problem 2(a)\n",
    "\n",
    "The [HuffPost Pollster](http://elections.huffingtonpost.com/pollster) contains many political polls. You can access these polls from individual races as a CSV but you can also access polls through the [HuffPost Pollster API](http://elections.huffingtonpost.com/pollster/api) to access the data.  \n",
    "\n",
    "Read in the polls from the [2012 Presidential Election: Barack Obama vs Mitt Romney](http://elections.huffingtonpost.com/pollster/2012-general-election-romney-vs-obama) into a pandas DataFrame called `election`. For this problem, you may read in the polls for this race directly using [the CSV file](http://elections.huffingtonpost.com/pollster/2012-general-election-romney-vs-obama.csv) available from the HuffPost Pollster page."
   ]
  },
  {
   "cell_type": "code",
   "execution_count": 63,
   "metadata": {
    "collapsed": false
   },
   "outputs": [],
   "source": [
    "#your code here\n",
    "election = pd.read_csv('http://elections.huffingtonpost.com/pollster/2012-general-election-romney-vs-obama.csv')"
   ]
  },
  {
   "cell_type": "markdown",
   "metadata": {},
   "source": [
    "Show the head of the `election` DataFrame. "
   ]
  },
  {
   "cell_type": "code",
   "execution_count": 65,
   "metadata": {
    "collapsed": false
   },
   "outputs": [
    {
     "data": {
      "text/html": [
       "<div>\n",
       "<table border=\"1\" class=\"dataframe\">\n",
       "  <thead>\n",
       "    <tr style=\"text-align: right;\">\n",
       "      <th></th>\n",
       "      <th>Pollster</th>\n",
       "      <th>Start Date</th>\n",
       "      <th>End Date</th>\n",
       "      <th>Entry Date/Time (ET)</th>\n",
       "      <th>Number of Observations</th>\n",
       "      <th>Population</th>\n",
       "      <th>Mode</th>\n",
       "      <th>Obama</th>\n",
       "      <th>Romney</th>\n",
       "      <th>Undecided</th>\n",
       "      <th>Pollster URL</th>\n",
       "      <th>Source URL</th>\n",
       "      <th>Partisan</th>\n",
       "      <th>Affiliation</th>\n",
       "    </tr>\n",
       "  </thead>\n",
       "  <tbody>\n",
       "    <tr>\n",
       "      <th>0</th>\n",
       "      <td>Politico/GWU/Battleground</td>\n",
       "      <td>2012-11-04</td>\n",
       "      <td>2012-11-05</td>\n",
       "      <td>2012-11-06 2000-01-01 08:40:26 UTC</td>\n",
       "      <td>1000</td>\n",
       "      <td>Likely Voters</td>\n",
       "      <td>Live Phone</td>\n",
       "      <td>47</td>\n",
       "      <td>47</td>\n",
       "      <td>6</td>\n",
       "      <td>http://elections.huffingtonpost.com/pollster/p...</td>\n",
       "      <td>http://www.politico.com/news/stories/1112/8338...</td>\n",
       "      <td>Nonpartisan</td>\n",
       "      <td>None</td>\n",
       "    </tr>\n",
       "    <tr>\n",
       "      <th>1</th>\n",
       "      <td>UPI/CVOTER</td>\n",
       "      <td>2012-11-03</td>\n",
       "      <td>2012-11-05</td>\n",
       "      <td>2012-11-05 2000-01-01 18:30:15 UTC</td>\n",
       "      <td>3000</td>\n",
       "      <td>Likely Voters</td>\n",
       "      <td>Live Phone</td>\n",
       "      <td>49</td>\n",
       "      <td>48</td>\n",
       "      <td>NaN</td>\n",
       "      <td>http://elections.huffingtonpost.com/pollster/p...</td>\n",
       "      <td>NaN</td>\n",
       "      <td>Nonpartisan</td>\n",
       "      <td>None</td>\n",
       "    </tr>\n",
       "    <tr>\n",
       "      <th>2</th>\n",
       "      <td>Gravis Marketing</td>\n",
       "      <td>2012-11-03</td>\n",
       "      <td>2012-11-05</td>\n",
       "      <td>2012-11-06 2000-01-01 09:22:02 UTC</td>\n",
       "      <td>872</td>\n",
       "      <td>Likely Voters</td>\n",
       "      <td>Automated Phone</td>\n",
       "      <td>48</td>\n",
       "      <td>48</td>\n",
       "      <td>4</td>\n",
       "      <td>http://elections.huffingtonpost.com/pollster/p...</td>\n",
       "      <td>http://www.gravispolls.com/2012/11/gravis-mark...</td>\n",
       "      <td>Nonpartisan</td>\n",
       "      <td>None</td>\n",
       "    </tr>\n",
       "    <tr>\n",
       "      <th>3</th>\n",
       "      <td>JZ Analytics/Newsmax</td>\n",
       "      <td>2012-11-03</td>\n",
       "      <td>2012-11-05</td>\n",
       "      <td>2012-11-06 2000-01-01 07:38:41 UTC</td>\n",
       "      <td>1041</td>\n",
       "      <td>Likely Voters</td>\n",
       "      <td>Internet</td>\n",
       "      <td>47</td>\n",
       "      <td>47</td>\n",
       "      <td>6</td>\n",
       "      <td>http://elections.huffingtonpost.com/pollster/p...</td>\n",
       "      <td>http://www.jzanalytics.com/</td>\n",
       "      <td>Sponsor</td>\n",
       "      <td>Rep</td>\n",
       "    </tr>\n",
       "    <tr>\n",
       "      <th>4</th>\n",
       "      <td>Rasmussen</td>\n",
       "      <td>2012-11-03</td>\n",
       "      <td>2012-11-05</td>\n",
       "      <td>2012-11-06 2000-01-01 08:47:50 UTC</td>\n",
       "      <td>1500</td>\n",
       "      <td>Likely Voters</td>\n",
       "      <td>Automated Phone</td>\n",
       "      <td>48</td>\n",
       "      <td>49</td>\n",
       "      <td>NaN</td>\n",
       "      <td>http://elections.huffingtonpost.com/pollster/p...</td>\n",
       "      <td>http://www.rasmussenreports.com/public_content...</td>\n",
       "      <td>Nonpartisan</td>\n",
       "      <td>None</td>\n",
       "    </tr>\n",
       "  </tbody>\n",
       "</table>\n",
       "</div>"
      ],
      "text/plain": [
       "                    Pollster  Start Date    End Date  \\\n",
       "0  Politico/GWU/Battleground  2012-11-04  2012-11-05   \n",
       "1                 UPI/CVOTER  2012-11-03  2012-11-05   \n",
       "2           Gravis Marketing  2012-11-03  2012-11-05   \n",
       "3       JZ Analytics/Newsmax  2012-11-03  2012-11-05   \n",
       "4                  Rasmussen  2012-11-03  2012-11-05   \n",
       "\n",
       "                 Entry Date/Time (ET)  Number of Observations     Population  \\\n",
       "0  2012-11-06 2000-01-01 08:40:26 UTC                    1000  Likely Voters   \n",
       "1  2012-11-05 2000-01-01 18:30:15 UTC                    3000  Likely Voters   \n",
       "2  2012-11-06 2000-01-01 09:22:02 UTC                     872  Likely Voters   \n",
       "3  2012-11-06 2000-01-01 07:38:41 UTC                    1041  Likely Voters   \n",
       "4  2012-11-06 2000-01-01 08:47:50 UTC                    1500  Likely Voters   \n",
       "\n",
       "              Mode  Obama  Romney  Undecided  \\\n",
       "0       Live Phone     47      47          6   \n",
       "1       Live Phone     49      48        NaN   \n",
       "2  Automated Phone     48      48          4   \n",
       "3         Internet     47      47          6   \n",
       "4  Automated Phone     48      49        NaN   \n",
       "\n",
       "                                        Pollster URL  \\\n",
       "0  http://elections.huffingtonpost.com/pollster/p...   \n",
       "1  http://elections.huffingtonpost.com/pollster/p...   \n",
       "2  http://elections.huffingtonpost.com/pollster/p...   \n",
       "3  http://elections.huffingtonpost.com/pollster/p...   \n",
       "4  http://elections.huffingtonpost.com/pollster/p...   \n",
       "\n",
       "                                          Source URL     Partisan Affiliation  \n",
       "0  http://www.politico.com/news/stories/1112/8338...  Nonpartisan        None  \n",
       "1                                                NaN  Nonpartisan        None  \n",
       "2  http://www.gravispolls.com/2012/11/gravis-mark...  Nonpartisan        None  \n",
       "3                        http://www.jzanalytics.com/      Sponsor         Rep  \n",
       "4  http://www.rasmussenreports.com/public_content...  Nonpartisan        None  "
      ]
     },
     "execution_count": 65,
     "metadata": {},
     "output_type": "execute_result"
    }
   ],
   "source": [
    "#your code here\n",
    "election.head()"
   ]
  },
  {
   "cell_type": "markdown",
   "metadata": {},
   "source": [
    "How many polls were conducted in November? Define this number as M.  \n",
    "\n",
    "**Hint**: Subset the `election` DataFrame for only dates in the `Start Date` column that are in November 2012.  "
   ]
  },
  {
   "cell_type": "code",
   "execution_count": null,
   "metadata": {
    "collapsed": true
   },
   "outputs": [],
   "source": []
  },
  {
   "cell_type": "code",
   "execution_count": 126,
   "metadata": {
    "collapsed": false
   },
   "outputs": [],
   "source": [
    "#your code here\n",
    "election[\"Start Date\"] = pd.to_datetime(election[\"Start Date\"])\n",
    "#your code here\n",
    "subset_election = election.loc[map(lambda x: x.month == 11 and x.year == 2012, election[\"Start Date\"])]\n",
    "subset_election.drop_duplicates(\"Pollster\",inplace=True)\n",
    "M = subset_election.shape[0]"
   ]
  },
  {
   "cell_type": "code",
   "execution_count": null,
   "metadata": {
    "collapsed": true
   },
   "outputs": [],
   "source": []
  },
  {
   "cell_type": "code",
   "execution_count": 127,
   "metadata": {
    "collapsed": false
   },
   "outputs": [
    {
     "name": "stdout",
     "output_type": "stream",
     "text": [
      "18\n"
     ]
    }
   ],
   "source": [
    "print M"
   ]
  },
  {
   "cell_type": "markdown",
   "metadata": {},
   "source": [
    "Answer:"
   ]
  },
  {
   "cell_type": "markdown",
   "metadata": {},
   "source": [
    "What was the median of the number of observations in the November polls? Define this quantity as N. "
   ]
  },
  {
   "cell_type": "code",
   "execution_count": 74,
   "metadata": {
    "collapsed": false
   },
   "outputs": [],
   "source": [
    "#your code here\n",
    "N = election.loc[election[\"Start Date\"].apply(lambda x: x.month==11 and x.year == 2012),\"Number of Observations\"].median()"
   ]
  },
  {
   "cell_type": "code",
   "execution_count": 75,
   "metadata": {
    "collapsed": false
   },
   "outputs": [
    {
     "name": "stdout",
     "output_type": "stream",
     "text": [
      "1200.0\n"
     ]
    }
   ],
   "source": [
    "print N"
   ]
  },
  {
   "cell_type": "markdown",
   "metadata": {},
   "source": [
    "Answer: "
   ]
  },
  {
   "cell_type": "markdown",
   "metadata": {},
   "source": [
    "#### Problem 2(b)\n",
    "\n",
    "Using the median sample size $N$ from Problem 1(a), simulate the results from a single poll:  simulate the number of votes for Obama out of a sample size $N$ where $p$ = 0.53 is the percent of voters who are voting for Obama.  \n",
    "\n",
    "**Hint**: Use the binomial distribution with parameters $N$ and $p$ = 0.53. "
   ]
  },
  {
   "cell_type": "code",
   "execution_count": 76,
   "metadata": {
    "collapsed": false
   },
   "outputs": [
    {
     "name": "stdout",
     "output_type": "stream",
     "text": [
      "625\n"
     ]
    }
   ],
   "source": [
    "#your code here\n",
    "simu_poll = np.random.binomial(N,p=0.53)\n",
    "print simu_poll"
   ]
  },
  {
   "cell_type": "markdown",
   "metadata": {},
   "source": [
    "Now, perform a Monte Carlo simulation to obtain the estimated percentage of Obama votes with a sample size $N$ where $N$ is the median sample size calculated in Problem 2(a). Let $p$=0.53 be the percent of voters are voting for Obama. \n",
    "\n",
    "**Hint**: You will repeat the simulation above 1,000 times and plot the distribution of the estimated *percent* of Obama votes from a single poll.  The results from the single poll you simulate is random variable and will be different every time you sample. "
   ]
  },
  {
   "cell_type": "code",
   "execution_count": 79,
   "metadata": {
    "collapsed": false
   },
   "outputs": [],
   "source": [
    "simu_poll_sample= np.random.binomial(N,0.53,1000)\n",
    "#your code here"
   ]
  },
  {
   "cell_type": "markdown",
   "metadata": {},
   "source": [
    "Plot the distribution of the estimated percentage of Obama votes from your single poll. What is the distribution of the estimated percentage of Obama votes? "
   ]
  },
  {
   "cell_type": "code",
   "execution_count": 84,
   "metadata": {
    "collapsed": false
   },
   "outputs": [
    {
     "data": {
      "text/plain": [
       "<matplotlib.axes._subplots.AxesSubplot at 0x11ba0cc90>"
      ]
     },
     "execution_count": 84,
     "metadata": {},
     "output_type": "execute_result"
    },
    {
     "data": {
      "image/png": "[encoded data removed]",
      "text/plain": [
       "<matplotlib.figure.Figure at 0x11ba362d0>"
      ]
     },
     "metadata": {},
     "output_type": "display_data"
    }
   ],
   "source": [
    "#your code here\n",
    "simu_result = pd.DataFrame(simu_poll_sample/N)\n",
    "simu_result.plot(kind='kde')"
   ]
  },
  {
   "cell_type": "markdown",
   "metadata": {},
   "source": [
    "Answer: "
   ]
  },
  {
   "cell_type": "markdown",
   "metadata": {},
   "source": [
    "What is the standard error (SE) of the estimated percentage from the poll. \n",
    "\n",
    "**Hint**: Remember the SE is the standard deviation (SD) of the distribution of a random variable. "
   ]
  },
  {
   "cell_type": "code",
   "execution_count": 103,
   "metadata": {
    "collapsed": false
   },
   "outputs": [],
   "source": [
    "#your code here\n",
    "std_single = simu_result.std()"
   ]
  },
  {
   "cell_type": "code",
   "execution_count": 91,
   "metadata": {
    "collapsed": false
   },
   "outputs": [
    {
     "data": {
      "text/plain": [
       "array([[ 1.04985595],\n",
       "       [ 0.07255055],\n",
       "       [-1.24968615],\n",
       "       [-1.70959457],\n",
       "       [ 0.24501621],\n",
       "       [ 1.39478726],\n",
       "       [-2.45694576],\n",
       "       [ 0.41748187],\n",
       "       [-0.27238076],\n",
       "       [-0.67480063],\n",
       "       [-0.04242655],\n",
       "       [-1.93954878],\n",
       "       [-0.15740366],\n",
       "       [-1.30717471],\n",
       "       [-0.32986931],\n",
       "       [ 1.04985595],\n",
       "       [-1.42215181],\n",
       "       [ 1.16483305],\n",
       "       [ 0.87739029],\n",
       "       [-1.47964036],\n",
       "       [-0.50233497],\n",
       "       [ 1.50976436],\n",
       "       [-0.78977773],\n",
       "       [-0.61731208],\n",
       "       [-0.78977773],\n",
       "       [ 0.35999332],\n",
       "       [ 1.1073445 ],\n",
       "       [ 2.02716134],\n",
       "       [-1.36466326],\n",
       "       [-1.99703734],\n",
       "       [-0.61731208],\n",
       "       [ 0.24501621],\n",
       "       [-0.67480063],\n",
       "       [ 0.07255055],\n",
       "       [ 0.24501621],\n",
       "       [-0.67480063],\n",
       "       [ 2.54455831],\n",
       "       [ 1.79720713],\n",
       "       [ 0.70492463],\n",
       "       [ 1.50976436],\n",
       "       [ 0.99236739],\n",
       "       [-1.36466326],\n",
       "       [-0.04242655],\n",
       "       [ 0.47497042],\n",
       "       [-0.44484642],\n",
       "       [-0.50233497],\n",
       "       [ 0.99236739],\n",
       "       [-0.78977773],\n",
       "       [ 0.41748187],\n",
       "       [ 0.24501621],\n",
       "       [-0.38735787],\n",
       "       [ 0.35999332],\n",
       "       [ 0.13003911],\n",
       "       [-0.61731208],\n",
       "       [-0.73228918],\n",
       "       [-0.27238076],\n",
       "       [ 0.99236739],\n",
       "       [-1.13470905],\n",
       "       [-1.13470905],\n",
       "       [-0.38735787],\n",
       "       [ 0.58994753],\n",
       "       [ 0.99236739],\n",
       "       [ 0.18752766],\n",
       "       [-1.76708313],\n",
       "       [ 1.50976436],\n",
       "       [-0.44484642],\n",
       "       [ 0.93487884],\n",
       "       [-1.0772205 ],\n",
       "       [-0.27238076],\n",
       "       [ 0.015062  ],\n",
       "       [-1.36466326],\n",
       "       [-0.96224339],\n",
       "       [ 1.16483305],\n",
       "       [ 0.24501621],\n",
       "       [-0.04242655],\n",
       "       [ 1.68223002],\n",
       "       [-1.76708313],\n",
       "       [-1.01973194],\n",
       "       [ 0.07255055],\n",
       "       [-1.0772205 ],\n",
       "       [ 0.93487884],\n",
       "       [ 0.93487884],\n",
       "       [ 0.24501621],\n",
       "       [-1.65210602],\n",
       "       [ 0.70492463],\n",
       "       [ 1.04985595],\n",
       "       [-2.45694576],\n",
       "       [-0.04242655],\n",
       "       [ 2.37209265],\n",
       "       [ 0.58994753],\n",
       "       [ 0.41748187],\n",
       "       [ 0.93487884],\n",
       "       [ 0.07255055],\n",
       "       [-0.67480063],\n",
       "       [ 0.47497042],\n",
       "       [ 0.41748187],\n",
       "       [ 1.39478726],\n",
       "       [ 0.81990174],\n",
       "       [-0.84726629],\n",
       "       [-0.32986931],\n",
       "       [-1.88206023],\n",
       "       [-1.13470905],\n",
       "       [-0.78977773],\n",
       "       [-1.70959457],\n",
       "       [-0.44484642],\n",
       "       [-0.84726629],\n",
       "       [ 1.45227581],\n",
       "       [-0.21489221],\n",
       "       [ 0.58994753],\n",
       "       [-0.67480063],\n",
       "       [-0.50233497],\n",
       "       [-0.32986931],\n",
       "       [-0.15740366],\n",
       "       [ 1.04985595],\n",
       "       [ 0.18752766],\n",
       "       [-0.15740366],\n",
       "       [ 0.99236739],\n",
       "       [ 0.93487884],\n",
       "       [ 2.02716134],\n",
       "       [ 0.35999332],\n",
       "       [-1.36466326],\n",
       "       [ 0.87739029],\n",
       "       [ 0.30250476],\n",
       "       [-0.67480063],\n",
       "       [ 0.53245897],\n",
       "       [ 0.87739029],\n",
       "       [ 2.83200107],\n",
       "       [-0.38735787],\n",
       "       [ 0.35999332],\n",
       "       [-0.15740366],\n",
       "       [-0.50233497],\n",
       "       [ 0.81990174],\n",
       "       [ 0.30250476],\n",
       "       [ 0.87739029],\n",
       "       [ 0.76241318],\n",
       "       [-0.27238076],\n",
       "       [ 0.015062  ],\n",
       "       [ 0.64743608],\n",
       "       [-1.65210602],\n",
       "       [-0.50233497],\n",
       "       [ 0.18752766],\n",
       "       [-0.0999151 ],\n",
       "       [-1.24968615],\n",
       "       [ 0.87739029],\n",
       "       [-0.78977773],\n",
       "       [-0.55982352],\n",
       "       [-0.38735787],\n",
       "       [ 0.93487884],\n",
       "       [ 1.2223216 ],\n",
       "       [ 0.47497042],\n",
       "       [ 1.27981015],\n",
       "       [-2.05452589],\n",
       "       [-0.21489221],\n",
       "       [-0.84726629],\n",
       "       [-1.01973194],\n",
       "       [ 0.13003911],\n",
       "       [-0.04242655],\n",
       "       [ 0.64743608],\n",
       "       [ 0.64743608],\n",
       "       [-0.0999151 ],\n",
       "       [-1.13470905],\n",
       "       [-1.13470905],\n",
       "       [-0.61731208],\n",
       "       [-1.65210602],\n",
       "       [ 0.30250476],\n",
       "       [ 0.35999332],\n",
       "       [ 0.64743608],\n",
       "       [-0.04242655],\n",
       "       [-1.76708313],\n",
       "       [-0.0999151 ],\n",
       "       [-0.67480063],\n",
       "       [-0.67480063],\n",
       "       [-1.13470905],\n",
       "       [ 0.18752766],\n",
       "       [ 1.45227581],\n",
       "       [ 1.62474147],\n",
       "       [-0.27238076],\n",
       "       [-0.27238076],\n",
       "       [ 1.39478726],\n",
       "       [ 0.87739029],\n",
       "       [ 0.18752766],\n",
       "       [-1.42215181],\n",
       "       [ 1.04985595],\n",
       "       [-0.84726629],\n",
       "       [ 1.56725292],\n",
       "       [-0.04242655],\n",
       "       [ 2.88948962],\n",
       "       [ 1.45227581],\n",
       "       [ 1.27981015],\n",
       "       [ 0.76241318],\n",
       "       [ 0.13003911],\n",
       "       [-0.21489221],\n",
       "       [ 0.13003911],\n",
       "       [ 1.04985595],\n",
       "       [ 0.24501621],\n",
       "       [-0.96224339],\n",
       "       [ 0.64743608],\n",
       "       [ 0.64743608],\n",
       "       [ 0.64743608],\n",
       "       [-0.73228918],\n",
       "       [-1.1921976 ],\n",
       "       [ 0.93487884],\n",
       "       [ 0.47497042],\n",
       "       [-0.21489221],\n",
       "       [ 0.13003911],\n",
       "       [-0.44484642],\n",
       "       [ 0.53245897],\n",
       "       [-0.90475484],\n",
       "       [ 0.81990174],\n",
       "       [ 0.64743608],\n",
       "       [-1.76708313],\n",
       "       [ 0.015062  ],\n",
       "       [ 0.93487884],\n",
       "       [-0.21489221],\n",
       "       [-0.38735787],\n",
       "       [-0.73228918],\n",
       "       [ 0.18752766],\n",
       "       [-1.30717471],\n",
       "       [ 0.70492463],\n",
       "       [ 0.35999332],\n",
       "       [ 0.93487884],\n",
       "       [ 0.35999332],\n",
       "       [-0.67480063],\n",
       "       [ 0.30250476],\n",
       "       [-1.76708313],\n",
       "       [-0.15740366],\n",
       "       [ 2.37209265],\n",
       "       [-0.04242655],\n",
       "       [ 0.13003911],\n",
       "       [ 1.04985595],\n",
       "       [ 1.73971857],\n",
       "       [-0.50233497],\n",
       "       [-1.42215181],\n",
       "       [-1.47964036],\n",
       "       [-0.96224339],\n",
       "       [ 0.53245897],\n",
       "       [-0.32986931],\n",
       "       [-0.96224339],\n",
       "       [ 0.47497042],\n",
       "       [ 0.53245897],\n",
       "       [ 1.68223002],\n",
       "       [-1.1921976 ],\n",
       "       [-0.0999151 ],\n",
       "       [ 0.47497042],\n",
       "       [ 0.015062  ],\n",
       "       [-0.27238076],\n",
       "       [-0.73228918],\n",
       "       [ 0.35999332],\n",
       "       [-1.24968615],\n",
       "       [ 0.70492463],\n",
       "       [-1.99703734],\n",
       "       [ 0.47497042],\n",
       "       [ 0.24501621],\n",
       "       [-0.55982352],\n",
       "       [-0.21489221],\n",
       "       [-0.32986931],\n",
       "       [ 0.58994753],\n",
       "       [-1.0772205 ],\n",
       "       [-1.36466326],\n",
       "       [ 1.1073445 ],\n",
       "       [-0.27238076],\n",
       "       [ 0.07255055],\n",
       "       [ 0.13003911],\n",
       "       [-0.04242655],\n",
       "       [ 0.76241318],\n",
       "       [ 0.30250476],\n",
       "       [-0.32986931],\n",
       "       [-0.61731208],\n",
       "       [-0.61731208],\n",
       "       [ 0.24501621],\n",
       "       [-0.73228918],\n",
       "       [ 0.76241318],\n",
       "       [-1.36466326],\n",
       "       [ 0.07255055],\n",
       "       [ 0.53245897],\n",
       "       [ 0.64743608],\n",
       "       [-1.70959457],\n",
       "       [-1.24968615],\n",
       "       [ 0.41748187],\n",
       "       [ 1.16483305],\n",
       "       [ 0.58994753],\n",
       "       [-1.76708313],\n",
       "       [ 1.50976436],\n",
       "       [-0.55982352],\n",
       "       [-1.1921976 ],\n",
       "       [ 1.2223216 ],\n",
       "       [ 0.30250476],\n",
       "       [-0.27238076],\n",
       "       [ 0.58994753],\n",
       "       [-0.38735787],\n",
       "       [ 0.64743608],\n",
       "       [ 0.99236739],\n",
       "       [ 0.58994753],\n",
       "       [-1.0772205 ],\n",
       "       [ 0.24501621],\n",
       "       [-0.90475484],\n",
       "       [-0.73228918],\n",
       "       [-0.61731208],\n",
       "       [ 0.13003911],\n",
       "       [ 1.1073445 ],\n",
       "       [ 0.24501621],\n",
       "       [ 0.07255055],\n",
       "       [ 0.99236739],\n",
       "       [-2.68689997],\n",
       "       [ 0.13003911],\n",
       "       [ 0.64743608],\n",
       "       [-0.38735787],\n",
       "       [-0.90475484],\n",
       "       [-1.65210602],\n",
       "       [ 0.015062  ],\n",
       "       [ 0.13003911],\n",
       "       [-0.04242655],\n",
       "       [ 0.76241318],\n",
       "       [-0.27238076],\n",
       "       [ 0.41748187],\n",
       "       [ 0.47497042],\n",
       "       [-0.90475484],\n",
       "       [ 0.015062  ],\n",
       "       [ 0.18752766],\n",
       "       [-0.90475484],\n",
       "       [ 0.24501621],\n",
       "       [-2.11201444],\n",
       "       [ 2.19962699],\n",
       "       [-3.83667101],\n",
       "       [ 0.87739029],\n",
       "       [ 0.70492463],\n",
       "       [ 0.07255055],\n",
       "       [ 0.18752766],\n",
       "       [-0.21489221],\n",
       "       [-0.90475484],\n",
       "       [-0.55982352],\n",
       "       [-1.24968615],\n",
       "       [ 0.99236739],\n",
       "       [ 1.33729871],\n",
       "       [ 1.79720713],\n",
       "       [-0.67480063],\n",
       "       [-1.42215181],\n",
       "       [-0.61731208],\n",
       "       [-1.01973194],\n",
       "       [-0.0999151 ],\n",
       "       [-0.21489221],\n",
       "       [-0.15740366],\n",
       "       [-0.04242655],\n",
       "       [ 1.04985595],\n",
       "       [-1.47964036],\n",
       "       [-0.15740366],\n",
       "       [ 0.07255055],\n",
       "       [-1.36466326],\n",
       "       [ 1.1073445 ],\n",
       "       [-0.38735787],\n",
       "       [ 0.07255055],\n",
       "       [ 0.47497042],\n",
       "       [-1.70959457],\n",
       "       [-0.84726629],\n",
       "       [ 0.87739029],\n",
       "       [ 1.33729871],\n",
       "       [ 1.27981015],\n",
       "       [-1.70959457],\n",
       "       [ 1.45227581],\n",
       "       [-0.90475484],\n",
       "       [ 0.24501621],\n",
       "       [-0.55982352],\n",
       "       [ 0.47497042],\n",
       "       [ 0.87739029],\n",
       "       [-0.55982352],\n",
       "       [ 0.76241318],\n",
       "       [ 1.39478726],\n",
       "       [-0.15740366],\n",
       "       [-0.04242655],\n",
       "       [ 0.13003911],\n",
       "       [-0.78977773],\n",
       "       [-2.11201444],\n",
       "       [ 0.93487884],\n",
       "       [-0.04242655],\n",
       "       [ 0.76241318],\n",
       "       [-0.44484642],\n",
       "       [-0.15740366],\n",
       "       [-0.32986931],\n",
       "       [-0.32986931],\n",
       "       [-1.59461747],\n",
       "       [-1.0772205 ],\n",
       "       [-0.61731208],\n",
       "       [-0.84726629],\n",
       "       [-1.1921976 ],\n",
       "       [ 0.35999332],\n",
       "       [-0.61731208],\n",
       "       [ 1.45227581],\n",
       "       [-0.38735787],\n",
       "       [ 0.18752766],\n",
       "       [ 1.27981015],\n",
       "       [-0.04242655],\n",
       "       [-1.93954878],\n",
       "       [-1.30717471],\n",
       "       [ 0.58994753],\n",
       "       [-0.78977773],\n",
       "       [ 0.47497042],\n",
       "       [-0.32986931],\n",
       "       [ 1.1073445 ],\n",
       "       [-1.30717471],\n",
       "       [ 0.30250476],\n",
       "       [ 0.93487884],\n",
       "       [ 0.24501621],\n",
       "       [ 0.64743608],\n",
       "       [ 1.2223216 ],\n",
       "       [ 0.81990174],\n",
       "       [ 0.99236739],\n",
       "       [ 0.87739029],\n",
       "       [ 0.81990174],\n",
       "       [ 0.47497042],\n",
       "       [-0.55982352],\n",
       "       [ 0.41748187],\n",
       "       [ 0.47497042],\n",
       "       [ 2.94697818],\n",
       "       [-0.21489221],\n",
       "       [-1.01973194],\n",
       "       [ 0.58994753],\n",
       "       [ 1.27981015],\n",
       "       [-0.61731208],\n",
       "       [-0.27238076],\n",
       "       [-0.61731208],\n",
       "       [ 1.56725292],\n",
       "       [ 0.93487884],\n",
       "       [ 1.33729871],\n",
       "       [ 0.58994753],\n",
       "       [ 0.76241318],\n",
       "       [ 1.2223216 ],\n",
       "       [ 0.41748187],\n",
       "       [-0.78977773],\n",
       "       [ 0.81990174],\n",
       "       [ 0.99236739],\n",
       "       [-0.32986931],\n",
       "       [ 0.81990174],\n",
       "       [-0.0999151 ],\n",
       "       [ 1.85469568],\n",
       "       [-0.44484642],\n",
       "       [-0.84726629],\n",
       "       [ 0.87739029],\n",
       "       [-0.96224339],\n",
       "       [ 0.015062  ],\n",
       "       [ 0.015062  ],\n",
       "       [ 1.04985595],\n",
       "       [ 1.33729871],\n",
       "       [-0.96224339],\n",
       "       [-0.55982352],\n",
       "       [ 0.13003911],\n",
       "       [ 0.64743608],\n",
       "       [-0.27238076],\n",
       "       [ 0.07255055],\n",
       "       [ 0.41748187],\n",
       "       [-2.22699155],\n",
       "       [ 0.13003911],\n",
       "       [-1.47964036],\n",
       "       [-1.70959457],\n",
       "       [ 0.41748187],\n",
       "       [-1.1921976 ],\n",
       "       [ 0.47497042],\n",
       "       [ 0.18752766],\n",
       "       [ 1.56725292],\n",
       "       [ 0.13003911],\n",
       "       [ 0.53245897],\n",
       "       [-0.0999151 ],\n",
       "       [ 0.81990174],\n",
       "       [-0.21489221],\n",
       "       [ 1.04985595],\n",
       "       [-0.50233497],\n",
       "       [ 0.18752766],\n",
       "       [-1.1921976 ],\n",
       "       [-0.90475484],\n",
       "       [-0.32986931],\n",
       "       [-0.15740366],\n",
       "       [-0.27238076],\n",
       "       [ 0.58994753],\n",
       "       [ 1.33729871],\n",
       "       [-0.96224339],\n",
       "       [ 1.39478726],\n",
       "       [ 1.62474147],\n",
       "       [-0.27238076],\n",
       "       [-2.3994572 ],\n",
       "       [-1.30717471],\n",
       "       [-1.13470905],\n",
       "       [ 1.45227581],\n",
       "       [-2.51443431],\n",
       "       [ 0.47497042],\n",
       "       [-1.30717471],\n",
       "       [-0.78977773],\n",
       "       [ 0.81990174],\n",
       "       [ 2.60204686],\n",
       "       [-0.15740366],\n",
       "       [-0.84726629],\n",
       "       [-1.76708313],\n",
       "       [ 0.07255055],\n",
       "       [-0.44484642],\n",
       "       [-1.47964036],\n",
       "       [-1.70959457],\n",
       "       [ 0.87739029],\n",
       "       [ 0.24501621],\n",
       "       [-0.73228918],\n",
       "       [ 0.58994753],\n",
       "       [-1.1921976 ],\n",
       "       [-0.73228918],\n",
       "       [-1.65210602],\n",
       "       [-1.99703734],\n",
       "       [-0.84726629],\n",
       "       [-0.32986931],\n",
       "       [ 0.30250476],\n",
       "       [ 0.13003911],\n",
       "       [-0.21489221],\n",
       "       [ 0.47497042],\n",
       "       [-0.73228918],\n",
       "       [-0.21489221],\n",
       "       [ 0.81990174],\n",
       "       [ 0.30250476],\n",
       "       [-0.96224339],\n",
       "       [ 0.93487884],\n",
       "       [-0.44484642],\n",
       "       [-0.27238076],\n",
       "       [ 1.68223002],\n",
       "       [ 2.37209265],\n",
       "       [-0.0999151 ],\n",
       "       [ 0.18752766],\n",
       "       [-1.59461747],\n",
       "       [ 1.85469568],\n",
       "       [-0.32986931],\n",
       "       [-0.90475484],\n",
       "       [ 1.1073445 ],\n",
       "       [ 0.07255055],\n",
       "       [ 0.35999332],\n",
       "       [-0.04242655],\n",
       "       [-1.1921976 ],\n",
       "       [ 0.99236739],\n",
       "       [ 0.35999332],\n",
       "       [ 0.58994753],\n",
       "       [ 1.68223002],\n",
       "       [-0.38735787],\n",
       "       [-1.36466326],\n",
       "       [ 0.64743608],\n",
       "       [-0.50233497],\n",
       "       [ 1.56725292],\n",
       "       [ 0.99236739],\n",
       "       [-0.50233497],\n",
       "       [ 1.85469568],\n",
       "       [-1.36466326],\n",
       "       [-0.38735787],\n",
       "       [-1.30717471],\n",
       "       [ 1.39478726],\n",
       "       [ 0.70492463],\n",
       "       [ 0.47497042],\n",
       "       [-1.36466326],\n",
       "       [ 0.015062  ],\n",
       "       [ 0.18752766],\n",
       "       [-0.04242655],\n",
       "       [ 1.68223002],\n",
       "       [-0.04242655],\n",
       "       [-0.84726629],\n",
       "       [-0.38735787],\n",
       "       [-0.84726629],\n",
       "       [ 0.81990174],\n",
       "       [-0.15740366],\n",
       "       [ 1.50976436],\n",
       "       [ 2.83200107],\n",
       "       [-0.67480063],\n",
       "       [-1.01973194],\n",
       "       [ 0.76241318],\n",
       "       [ 0.13003911],\n",
       "       [-0.38735787],\n",
       "       [-0.55982352],\n",
       "       [ 0.64743608],\n",
       "       [ 0.70492463],\n",
       "       [-1.82457168],\n",
       "       [ 0.07255055],\n",
       "       [-0.67480063],\n",
       "       [-1.13470905],\n",
       "       [ 0.93487884],\n",
       "       [ 1.62474147],\n",
       "       [-0.21489221],\n",
       "       [ 0.47497042],\n",
       "       [ 0.58994753],\n",
       "       [ 1.56725292],\n",
       "       [ 0.81990174],\n",
       "       [ 1.91218423],\n",
       "       [-0.44484642],\n",
       "       [ 1.16483305],\n",
       "       [-0.50233497],\n",
       "       [-0.15740366],\n",
       "       [ 0.64743608],\n",
       "       [ 1.62474147],\n",
       "       [ 1.2223216 ],\n",
       "       [ 0.13003911],\n",
       "       [ 1.68223002],\n",
       "       [ 0.87739029],\n",
       "       [-0.67480063],\n",
       "       [-0.90475484],\n",
       "       [-1.76708313],\n",
       "       [-0.32986931],\n",
       "       [-0.55982352],\n",
       "       [-0.50233497],\n",
       "       [-1.24968615],\n",
       "       [-1.0772205 ],\n",
       "       [ 0.07255055],\n",
       "       [ 0.35999332],\n",
       "       [ 0.015062  ],\n",
       "       [ 0.015062  ],\n",
       "       [ 0.76241318],\n",
       "       [ 0.13003911],\n",
       "       [ 0.015062  ],\n",
       "       [ 0.70492463],\n",
       "       [-1.99703734],\n",
       "       [ 1.96967278],\n",
       "       [ 0.58994753],\n",
       "       [ 0.18752766],\n",
       "       [ 1.27981015],\n",
       "       [-0.38735787],\n",
       "       [-2.2844801 ],\n",
       "       [-1.24968615],\n",
       "       [ 0.07255055],\n",
       "       [ 2.14213844],\n",
       "       [ 0.30250476],\n",
       "       [ 0.07255055],\n",
       "       [-0.78977773],\n",
       "       [ 0.18752766],\n",
       "       [-1.0772205 ],\n",
       "       [-0.32986931],\n",
       "       [ 1.2223216 ],\n",
       "       [ 0.53245897],\n",
       "       [-0.0999151 ],\n",
       "       [-0.73228918],\n",
       "       [-1.42215181],\n",
       "       [ 0.13003911],\n",
       "       [ 0.64743608],\n",
       "       [ 1.39478726],\n",
       "       [-0.38735787],\n",
       "       [ 1.16483305],\n",
       "       [-0.44484642],\n",
       "       [ 1.04985595],\n",
       "       [-0.44484642],\n",
       "       [-1.93954878],\n",
       "       [-0.0999151 ],\n",
       "       [ 0.87739029],\n",
       "       [-1.42215181],\n",
       "       [ 0.70492463],\n",
       "       [ 0.99236739],\n",
       "       [ 1.2223216 ],\n",
       "       [-0.21489221],\n",
       "       [-0.32986931],\n",
       "       [-0.78977773],\n",
       "       [-0.04242655],\n",
       "       [-0.55982352],\n",
       "       [-0.84726629],\n",
       "       [-1.30717471],\n",
       "       [-0.04242655],\n",
       "       [-0.96224339],\n",
       "       [-0.32986931],\n",
       "       [-1.36466326],\n",
       "       [-1.36466326],\n",
       "       [ 1.50976436],\n",
       "       [-2.2844801 ],\n",
       "       [ 1.33729871],\n",
       "       [ 0.24501621],\n",
       "       [-0.27238076],\n",
       "       [ 0.41748187],\n",
       "       [-0.04242655],\n",
       "       [-1.36466326],\n",
       "       [ 0.015062  ],\n",
       "       [-0.32986931],\n",
       "       [ 0.13003911],\n",
       "       [ 1.45227581],\n",
       "       [-0.38735787],\n",
       "       [-0.96224339],\n",
       "       [ 0.13003911],\n",
       "       [-0.90475484],\n",
       "       [-0.50233497],\n",
       "       [-1.70959457],\n",
       "       [-1.93954878],\n",
       "       [-0.61731208],\n",
       "       [-1.1921976 ],\n",
       "       [ 1.73971857],\n",
       "       [ 0.30250476],\n",
       "       [ 0.07255055],\n",
       "       [-0.78977773],\n",
       "       [ 0.70492463],\n",
       "       [ 0.07255055],\n",
       "       [-0.67480063],\n",
       "       [ 0.53245897],\n",
       "       [-1.47964036],\n",
       "       [-0.96224339],\n",
       "       [-1.1921976 ],\n",
       "       [ 0.53245897],\n",
       "       [ 0.64743608],\n",
       "       [-1.0772205 ],\n",
       "       [ 1.1073445 ],\n",
       "       [-1.36466326],\n",
       "       [ 0.13003911],\n",
       "       [ 0.07255055],\n",
       "       [ 0.015062  ],\n",
       "       [-0.44484642],\n",
       "       [-0.32986931],\n",
       "       [ 0.47497042],\n",
       "       [ 1.2223216 ],\n",
       "       [-0.73228918],\n",
       "       [ 0.18752766],\n",
       "       [-0.90475484],\n",
       "       [ 0.015062  ],\n",
       "       [ 0.64743608],\n",
       "       [-0.78977773],\n",
       "       [-0.90475484],\n",
       "       [ 2.4295812 ],\n",
       "       [-1.53712892],\n",
       "       [ 1.39478726],\n",
       "       [ 0.76241318],\n",
       "       [ 0.24501621],\n",
       "       [ 1.79720713],\n",
       "       [-1.65210602],\n",
       "       [ 0.35999332],\n",
       "       [ 0.64743608],\n",
       "       [-1.01973194],\n",
       "       [ 0.47497042],\n",
       "       [ 1.27981015],\n",
       "       [ 0.70492463],\n",
       "       [ 1.79720713],\n",
       "       [-0.38735787],\n",
       "       [-1.42215181],\n",
       "       [ 0.07255055],\n",
       "       [-0.32986931],\n",
       "       [-0.21489221],\n",
       "       [-0.21489221],\n",
       "       [-0.44484642],\n",
       "       [-0.44484642],\n",
       "       [-0.90475484],\n",
       "       [-0.15740366],\n",
       "       [-0.38735787],\n",
       "       [ 1.50976436],\n",
       "       [ 0.76241318],\n",
       "       [-0.04242655],\n",
       "       [ 1.56725292],\n",
       "       [-1.65210602],\n",
       "       [ 0.41748187],\n",
       "       [ 0.47497042],\n",
       "       [ 0.76241318],\n",
       "       [-1.36466326],\n",
       "       [ 1.33729871],\n",
       "       [ 0.81990174],\n",
       "       [ 1.04985595],\n",
       "       [ 1.2223216 ],\n",
       "       [-1.0772205 ],\n",
       "       [ 0.64743608],\n",
       "       [-1.53712892],\n",
       "       [ 0.70492463],\n",
       "       [ 0.35999332],\n",
       "       [ 1.68223002],\n",
       "       [-1.53712892],\n",
       "       [ 0.47497042],\n",
       "       [ 0.30250476],\n",
       "       [-0.73228918],\n",
       "       [-0.73228918],\n",
       "       [-0.27238076],\n",
       "       [ 0.58994753],\n",
       "       [-0.27238076],\n",
       "       [ 2.54455831],\n",
       "       [-1.47964036],\n",
       "       [-0.67480063],\n",
       "       [ 1.16483305],\n",
       "       [-0.04242655],\n",
       "       [-1.36466326],\n",
       "       [-0.84726629],\n",
       "       [ 0.64743608],\n",
       "       [-0.38735787],\n",
       "       [ 1.62474147],\n",
       "       [ 0.30250476],\n",
       "       [ 0.93487884],\n",
       "       [ 0.30250476],\n",
       "       [-0.0999151 ],\n",
       "       [ 2.37209265],\n",
       "       [-0.27238076],\n",
       "       [-1.1921976 ],\n",
       "       [-1.0772205 ],\n",
       "       [ 1.68223002],\n",
       "       [ 0.015062  ],\n",
       "       [ 0.07255055],\n",
       "       [-0.04242655],\n",
       "       [-1.53712892],\n",
       "       [ 0.13003911],\n",
       "       [-0.90475484],\n",
       "       [-0.0999151 ],\n",
       "       [ 0.30250476],\n",
       "       [ 1.73971857],\n",
       "       [ 1.45227581],\n",
       "       [-0.04242655],\n",
       "       [-0.90475484],\n",
       "       [ 0.47497042],\n",
       "       [ 1.39478726],\n",
       "       [-0.55982352],\n",
       "       [ 0.64743608],\n",
       "       [ 1.68223002],\n",
       "       [ 0.47497042],\n",
       "       [-0.38735787],\n",
       "       [-1.53712892],\n",
       "       [-0.04242655],\n",
       "       [ 1.50976436],\n",
       "       [-0.84726629],\n",
       "       [ 2.14213844],\n",
       "       [ 0.64743608],\n",
       "       [ 0.53245897],\n",
       "       [-0.38735787],\n",
       "       [ 1.27981015],\n",
       "       [-1.42215181],\n",
       "       [-0.84726629],\n",
       "       [ 0.18752766],\n",
       "       [-0.84726629],\n",
       "       [ 1.2223216 ],\n",
       "       [ 0.30250476],\n",
       "       [ 0.87739029],\n",
       "       [-0.21489221],\n",
       "       [ 1.96967278],\n",
       "       [ 0.81990174],\n",
       "       [-1.70959457],\n",
       "       [ 0.24501621],\n",
       "       [-0.73228918],\n",
       "       [-0.04242655],\n",
       "       [ 1.16483305],\n",
       "       [-0.38735787],\n",
       "       [-0.96224339],\n",
       "       [-0.44484642],\n",
       "       [ 0.015062  ],\n",
       "       [ 0.13003911],\n",
       "       [-0.27238076],\n",
       "       [ 0.35999332],\n",
       "       [-0.90475484],\n",
       "       [-0.0999151 ],\n",
       "       [ 1.79720713],\n",
       "       [ 0.35999332],\n",
       "       [ 0.81990174],\n",
       "       [ 2.48706976],\n",
       "       [-0.04242655],\n",
       "       [-0.38735787],\n",
       "       [-1.01973194],\n",
       "       [-0.04242655],\n",
       "       [-0.78977773],\n",
       "       [-1.13470905],\n",
       "       [ 0.93487884],\n",
       "       [-0.0999151 ],\n",
       "       [-0.61731208],\n",
       "       [-0.90475484],\n",
       "       [-1.1921976 ],\n",
       "       [ 1.56725292],\n",
       "       [-0.21489221],\n",
       "       [ 1.68223002],\n",
       "       [ 0.07255055],\n",
       "       [-0.78977773],\n",
       "       [ 0.58994753],\n",
       "       [ 1.27981015],\n",
       "       [-0.67480063],\n",
       "       [ 0.07255055],\n",
       "       [-1.36466326],\n",
       "       [-1.01973194],\n",
       "       [ 0.58994753],\n",
       "       [-0.90475484],\n",
       "       [ 0.87739029],\n",
       "       [ 0.30250476],\n",
       "       [ 1.1073445 ],\n",
       "       [-1.01973194],\n",
       "       [-2.05452589],\n",
       "       [-1.53712892],\n",
       "       [ 0.35999332],\n",
       "       [-0.0999151 ],\n",
       "       [ 0.24501621],\n",
       "       [ 0.99236739],\n",
       "       [-0.55982352],\n",
       "       [-2.22699155],\n",
       "       [-0.90475484],\n",
       "       [ 0.47497042],\n",
       "       [ 0.35999332],\n",
       "       [-0.15740366],\n",
       "       [ 0.87739029],\n",
       "       [-0.21489221],\n",
       "       [-1.93954878],\n",
       "       [ 0.24501621],\n",
       "       [-0.27238076],\n",
       "       [ 1.79720713],\n",
       "       [ 0.81990174],\n",
       "       [ 0.64743608],\n",
       "       [-0.32986931],\n",
       "       [ 1.16483305],\n",
       "       [-0.04242655],\n",
       "       [-0.90475484],\n",
       "       [ 0.24501621],\n",
       "       [ 0.13003911],\n",
       "       [-1.01973194],\n",
       "       [ 0.87739029],\n",
       "       [-0.96224339],\n",
       "       [-0.50233497],\n",
       "       [-1.36466326],\n",
       "       [ 0.35999332],\n",
       "       [ 0.47497042],\n",
       "       [ 0.81990174],\n",
       "       [-2.74438852],\n",
       "       [-0.50233497],\n",
       "       [-1.30717471],\n",
       "       [-0.38735787],\n",
       "       [-2.11201444],\n",
       "       [ 2.19962699],\n",
       "       [ 1.33729871],\n",
       "       [-0.38735787],\n",
       "       [-0.04242655],\n",
       "       [ 0.07255055],\n",
       "       [-0.44484642],\n",
       "       [ 0.76241318],\n",
       "       [-0.15740366],\n",
       "       [ 0.24501621],\n",
       "       [-0.38735787],\n",
       "       [ 1.1073445 ],\n",
       "       [ 0.07255055],\n",
       "       [-2.57192286],\n",
       "       [-1.53712892],\n",
       "       [-0.15740366],\n",
       "       [-0.21489221],\n",
       "       [ 0.41748187],\n",
       "       [ 0.64743608],\n",
       "       [ 0.24501621],\n",
       "       [ 0.70492463],\n",
       "       [ 0.53245897],\n",
       "       [ 2.37209265],\n",
       "       [ 0.41748187],\n",
       "       [-0.27238076],\n",
       "       [ 1.68223002],\n",
       "       [ 0.53245897],\n",
       "       [-0.38735787],\n",
       "       [ 0.87739029],\n",
       "       [-0.0999151 ],\n",
       "       [ 1.79720713],\n",
       "       [ 0.015062  ],\n",
       "       [-0.78977773],\n",
       "       [ 0.41748187],\n",
       "       [-1.53712892],\n",
       "       [ 0.24501621],\n",
       "       [-0.04242655],\n",
       "       [-0.50233497],\n",
       "       [-0.78977773],\n",
       "       [-0.55982352],\n",
       "       [ 0.35999332],\n",
       "       [ 0.13003911],\n",
       "       [-1.01973194],\n",
       "       [-0.55982352],\n",
       "       [ 0.99236739],\n",
       "       [ 1.1073445 ],\n",
       "       [-0.50233497],\n",
       "       [ 0.13003911],\n",
       "       [-0.21489221],\n",
       "       [ 0.24501621],\n",
       "       [-0.78977773],\n",
       "       [-1.99703734],\n",
       "       [ 0.30250476],\n",
       "       [-1.24968615],\n",
       "       [-0.27238076],\n",
       "       [ 1.91218423],\n",
       "       [-1.0772205 ],\n",
       "       [-0.32986931],\n",
       "       [-0.0999151 ],\n",
       "       [ 1.2223216 ],\n",
       "       [-1.0772205 ],\n",
       "       [-0.21489221],\n",
       "       [ 0.24501621],\n",
       "       [-1.01973194],\n",
       "       [ 0.30250476],\n",
       "       [-1.01973194],\n",
       "       [ 0.58994753],\n",
       "       [-0.0999151 ],\n",
       "       [-0.04242655],\n",
       "       [-0.27238076],\n",
       "       [-1.01973194],\n",
       "       [ 0.47497042],\n",
       "       [ 1.1073445 ],\n",
       "       [ 1.96967278],\n",
       "       [ 0.70492463],\n",
       "       [-0.15740366],\n",
       "       [-2.57192286],\n",
       "       [-0.04242655],\n",
       "       [ 0.07255055],\n",
       "       [ 0.24501621],\n",
       "       [-1.70959457],\n",
       "       [-0.61731208],\n",
       "       [ 0.015062  ],\n",
       "       [ 0.58994753],\n",
       "       [-0.04242655],\n",
       "       [-0.84726629],\n",
       "       [ 1.68223002],\n",
       "       [-1.30717471],\n",
       "       [-0.67480063],\n",
       "       [-0.61731208],\n",
       "       [ 1.85469568],\n",
       "       [-0.96224339],\n",
       "       [ 0.70492463],\n",
       "       [ 0.015062  ],\n",
       "       [ 0.13003911],\n",
       "       [ 0.07255055],\n",
       "       [-0.21489221],\n",
       "       [ 0.24501621],\n",
       "       [ 1.56725292],\n",
       "       [-0.0999151 ],\n",
       "       [ 1.27981015],\n",
       "       [ 1.50976436]])"
      ]
     },
     "execution_count": 91,
     "metadata": {},
     "output_type": "execute_result"
    }
   ],
   "source": [
    "((simu_result - (simu_result).mean()) / simu_result.std()).values"
   ]
  },
  {
   "cell_type": "code",
   "execution_count": 94,
   "metadata": {
    "collapsed": false
   },
   "outputs": [
    {
     "data": {
      "image/png": "[encoded data removed]",
      "text/plain": [
       "<matplotlib.figure.Figure at 0x1154e1110>"
      ]
     },
     "metadata": {},
     "output_type": "display_data"
    }
   ],
   "source": [
    "import scipy.stats as stats\n",
    "stats.probplot(((simu_poll_sample - (simu_poll_sample).mean()) / simu_poll_sample.std()), dist=\"norm\", plot = plt)\n",
    "plt.show()"
   ]
  },
  {
   "cell_type": "markdown",
   "metadata": {},
   "source": [
    "#### Problem 2(c)\n",
    "\n",
    "Now suppose we run M polls where M is the number of polls that happened in November (calculated in Problem 2(a)). Run 1,000 simulations and compute the mean of the M polls for each simulation. "
   ]
  },
  {
   "cell_type": "code",
   "execution_count": 95,
   "metadata": {
    "collapsed": false
   },
   "outputs": [],
   "source": [
    "#your code here\n",
    "simu_multi_poll_sample= np.random.binomial(N,0.53,(M,1000))"
   ]
  },
  {
   "cell_type": "code",
   "execution_count": 98,
   "metadata": {
    "collapsed": false
   },
   "outputs": [],
   "source": [
    "simu_multi_poll_mean = simu_multi_poll_sample.mean(axis=0)/N"
   ]
  },
  {
   "cell_type": "code",
   "execution_count": 100,
   "metadata": {
    "collapsed": false
   },
   "outputs": [
    {
     "data": {
      "text/plain": [
       "(1000,)"
      ]
     },
     "execution_count": 100,
     "metadata": {},
     "output_type": "execute_result"
    }
   ],
   "source": [
    "simu_multi_poll_mean.shape"
   ]
  },
  {
   "cell_type": "markdown",
   "metadata": {},
   "source": [
    "What is the distribution of the average of polls?\n",
    "\n",
    "**Hint**: Show a plot. "
   ]
  },
  {
   "cell_type": "code",
   "execution_count": 113,
   "metadata": {
    "collapsed": false
   },
   "outputs": [
    {
     "data": {
      "text/plain": [
       "<function matplotlib.pyplot.show>"
      ]
     },
     "execution_count": 113,
     "metadata": {},
     "output_type": "execute_result"
    },
    {
     "data": {
      "image/png": "[encoded data removed]",
      "text/plain": [
       "<matplotlib.figure.Figure at 0x14564ac90>"
      ]
     },
     "metadata": {},
     "output_type": "display_data"
    }
   ],
   "source": [
    "#your code here\n",
    "pd.DataFrame(simu_multi_poll_mean).plot(kind='kde')\n",
    "plt.title(\"distribution of mean rating from %f polls\" % N)\n",
    "plt.xlabel(\"mean rating\")\n",
    "plt.show"
   ]
  },
  {
   "cell_type": "markdown",
   "metadata": {},
   "source": [
    "Answer: "
   ]
  },
  {
   "cell_type": "markdown",
   "metadata": {},
   "source": [
    "What is the standard error (SE) of the average of polls? "
   ]
  },
  {
   "cell_type": "code",
   "execution_count": 104,
   "metadata": {
    "collapsed": false
   },
   "outputs": [],
   "source": [
    "#your code here\n",
    "std_multi = simu_multi_poll_mean.std()"
   ]
  },
  {
   "cell_type": "code",
   "execution_count": 109,
   "metadata": {
    "collapsed": false
   },
   "outputs": [
    {
     "data": {
      "image/png": "[encoded data removed]",
      "text/plain": [
       "<matplotlib.figure.Figure at 0x1462629d0>"
      ]
     },
     "metadata": {},
     "output_type": "display_data"
    }
   ],
   "source": [
    "stats.probplot((simu_multi_poll_mean - simu_multi_poll_mean.mean())/std_multi,dist='norm',plot=plt)\n",
    "plt.show()"
   ]
  },
  {
   "cell_type": "code",
   "execution_count": null,
   "metadata": {
    "collapsed": true
   },
   "outputs": [],
   "source": []
  },
  {
   "cell_type": "markdown",
   "metadata": {},
   "source": [
    "Answer: "
   ]
  },
  {
   "cell_type": "markdown",
   "metadata": {},
   "source": [
    "Is the SE of the average of polls larger, the same, or smaller than that the SD of a single poll (calculated in Problem 2(b))? By how much?\n",
    "\n",
    "**Hint**: Compute a ratio of the two quantities.  "
   ]
  },
  {
   "cell_type": "code",
   "execution_count": 106,
   "metadata": {
    "collapsed": false
   },
   "outputs": [
    {
     "name": "stdout",
     "output_type": "stream",
     "text": [
      "the ratio of SE between single poll and  average poll: 4.401184\n"
     ]
    }
   ],
   "source": [
    "#your code here\n",
    "ratio = std_single/std_multi\n",
    "print \"the ratio of SE between single poll and  average poll: %f\" % ratio"
   ]
  },
  {
   "cell_type": "markdown",
   "metadata": {},
   "source": [
    "Answer: "
   ]
  },
  {
   "cell_type": "markdown",
   "metadata": {},
   "source": [
    "#### Problem 2(d) \n",
    "\n",
    "Repeat Problem 2(c) but now record the *across poll* standard deviation in each simulation. "
   ]
  },
  {
   "cell_type": "code",
   "execution_count": 114,
   "metadata": {
    "collapsed": false
   },
   "outputs": [],
   "source": [
    "#your code here\n",
    "std_cross_pull = (simu_multi_poll_sample/N).std(axis=0)"
   ]
  },
  {
   "cell_type": "code",
   "execution_count": 115,
   "metadata": {
    "collapsed": false
   },
   "outputs": [
    {
     "data": {
      "text/plain": [
       "(1000,)"
      ]
     },
     "execution_count": 115,
     "metadata": {},
     "output_type": "execute_result"
    }
   ],
   "source": [
    "std_cross_pull.shape"
   ]
  },
  {
   "cell_type": "markdown",
   "metadata": {},
   "source": [
    "What is the distribution of the *across M polls* standard deviation?\n",
    "\n",
    "**Hint**: Show a plot. "
   ]
  },
  {
   "cell_type": "code",
   "execution_count": 116,
   "metadata": {
    "collapsed": false
   },
   "outputs": [
    {
     "data": {
      "text/plain": [
       "<matplotlib.text.Text at 0x114d7c950>"
      ]
     },
     "execution_count": 116,
     "metadata": {},
     "output_type": "execute_result"
    },
    {
     "data": {
      "image/png": "[encoded data removed]",
      "text/plain": [
       "<matplotlib.figure.Figure at 0x145fcaad0>"
      ]
     },
     "metadata": {},
     "output_type": "display_data"
    }
   ],
   "source": [
    "#your code here\n",
    "pd.DataFrame(std_cross_pull).plot(kind=\"kde\")\n",
    "plt.title('density of sd across M poll')"
   ]
  },
  {
   "cell_type": "code",
   "execution_count": 123,
   "metadata": {
    "collapsed": false
   },
   "outputs": [
    {
     "name": "stdout",
     "output_type": "stream",
     "text": [
      "0.0139066101\n"
     ]
    }
   ],
   "source": [
    "print std_cross_pull.mean()"
   ]
  },
  {
   "cell_type": "code",
   "execution_count": 117,
   "metadata": {
    "collapsed": false
   },
   "outputs": [
    {
     "data": {
      "image/png": "[encoded data removed]",
      "text/plain": [
       "<matplotlib.figure.Figure at 0x145f75650>"
      ]
     },
     "metadata": {},
     "output_type": "display_data"
    }
   ],
   "source": [
    "stats.probplot((std_cross_pull-std_cross_pull.mean())/std_cross_pull.std(),dist=\"norm\",plot = plt)\n",
    "plt.show()"
   ]
  },
  {
   "cell_type": "markdown",
   "metadata": {},
   "source": [
    "Answer: "
   ]
  },
  {
   "cell_type": "markdown",
   "metadata": {},
   "source": [
    "#### Problem 2(e) \n",
    "\n",
    "What is the standard deviation of M polls in our real (not simulated) 2012 presidential election data ? "
   ]
  },
  {
   "cell_type": "code",
   "execution_count": 118,
   "metadata": {
    "collapsed": false
   },
   "outputs": [],
   "source": []
  },
  {
   "cell_type": "code",
   "execution_count": 119,
   "metadata": {
    "collapsed": true
   },
   "outputs": [],
   "source": [
    "subset_ratings = subset_election[\"Obama\"]/(subset_election[\"Obama\"]+subset_election[\"Romney\"]+subset_election[\"Undecided\"].fillna(0))"
   ]
  },
  {
   "cell_type": "code",
   "execution_count": 121,
   "metadata": {
    "collapsed": false
   },
   "outputs": [
    {
     "data": {
      "text/plain": [
       "0.013405773190404755"
      ]
     },
     "execution_count": 121,
     "metadata": {},
     "output_type": "execute_result"
    }
   ],
   "source": [
    "subset_ratings.std()"
   ]
  },
  {
   "cell_type": "markdown",
   "metadata": {},
   "source": [
    "Is this larger, the same, or smaller than what we expeced if polls were not biased."
   ]
  },
  {
   "cell_type": "code",
   "execution_count": 122,
   "metadata": {
    "collapsed": false
   },
   "outputs": [
    {
     "data": {
      "text/plain": [
       "0.4955799446068885"
      ]
     },
     "execution_count": 122,
     "metadata": {},
     "output_type": "execute_result"
    }
   ],
   "source": [
    "subset_ratings.mean()"
   ]
  },
  {
   "cell_type": "code",
   "execution_count": 124,
   "metadata": {
    "collapsed": false
   },
   "outputs": [
    {
     "data": {
      "text/plain": [
       "0.56399999999999995"
      ]
     },
     "execution_count": 124,
     "metadata": {},
     "output_type": "execute_result"
    }
   ],
   "source": [
    "#your code here\n",
    "np.mean(subset_ratings.std()<std_cross_pull)"
   ]
  },
  {
   "cell_type": "markdown",
   "metadata": {},
   "source": [
    "Answer: "
   ]
  },
  {
   "cell_type": "markdown",
   "metadata": {},
   "source": [
    "#### Problem 2(f)\n",
    "\n",
    "**For AC209 Students**: Learn about the normal approximation for the binomial distribution and derive the results of Problem 2(b) and 2(c) analytically (using this approximation). Compare the results obtained analytically to those obtained from simulations."
   ]
  },
  {
   "cell_type": "code",
   "execution_count": 50,
   "metadata": {
    "collapsed": false
   },
   "outputs": [],
   "source": [
    "#your code here"
   ]
  },
  {
   "cell_type": "markdown",
   "metadata": {},
   "source": [
    "Answer: "
   ]
  },
  {
   "cell_type": "markdown",
   "metadata": {},
   "source": [
    "## Discussion for Problem 2\n",
    "\n",
    "*Write a brief discussion of your conclusions to the questions and tasks above in 100 words or less.*\n",
    "\n",
    "---\n"
   ]
  },
  {
   "cell_type": "markdown",
   "metadata": {},
   "source": [
    "## Problem 3: Is the average of polls better than just one poll?"
   ]
  },
  {
   "cell_type": "markdown",
   "metadata": {},
   "source": [
    "#### Problem 3(a)\n",
    "\n",
    "Most undecided voters vote for one of the two candidates at the election. Therefore, the reported percentages underestimate the final value of both candidates. However, if we assume the undecided will split evenly, then the observed difference should be an unbiased estimate of the final difference. \n",
    "\n",
    "Add a new column to the `election` DataFrame containg the difference between Obama and Romeny called `Diff`. "
   ]
  },
  {
   "cell_type": "code",
   "execution_count": 156,
   "metadata": {
    "collapsed": false
   },
   "outputs": [
    {
     "name": "stderr",
     "output_type": "stream",
     "text": [
      "/anaconda/lib/python2.7/site-packages/ipykernel/__main__.py:2: SettingWithCopyWarning: \n",
      "A value is trying to be set on a copy of a slice from a DataFrame.\n",
      "Try using .loc[row_indexer,col_indexer] = value instead\n",
      "\n",
      "See the caveats in the documentation: http://pandas.pydata.org/pandas-docs/stable/indexing.html#indexing-view-versus-copy\n",
      "  from ipykernel import kernelapp as app\n"
     ]
    }
   ],
   "source": [
    "#your code here\n",
    "subset_election[\"Diff\"] = (subset_election[\"Obama\"] - subset_election[\"Romney\"])/100"
   ]
  },
  {
   "cell_type": "code",
   "execution_count": 157,
   "metadata": {
    "collapsed": false
   },
   "outputs": [
    {
     "data": {
      "text/plain": [
       "0    0.00\n",
       "1    0.01\n",
       "2    0.00\n",
       "3    0.00\n",
       "4   -0.01\n",
       "Name: Diff, dtype: float64"
      ]
     },
     "execution_count": 157,
     "metadata": {},
     "output_type": "execute_result"
    }
   ],
   "source": [
    "subset_election[\"Diff\"].head()"
   ]
  },
  {
   "cell_type": "markdown",
   "metadata": {},
   "source": [
    "#### Problem 3(b)\n",
    "\n",
    "Make a plot of the differences for the week before the election (e.g. 5 days) where the days are on the x-axis and the differences are on the y-axis.  Add a horizontal line showing 3.9%: the difference between Obama and Romney on election day."
   ]
  },
  {
   "cell_type": "code",
   "execution_count": 158,
   "metadata": {
    "collapsed": true
   },
   "outputs": [],
   "source": [
    "import matplotlib.dates as dates"
   ]
  },
  {
   "cell_type": "code",
   "execution_count": 169,
   "metadata": {
    "collapsed": false
   },
   "outputs": [
    {
     "data": {
      "image/png": "[encoded data removed]",
      "text/plain": [
       "<matplotlib.figure.Figure at 0x146ff7a90>"
      ]
     },
     "metadata": {},
     "output_type": "display_data"
    }
   ],
   "source": [
    "\n",
    "ax = plt.subplot(111)\n",
    "ax.plot_date(subset_election[\"Start Date\"],subset_election[\"Diff\"])\n",
    "plt.axhline(y=0.039, linewidth=2, color = 'k')\n",
    "ax.set_xlim([dt.datetime(2012,10,31,0,0),dt.datetime(2012,11,4,0,0)])\n",
    "ax.xaxis.set_major_formatter(dates.DateFormatter('%d %b'))\n",
    "ax.set_ylim([-0.03,0.05])\n",
    "plt.show()"
   ]
  },
  {
   "cell_type": "markdown",
   "metadata": {},
   "source": [
    "#### Problem 3(c) \n",
    "\n",
    "Make a plot showing the differences by pollster where the pollsters are on the x-axis and the differences on the y-axis. "
   ]
  },
  {
   "cell_type": "code",
   "execution_count": 184,
   "metadata": {
    "collapsed": false
   },
   "outputs": [
    {
     "data": {
      "image/png": "[encoded data removed]",
      "text/plain": [
       "<matplotlib.figure.Figure at 0x146525c50>"
      ]
     },
     "metadata": {},
     "output_type": "display_data"
    }
   ],
   "source": [
    "#your code here\n",
    "set_Poll = list(set(subset_election[\"Pollster\"]))\n",
    "index_map = {}\n",
    "for i,p in enumerate(set_Poll):\n",
    "    index_map[p] = i\n",
    "# print index_map\n",
    "plt.scatter(map(lambda x: index_map[x], subset_election[\"Pollster\"]),subset_election[\"Diff\"],c=map(lambda x: index_map[x], subset_election[\"Pollster\"]))\n",
    "plt.xticks(range(len(set_Poll)),set_Poll,rotation = 90)\n",
    "plt.xlabel(\"Polls\")\n",
    "plt.ylabel(\"Difference in Rating: Obama vs Romney\")\n",
    "plt.title(\"Difference in rating by Pollster\")\n",
    "plt.show()"
   ]
  },
  {
   "cell_type": "markdown",
   "metadata": {},
   "source": [
    "Is the *across poll* difference larger than the *between pollster* difference? "
   ]
  },
  {
   "cell_type": "markdown",
   "metadata": {},
   "source": [
    "Answer: "
   ]
  },
  {
   "cell_type": "markdown",
   "metadata": {},
   "source": [
    "#### Problem 3(d)\n",
    "\n",
    "Take the average for each pollster and then compute the average of that. Given this difference how confident would you have been of an Obama victory?\n",
    "\n",
    "**Hint**: Compute an estimate of the SE of this average based exclusively on the observed data. "
   ]
  },
  {
   "cell_type": "code",
   "execution_count": 189,
   "metadata": {
    "collapsed": false
   },
   "outputs": [
    {
     "data": {
      "text/plain": [
       "0.010555555555555554"
      ]
     },
     "execution_count": 189,
     "metadata": {},
     "output_type": "execute_result"
    }
   ],
   "source": [
    "#your code here\n",
    "subset_election.groupby(\"Pollster\")[\"Diff\"].mean().mean()"
   ]
  },
  {
   "cell_type": "code",
   "execution_count": 190,
   "metadata": {
    "collapsed": false
   },
   "outputs": [
    {
     "data": {
      "text/plain": [
       "0.014337208778404378"
      ]
     },
     "execution_count": 190,
     "metadata": {},
     "output_type": "execute_result"
    }
   ],
   "source": [
    "subset_election.groupby(\"Pollster\")[\"Diff\"].mean().std()"
   ]
  },
  {
   "cell_type": "markdown",
   "metadata": {},
   "source": [
    "Answer: no, the mean difference is not significantly different from 0"
   ]
  },
  {
   "cell_type": "markdown",
   "metadata": {},
   "source": [
    "#### Problem 3(e)\n",
    "\n",
    "**For AC209 Students**: Show the difference against time and see if you can detect a trend towards the end. Use this trend to see if it improves the final estimate."
   ]
  },
  {
   "cell_type": "code",
   "execution_count": 55,
   "metadata": {
    "collapsed": false
   },
   "outputs": [],
   "source": [
    "#your code here"
   ]
  },
  {
   "cell_type": "markdown",
   "metadata": {},
   "source": [
    "Answer: "
   ]
  },
  {
   "cell_type": "markdown",
   "metadata": {},
   "source": [
    "## Discussion for Problem 3\n",
    "\n",
    "*Write a brief discussion of your conclusions to the questions and tasks above in 100 words or less.*\n",
    "\n",
    "---\n"
   ]
  },
  {
   "cell_type": "markdown",
   "metadata": {},
   "source": [
    "## Problem 4\n",
    "\n",
    "In this last problem, we will use the polls from the [2014 Senate Midterm Elections](http://elections.huffingtonpost.com/pollster) from the [HuffPost Pollster API](http://elections.huffingtonpost.com/pollster/api) to create a preliminary prediction of the result of each state. \n",
    "\n",
    "The HuffPost Pollster API allows you to access the data as a CSV or a JSON response by tacking \".csv\" or \".json\" at the end of the URLs. For example the 2012 Presidential Election could be accessed as a [.json](http://elections.huffingtonpost.com/pollster/2012-general-election-romney-vs-obama.json) instead of a [.csv](http://elections.huffingtonpost.com/pollster/2012-general-election-romney-vs-obama.csv)"
   ]
  },
  {
   "cell_type": "markdown",
   "metadata": {},
   "source": [
    "#### Problem 4(a)\n",
    "\n",
    "Read in the polls for **all** of the 2014 Senate Elections using the HuffPost API. For example, we can consider the [2014 Senate race in Kentucky between Mitch McConnell and Alison Grimes](http://elections.huffingtonpost.com/pollster/2014-kentucky-senate-mcconnell-vs-grimes). \n",
    "\n",
    "To search for the 2014 Senate races, use the `topics` parameter in the API [[read more about topics here](http://elections.huffingtonpost.com/pollster/api)].  "
   ]
  },
  {
   "cell_type": "code",
   "execution_count": 56,
   "metadata": {
    "collapsed": false
   },
   "outputs": [],
   "source": [
    "url_str = \"http://elections.huffingtonpost.com/pollster/api/charts/?topic=2014-senate\""
   ]
  },
  {
   "cell_type": "code",
   "execution_count": 205,
   "metadata": {
    "collapsed": false
   },
   "outputs": [
    {
     "name": "stdout",
     "output_type": "stream",
     "text": [
      "[{u'last_updated': u'2014-11-02T14:37:22.000Z', u'title': u'2014 Kentucky Senate: McConnell vs. Grimes', u'url': u'http://elections.huffingtonpost.com/pollster/2014-kentucky-senate-mcconnell-vs-grimes', u'election_date': u'2014-11-04', u'estimates': [{u'first_name': u'Mitch', u'last_name': u'McConnell', u'value': 50.1, u'choice': u'McConnell', u'incumbent': False, u'party': u'Rep', u'lead_confidence': 100.0}, {u'first_name': u'Alison Lundergan', u'last_name': u'Grimes', u'value': 44.1, u'choice': u'Grimes', u'incumbent': False, u'party': u'Dem', u'lead_confidence': 0.0}], u'poll_count': 57, u'short_title': u'2014 Kentucky Senate', u'topic': u'2014-senate', u'state': u'KY', u'slug': u'2014-kentucky-senate-mcconnell-vs-grimes'}, {u'last_updated': u'2014-11-02T01:46:46.000Z', u'title': u'2014 Arkansas Senate: Cotton vs. Pryor', u'url': u'http://elections.huffingtonpost.com/pollster/2014-arkansas-senate-cotton-vs-pryor', u'election_date': u'2014-11-04', u'estimates': [{u'first_name': u'Tom', u'last_name': u'Cotton', u'value': 51.7, u'choice': u'Cotton', u'incumbent': False, u'party': u'Rep', u'lead_confidence': 99.9}, {u'first_name': u'Mark', u'last_name': u'Pryor', u'value': 45.6, u'choice': u'Pryor', u'incumbent': True, u'party': u'Dem', u'lead_confidence': 0.0}], u'poll_count': 61, u'short_title': u'2014 Arkansas Senate', u'topic': u'2014-senate', u'state': u'AR', u'slug': u'2014-arkansas-senate-cotton-vs-pryor'}, {u'last_updated': u'2014-11-04T03:11:39.000Z', u'title': u'2014 Michigan Senate: Land vs. Peters', u'url': u'http://elections.huffingtonpost.com/pollster/2014-michigan-senate-land-vs-peters', u'election_date': u'2014-11-04', u'estimates': [{u'first_name': u'Gary', u'last_name': u'Peters', u'value': 51.6, u'choice': u'Peters', u'incumbent': False, u'party': u'Dem', u'lead_confidence': 100.0}, {u'first_name': u'Terri Lynn', u'last_name': u'Land', u'value': 39.8, u'choice': u'Land', u'incumbent': False, u'party': u'Rep', u'lead_confidence': 0.0}], u'poll_count': 67, u'short_title': u'2014 Michigan Senate', u'topic': u'2014-senate', u'state': u'MI', u'slug': u'2014-michigan-senate-land-vs-peters'}, {u'last_updated': u'2014-12-05T22:50:59.000Z', u'title': u'2014 Louisiana Senate: Cassidy vs. Landrieu', u'url': u'http://elections.huffingtonpost.com/pollster/2014-louisiana-senate-cassidy-vs-landrieu', u'election_date': u'2014-12-06', u'estimates': [{u'first_name': u'Bill', u'last_name': u'Cassidy', u'value': 55.5, u'choice': u'Cassidy', u'incumbent': False, u'party': u'Rep', u'lead_confidence': 100.0}, {u'first_name': u'Mary', u'last_name': u'Landrieu', u'value': 40.7, u'choice': u'Landrieu', u'incumbent': True, u'party': u'Dem', u'lead_confidence': 0.0}], u'poll_count': 41, u'short_title': u'2014 Louisiana Senate', u'topic': u'2014-senate', u'state': u'LA', u'slug': u'2014-louisiana-senate-cassidy-vs-landrieu'}, {u'last_updated': u'2014-11-04T06:55:05.000Z', u'title': u'2014 New Hampshire Senate: Brown vs. Shaheen', u'url': u'http://elections.huffingtonpost.com/pollster/2014-new-hampshire-senate-brown-vs-shaheen', u'election_date': u'2014-11-04', u'estimates': [{u'first_name': u'Jeanne', u'last_name': u'Shaheen', u'value': 47.6, u'choice': u'Shaheen', u'incumbent': False, u'party': u'Dem', u'lead_confidence': 89.6}, {u'first_name': u'Scott', u'last_name': u'Brown', u'value': 46.2, u'choice': u'Brown', u'incumbent': False, u'party': u'Rep', u'lead_confidence': 10.4}], u'poll_count': 62, u'short_title': u'2014 New Hampshire Senate', u'topic': u'2014-senate', u'state': u'NH', u'slug': u'2014-new-hampshire-senate-brown-vs-shaheen'}, {u'last_updated': u'2014-10-26T15:04:28.000Z', u'title': u'2014 West Virginia Senate: Capito vs. Tennant', u'url': u'http://elections.huffingtonpost.com/pollster/2014-west-virginia-senate-capito-vs-tennant', u'election_date': u'2014-11-04', u'estimates': [{u'first_name': u'Shelley', u'last_name': u'Moore Capito', u'value': 53.5, u'choice': u'Capito', u'incumbent': False, u'party': u'Rep', u'lead_confidence': 100.0}, {u'first_name': u'Natalie', u'last_name': u'Tennant', u'value': 35.8, u'choice': u'Tennant', u'incumbent': False, u'party': u'Dem', u'lead_confidence': 0.0}], u'poll_count': 14, u'short_title': u'2014 West Virginia Senate', u'topic': u'2014-senate', u'state': u'WV', u'slug': u'2014-west-virginia-senate-capito-vs-tennant'}, {u'last_updated': u'2013-10-28T17:33:36.000Z', u'title': u'2014 New Hampshire Senate: Bass vs. Shaheen', u'url': u'http://elections.huffingtonpost.com/pollster/2014-new-hampshire-senate-bass-vs-shaheen', u'election_date': u'2014-11-04', u'estimates': [], u'poll_count': 3, u'short_title': u'NH Senate: Bass vs. Shaheen', u'topic': u'2014-senate', u'state': u'NH', u'slug': u'2014-new-hampshire-senate-bass-vs-shaheen'}, {u'last_updated': u'2014-11-03T23:42:00.000Z', u'title': u'2014 North Carolina Senate: Tillis vs. Hagan', u'url': u'http://elections.huffingtonpost.com/pollster/2014-north-carolina-senate-tillis-vs-hagan', u'election_date': u'2014-11-04', u'estimates': [{u'first_name': u'Kay', u'last_name': u'Hagan', u'value': 46.3, u'choice': u'Hagan', u'incumbent': True, u'party': u'Dem', u'lead_confidence': 69.7}, {u'first_name': u'Thom', u'last_name': u'Tillis', u'value': 45.7, u'choice': u'Tillis', u'incumbent': False, u'party': u'Rep', u'lead_confidence': 30.3}, {u'first_name': u'Sean', u'last_name': u'Haugh', u'value': 4.9, u'choice': u'Haugh', u'incumbent': False, u'party': u'Lib', u'lead_confidence': None}], u'poll_count': 76, u'short_title': u'2014 North Carolina Senate', u'topic': u'2014-senate', u'state': u'NC', u'slug': u'2014-north-carolina-senate-tillis-vs-hagan'}, {u'last_updated': u'2014-10-31T11:03:15.000Z', u'title': u'2014 Virginia Senate: Gillespie vs. Warner', u'url': u'http://elections.huffingtonpost.com/pollster/2014-virginia-senate-gillespie-vs-warner', u'election_date': u'2014-11-04', u'estimates': [{u'first_name': u'Mark', u'last_name': u'Warner', u'value': 50.3, u'choice': u'Warner', u'incumbent': True, u'party': u'Dem', u'lead_confidence': 99.9}, {u'first_name': u'Ed', u'last_name': u'Gillespie', u'value': 38.7, u'choice': u'Gillespie', u'incumbent': False, u'party': u'Rep', u'lead_confidence': 0.0}], u'poll_count': 22, u'short_title': u'2014 Virginia Senate', u'topic': u'2014-senate', u'state': u'VA', u'slug': u'2014-virginia-senate-gillespie-vs-warner'}, {u'last_updated': u'2014-11-03T13:50:32.000Z', u'title': u'2014 Colorado Senate: Gardner vs. Udall', u'url': u'http://elections.huffingtonpost.com/pollster/2014-colorado-senate-gardner-vs-udall', u'election_date': u'2014-11-04', u'estimates': [{u'first_name': u'Cory', u'last_name': u'Gardner', u'value': 49.2, u'choice': u'Gardner', u'incumbent': False, u'party': u'Rep', u'lead_confidence': 93.2}, {u'first_name': u'Mark', u'last_name': u'Udall', u'value': 47.3, u'choice': u'Udall', u'incumbent': True, u'party': u'Dem', u'lead_confidence': 6.8}], u'poll_count': 54, u'short_title': u'2014 Colorado Senate', u'topic': u'2014-senate', u'state': u'CO', u'slug': u'2014-colorado-senate-gardner-vs-udall'}, {u'last_updated': u'2014-11-03T02:40:53.000Z', u'title': u'2014 Illinois Senate: Oberweis vs. Durbin', u'url': u'http://elections.huffingtonpost.com/pollster/2014-illinois-senate-oberweis-vs-durbin', u'election_date': u'2014-11-04', u'estimates': [{u'first_name': u'Dick', u'last_name': u'Durbin', u'value': 51.6, u'choice': u'Durbin', u'incumbent': True, u'party': u'Dem', u'lead_confidence': 100.0}, {u'first_name': u'Jim', u'last_name': u'Oberweis', u'value': 38.7, u'choice': u'Oberweis', u'incumbent': False, u'party': u'Rep', u'lead_confidence': 0.0}, {u'first_name': None, u'last_name': None, u'value': 3.1, u'choice': u'Other', u'incumbent': None, u'party': None, u'lead_confidence': None}], u'poll_count': 15, u'short_title': u'IL Senate: Oberweis vs. Durbin', u'topic': u'2014-senate', u'state': u'IL', u'slug': u'2014-illinois-senate-oberweis-vs-durbin'}, {u'last_updated': u'2014-11-04T03:16:32.000Z', u'title': u'2014 Alaska Senate: Sullivan vs. Begich', u'url': u'http://elections.huffingtonpost.com/pollster/2014-alaska-senate-sullivan-vs-begich', u'election_date': u'2014-11-04', u'estimates': [{u'first_name': u'Dan', u'last_name': u'Sullivan', u'value': 50.0, u'choice': u'Sullivan', u'incumbent': False, u'party': u'Rep', u'lead_confidence': 99.8}, {u'first_name': u'Mark', u'last_name': u'Begich', u'value': 45.7, u'choice': u'Begich', u'incumbent': False, u'party': u'Dem', u'lead_confidence': 0.2}], u'poll_count': 35, u'short_title': u'2014 Alaska Senate: Sullivan vs. Begich', u'topic': u'2014-senate', u'state': u'AK', u'slug': u'2014-alaska-senate-sullivan-vs-begich'}, {u'last_updated': u'2014-11-03T23:48:30.000Z', u'title': u'2014 Iowa Senate: Ernst vs. Braley', u'url': u'http://elections.huffingtonpost.com/pollster/2014-iowa-senate-ernst-vs-braley', u'election_date': u'2014-11-04', u'estimates': [{u'first_name': u'Joni', u'last_name': u'Ernst', u'value': 48.1, u'choice': u'Ernst', u'incumbent': False, u'party': u'Rep', u'lead_confidence': 94.1}, {u'first_name': u'Bruce', u'last_name': u'Braley', u'value': 45.6, u'choice': u'Braley', u'incumbent': False, u'party': u'Dem', u'lead_confidence': 5.9}], u'poll_count': 55, u'short_title': u'2014 Iowa Senate', u'topic': u'2014-senate', u'state': u'IA', u'slug': u'2014-iowa-senate-ernst-vs-braley'}, {u'last_updated': u'2014-10-26T15:11:17.000Z', u'title': u'2014 Mississippi Senate: Cochran vs. Childers', u'url': u'http://elections.huffingtonpost.com/pollster/2014-mississippi-senate-cochran-vs-childers', u'election_date': u'2014-11-04', u'estimates': [{u'first_name': u'Thad', u'last_name': u'Cochran', u'value': 44.2, u'choice': u'Cochran', u'incumbent': True, u'party': u'Rep', u'lead_confidence': 99.9}, {u'first_name': u'Travis', u'last_name': u'Childers', u'value': 26.7, u'choice': u'Childers', u'incumbent': False, u'party': u'Dem', u'lead_confidence': 0.0}, {u'first_name': None, u'last_name': None, u'value': 9.0, u'choice': u'Other', u'incumbent': None, u'party': None, u'lead_confidence': None}], u'poll_count': 8, u'short_title': u'2014 Mississippi Senate', u'topic': u'2014-senate', u'state': u'MS', u'slug': u'2014-mississippi-senate-cochran-vs-childers'}, {u'last_updated': u'2014-10-31T11:30:22.000Z', u'title': u'2014 Oregon Senate: Wehby vs. Merkley', u'url': u'http://elections.huffingtonpost.com/pollster/2014-oregon-senate-wehby-vs-merkley', u'election_date': u'2014-11-04', u'estimates': [{u'first_name': u'Jeff', u'last_name': u'Merkley', u'value': 52.7, u'choice': u'Merkley', u'incumbent': True, u'party': u'Dem', u'lead_confidence': 100.0}, {u'first_name': u'Monica', u'last_name': u'Wehby', u'value': 35.2, u'choice': u'Wehby', u'incumbent': False, u'party': u'Rep', u'lead_confidence': 0.0}], u'poll_count': 19, u'short_title': u'2014 Oregon Senate', u'topic': u'2014-senate', u'state': u'OR', u'slug': u'2014-oregon-senate-wehby-vs-merkley'}, {u'last_updated': u'2014-11-04T00:18:59.000Z', u'title': u'2014 Georgia Senate: Perdue vs. Nunn', u'url': u'http://elections.huffingtonpost.com/pollster/2014-georgia-senate-perdue-vs-nunn', u'election_date': u'2014-11-04', u'estimates': [{u'first_name': u'David', u'last_name': u'Perdue', u'value': 47.4, u'choice': u'Perdue', u'incumbent': False, u'party': u'Rep', u'lead_confidence': 99.9}, {u'first_name': u'Michelle', u'last_name': u'Nunn', u'value': 43.4, u'choice': u'Nunn', u'incumbent': False, u'party': u'Dem', u'lead_confidence': 0.0}, {u'first_name': u'Amanda', u'last_name': u'Swafford', u'value': 3.7, u'choice': u'Swafford', u'incumbent': False, u'party': u'Lib', u'lead_confidence': None}], u'poll_count': 51, u'short_title': u'2014 Georgia Senate', u'topic': u'2014-senate', u'state': u'GA', u'slug': u'2014-georgia-senate-perdue-vs-nunn'}, {u'last_updated': u'2014-10-26T15:13:42.000Z', u'title': u'2014 Nebraska Senate: Sasse vs. Domina', u'url': u'http://elections.huffingtonpost.com/pollster/2014-nebraska-senate-sasse-vs-domina', u'election_date': u'2014-11-04', u'estimates': [{u'first_name': u'Ben', u'last_name': u'Sasse', u'value': 57.2, u'choice': u'Sasse', u'incumbent': False, u'party': u'Rep', u'lead_confidence': 100.0}, {u'first_name': u'David', u'last_name': u'Domina', u'value': 30.3, u'choice': u'Domina', u'incumbent': False, u'party': u'Dem', u'lead_confidence': 0.0}], u'poll_count': 6, u'short_title': u'2014 Nebraska Senate: Sasse vs. Domina', u'topic': u'2014-senate', u'state': u'NE', u'slug': u'2014-nebraska-senate-sasse-vs-domina'}, {u'last_updated': u'2014-10-30T11:51:11.000Z', u'title': u'2014 South Dakota Senate: Rounds vs. Weiland', u'url': u'http://elections.huffingtonpost.com/pollster/2014-south-dakota-senate-rounds-vs-weiland', u'election_date': u'2014-11-04', u'estimates': [{u'first_name': u'Mike', u'last_name': u'Rounds', u'value': 43.4, u'choice': u'Rounds', u'incumbent': False, u'party': u'Rep', u'lead_confidence': 99.9}, {u'first_name': u'Rick', u'last_name': u'Weiland', u'value': 29.7, u'choice': u'Weiland', u'incumbent': False, u'party': u'Dem', u'lead_confidence': 0.0}, {u'first_name': u'Larry', u'last_name': u'Pressler', u'value': 17.7, u'choice': u'Pressler', u'incumbent': False, u'party': u'Ind', u'lead_confidence': None}, {u'first_name': None, u'last_name': None, u'value': 1.7, u'choice': u'Other', u'incumbent': None, u'party': None, u'lead_confidence': None}], u'poll_count': 25, u'short_title': u'2014 South Dakota Senate', u'topic': u'2014-senate', u'state': u'SD', u'slug': u'2014-south-dakota-senate-rounds-vs-weiland'}, {u'last_updated': u'2014-11-03T19:11:54.000Z', u'title': u'2014 Maine Senate: Collins vs. Bellows', u'url': u'http://elections.huffingtonpost.com/pollster/2014-maine-senate-collins-vs-bellows', u'election_date': u'2014-11-04', u'estimates': [{u'first_name': u'Susan', u'last_name': u'Collins', u'value': 61.1, u'choice': u'Collins', u'incumbent': True, u'party': u'Rep', u'lead_confidence': 100.0}, {u'first_name': u'Shenna', u'last_name': u'Bellows', u'value': 34.1, u'choice': u'Bellows', u'incumbent': False, u'party': u'Dem', u'lead_confidence': 0.0}, {u'first_name': None, u'last_name': None, u'value': 1.5, u'choice': u'Other', u'incumbent': None, u'party': None, u'lead_confidence': None}], u'poll_count': 16, u'short_title': u'2014 Maine Senate', u'topic': u'2014-senate', u'state': u'ME', u'slug': u'2014-maine-senate-collins-vs-bellows'}, {u'last_updated': u'2014-11-04T03:13:27.000Z', u'title': u'2014 Minnesota Senate: McFadden vs. Franken', u'url': u'http://elections.huffingtonpost.com/pollster/2014-minnesota-senate-mcfadden-vs-franken', u'election_date': u'2014-11-04', u'estimates': [{u'first_name': u'Al', u'last_name': u'Franken', u'value': 51.5, u'choice': u'Franken', u'incumbent': True, u'party': u'Dem', u'lead_confidence': 100.0}, {u'first_name': u'Mike', u'last_name': u'McFadden', u'value': 39.9, u'choice': u'McFadden', u'incumbent': False, u'party': u'Rep', u'lead_confidence': 0.0}], u'poll_count': 21, u'short_title': u'2014 Minnesota Senate', u'topic': u'2014-senate', u'state': u'MN', u'slug': u'2014-minnesota-senate-mcfadden-vs-franken'}, {u'last_updated': u'2014-10-26T15:27:24.000Z', u'title': u'2014 Texas Senate: Cornyn vs. Alameel', u'url': u'http://elections.huffingtonpost.com/pollster/2014-texas-senate-cornyn-vs-alameel', u'election_date': u'2014-11-04', u'estimates': [{u'first_name': u'John', u'last_name': u'Cornyn', u'value': 54.0, u'choice': u'Cornyn', u'incumbent': False, u'party': u'Rep', u'lead_confidence': 100.0}, {u'first_name': u'David', u'last_name': u'Alameel', u'value': 30.9, u'choice': u'Alameel', u'incumbent': False, u'party': u'Dem', u'lead_confidence': 0.0}, {u'first_name': None, u'last_name': None, u'value': 0.8, u'choice': u'Other', u'incumbent': None, u'party': None, u'lead_confidence': None}], u'poll_count': 10, u'short_title': u'2014 Texas Senate', u'topic': u'2014-senate', u'state': u'TX', u'slug': u'2014-texas-senate-cornyn-vs-alameel'}, {u'last_updated': u'2014-10-26T15:25:34.000Z', u'title': u'2014 South Carolina Senate: Graham vs. Hutto', u'url': u'http://elections.huffingtonpost.com/pollster/2014-south-carolina-senate-graham-vs-hutto', u'election_date': u'2014-11-04', u'estimates': [{u'first_name': u'Lindsey', u'last_name': u'Graham', u'value': 47.6, u'choice': u'Graham', u'incumbent': True, u'party': u'Rep', u'lead_confidence': 99.9}, {u'first_name': u'Brad', u'last_name': u'Hutto', u'value': 29.5, u'choice': u'Hutto', u'incumbent': False, u'party': u'Dem', u'lead_confidence': 0.0}, {u'first_name': None, u'last_name': None, u'value': 10.0, u'choice': u'Other', u'incumbent': None, u'party': None, u'lead_confidence': None}], u'poll_count': 8, u'short_title': u'2014 South Carolina Senate: Graham vs. Hutto', u'topic': u'2014-senate', u'state': u'SC', u'slug': u'2014-south-carolina-senate-graham-vs-hutto'}, {u'last_updated': u'2014-10-26T15:25:34.000Z', u'title': u'2014 South Carolina Senate: Scott vs. Dickerson', u'url': u'http://elections.huffingtonpost.com/pollster/2014-south-carolina-senate-scott-vs-dickerson', u'election_date': u'2014-11-04', u'estimates': [{u'first_name': u'Tim', u'last_name': u'Scott', u'value': 55.1, u'choice': u'Scott', u'incumbent': True, u'party': u'Rep', u'lead_confidence': 100.0}, {u'first_name': u'Joyce', u'last_name': u'Dickerson', u'value': 27.5, u'choice': u'Dickerson', u'incumbent': False, u'party': u'Dem', u'lead_confidence': 0.0}], u'poll_count': 6, u'short_title': u'2014 South Carolina Senate: Scott vs. Dickerson', u'topic': u'2014-senate', u'state': u'SC', u'slug': u'2014-south-carolina-senate-scott-vs-dickerson'}, {u'last_updated': u'2014-11-04T02:52:48.000Z', u'title': u'2014 Oklahoma Senate: Inhofe vs. Silverstein', u'url': u'http://elections.huffingtonpost.com/pollster/2014-oklahoma-senate-inhofe-vs-silverstein', u'election_date': u'2014-11-04', u'estimates': [{u'first_name': u'Jim', u'last_name': u'Inhofe', u'value': 64.4, u'choice': u'Inhofe', u'incumbent': True, u'party': u'Rep', u'lead_confidence': 100.0}, {u'first_name': u'Matt', u'last_name': u'Silverstein', u'value': 27.1, u'choice': u'Silverstein', u'incumbent': False, u'party': u'Dem', u'lead_confidence': 0.0}, {u'first_name': None, u'last_name': None, u'value': 2.8, u'choice': u'Other', u'incumbent': None, u'party': None, u'lead_confidence': None}], u'poll_count': 8, u'short_title': u'2014 Oklahoma Senate: Inhofe vs. Silverstein', u'topic': u'2014-senate', u'state': u'OK', u'slug': u'2014-oklahoma-senate-inhofe-vs-silverstein'}, {u'last_updated': u'2014-10-28T22:38:56.000Z', u'title': u'2014 New Mexico Senate: Weh vs. Udall', u'url': u'http://elections.huffingtonpost.com/pollster/2014-new-mexico-senate-weh-vs-udall', u'election_date': u'2014-11-04', u'estimates': [{u'first_name': u'Tom', u'last_name': u'Udall', u'value': 52.1, u'choice': u'Udall', u'incumbent': True, u'party': u'Dem', u'lead_confidence': 99.9}, {u'first_name': u'Allen', u'last_name': u'Weh', u'value': 39.6, u'choice': u'Weh', u'incumbent': False, u'party': u'Rep', u'lead_confidence': 0.1}, {u'first_name': None, u'last_name': None, u'value': 1.0, u'choice': u'Other', u'incumbent': None, u'party': None, u'lead_confidence': None}], u'poll_count': 12, u'short_title': u'2014 New Mexico Senate', u'topic': u'2014-senate', u'state': u'NM', u'slug': u'2014-new-mexico-senate-weh-vs-udall'}, {u'last_updated': u'2014-11-03T20:01:54.000Z', u'title': u'2014 New Jersey Senate: Bell vs. Booker', u'url': u'http://elections.huffingtonpost.com/pollster/2014-new-jersey-senate-bell-vs-booker', u'election_date': u'2014-11-04', u'estimates': [{u'first_name': u'Cory', u'last_name': u'Booker', u'value': 52.7, u'choice': u'Booker', u'incumbent': True, u'party': u'Dem', u'lead_confidence': 100.0}, {u'first_name': u'Jeff', u'last_name': u'Bell', u'value': 37.4, u'choice': u'Bell', u'incumbent': False, u'party': u'Rep', u'lead_confidence': 0.0}, {u'first_name': None, u'last_name': None, u'value': 0.8, u'choice': u'Other', u'incumbent': None, u'party': None, u'lead_confidence': None}], u'poll_count': 15, u'short_title': u'2014 New Jersey Senate', u'topic': u'2014-senate', u'state': u'NJ', u'slug': u'2014-new-jersey-senate-bell-vs-booker'}, {u'last_updated': u'2014-10-26T14:58:06.000Z', u'title': u'2014 Idaho Senate: Risch vs. Mitchell', u'url': u'http://elections.huffingtonpost.com/pollster/2014-idaho-senate-risch-vs-mitchell', u'election_date': u'2014-11-04', u'estimates': [{u'first_name': u'Jim', u'last_name': u'Risch', u'value': 57.7, u'choice': u'Risch', u'incumbent': True, u'party': u'Rep', u'lead_confidence': 100.0}, {u'first_name': u'Nels', u'last_name': u'Mitchell', u'value': 29.2, u'choice': u'Mitchell', u'incumbent': False, u'party': u'Dem', u'lead_confidence': 0.0}], u'poll_count': 6, u'short_title': u'2014 Idaho Senate', u'topic': u'2014-senate', u'state': u'ID', u'slug': u'2014-idaho-senate-risch-vs-mitchell'}, {u'last_updated': u'2014-10-26T15:26:32.000Z', u'title': u'2014 Tennessee Senate: Alexander vs. Ball', u'url': u'http://elections.huffingtonpost.com/pollster/2014-tennessee-senate-alexander-vs-ball', u'election_date': u'2014-11-04', u'estimates': [{u'first_name': u'Lamar', u'last_name': u'Alexander', u'value': 55.3, u'choice': u'Alexander', u'incumbent': True, u'party': u'Rep', u'lead_confidence': 100.0}, {u'first_name': u'Gordon', u'last_name': u'Ball', u'value': 32.5, u'choice': u'Ball', u'incumbent': False, u'party': u'Dem', u'lead_confidence': 0.0}, {u'first_name': None, u'last_name': None, u'value': 1.2, u'choice': u'Other', u'incumbent': None, u'party': None, u'lead_confidence': None}], u'poll_count': 6, u'short_title': u'2014 Tennessee Senate', u'topic': u'2014-senate', u'state': u'TN', u'slug': u'2014-tennessee-senate-alexander-vs-ball'}, {u'last_updated': u'2014-10-26T15:00:29.000Z', u'title': u'2014 Wyoming Senate: Enzi vs. Hardy', u'url': u'http://elections.huffingtonpost.com/pollster/2014-wyoming-senate', u'election_date': u'2014-11-04', u'estimates': [{u'first_name': u'Mike', u'last_name': u'Enzi', u'value': 68.9, u'choice': u'Enzi', u'incumbent': True, u'party': u'Rep', u'lead_confidence': 100.0}, {u'first_name': u'Charlie', u'last_name': u'Hardy', u'value': 25.5, u'choice': u'Hardy', u'incumbent': False, u'party': u'Dem', u'lead_confidence': 0.0}], u'poll_count': 5, u'short_title': u'2014 Wyoming Senate', u'topic': u'2014-senate', u'state': u'WY', u'slug': u'2014-wyoming-senate'}, {u'last_updated': u'2014-11-03T23:45:53.000Z', u'title': u'2014 Kansas Senate', u'url': u'http://elections.huffingtonpost.com/pollster/2014-kansas-senate-roberts-vs-orman-vs-taylor', u'election_date': u'2014-11-04', u'estimates': [{u'first_name': u'Pat', u'last_name': u'Roberts', u'value': 46.7, u'choice': u'Roberts', u'incumbent': True, u'party': u'Rep', u'lead_confidence': 74.1}, {u'first_name': u'Greg', u'last_name': u'Orman', u'value': 45.0, u'choice': u'Orman', u'incumbent': False, u'party': u'ind', u'lead_confidence': 25.9}], u'poll_count': 27, u'short_title': u'2014 Kansas Senate', u'topic': u'2014-senate', u'state': u'KS', u'slug': u'2014-kansas-senate-roberts-vs-orman-vs-taylor'}, {u'last_updated': u'2014-11-02T17:19:56.000Z', u'title': u'2014 Hawaii Senate: Cavasso vs. Schatz', u'url': u'http://elections.huffingtonpost.com/pollster/2014-hawaii-senate-cavasso-vs-schatz', u'election_date': u'2014-11-04', u'estimates': [{u'first_name': u'Brian', u'last_name': u'Schatz', u'value': 67.9, u'choice': u'Schatz', u'incumbent': True, u'party': u'Dem', u'lead_confidence': 100.0}, {u'first_name': u'Campbell', u'last_name': u'Cavasso', u'value': 20.2, u'choice': u'Cavasso', u'incumbent': False, u'party': u'Rep', u'lead_confidence': 0.0}, {u'first_name': None, u'last_name': None, u'value': 1.0, u'choice': u'Other', u'incumbent': None, u'party': None, u'lead_confidence': None}], u'poll_count': 8, u'short_title': u'2014 Hawaii Senate', u'topic': u'2014-senate', u'state': u'HI', u'slug': u'2014-hawaii-senate-cavasso-vs-schatz'}, {u'last_updated': u'2014-11-04T02:52:48.000Z', u'title': u'2014 Oklahoma Senate: Lankford vs. Johnson', u'url': u'http://elections.huffingtonpost.com/pollster/2014-oklahoma-senate-lankford-vs-johnson', u'election_date': u'2014-11-04', u'estimates': [{u'first_name': u'James', u'last_name': u'Lankford', u'value': 62.4, u'choice': u'Lankford', u'incumbent': False, u'party': u'Rep', u'lead_confidence': 100.0}, {u'first_name': u'Connie', u'last_name': u'Johnson', u'value': 28.6, u'choice': u'Johnson', u'incumbent': False, u'party': u'Dem', u'lead_confidence': 0.0}, {u'first_name': None, u'last_name': None, u'value': 2.3, u'choice': u'Other', u'incumbent': None, u'party': None, u'lead_confidence': None}], u'poll_count': 8, u'short_title': u'2014 Oklahoma Senate: Lankford vs. Johnson', u'topic': u'2014-senate', u'state': u'OK', u'slug': u'2014-oklahoma-senate-lankford-vs-johnson'}, {u'last_updated': u'2014-10-28T22:47:33.000Z', u'title': u'2014 Montana Senate: Daines vs. Curtis', u'url': u'http://elections.huffingtonpost.com/pollster/2014-montana-senate-daines-vs-curtis', u'election_date': u'2014-11-04', u'estimates': [{u'first_name': u'Steve', u'last_name': u'Daines', u'value': 53.8, u'choice': u'Daines', u'incumbent': False, u'party': u'Rep', u'lead_confidence': 99.9}, {u'first_name': u'Amanda', u'last_name': u'Curtis', u'value': 36.1, u'choice': u'Curtis', u'incumbent': False, u'party': u'Dem', u'lead_confidence': 0.0}], u'poll_count': 7, u'short_title': u'2014 Montana Senate: Daines vs. Curtis', u'topic': u'2014-senate', u'state': u'MT', u'slug': u'2014-montana-senate-daines-vs-curtis'}, {u'last_updated': u'2014-10-26T15:24:13.000Z', u'title': u'2014 Rhode Island Senate: Zaccaria vs. Reed', u'url': u'http://elections.huffingtonpost.com/pollster/2014-rhode-island-senate-zaccaria-vs-reed', u'election_date': u'2014-11-04', u'estimates': [{u'first_name': u'Jack', u'last_name': u'Reed', u'value': 65.9, u'choice': u'Reed', u'incumbent': True, u'party': u'Dem', u'lead_confidence': 100.0}, {u'first_name': u'Mark', u'last_name': u'Zaccaria', u'value': 21.6, u'choice': u'Zaccaria', u'incumbent': False, u'party': u'Rep', u'lead_confidence': 0.0}, {u'first_name': None, u'last_name': None, u'value': 12.5, u'choice': u'Undecided', u'incumbent': None, u'party': None, u'lead_confidence': None}], u'poll_count': 4, u'short_title': u'2014 Rhode Island Senate: Zaccaria vs. Reed', u'topic': u'2014-senate', u'state': u'RI', u'slug': u'2014-rhode-island-senate-zaccaria-vs-reed'}, {u'last_updated': u'2014-10-31T22:21:20.000Z', u'title': u'2014 Massachusetts Senate: Herr vs. Markey', u'url': u'http://elections.huffingtonpost.com/pollster/2014-massachusetts-senate-herr-vs-markey', u'election_date': u'2014-11-04', u'estimates': [{u'first_name': u'Ed', u'last_name': u'Markey', u'value': 54.1, u'choice': u'Markey', u'incumbent': True, u'party': u'Dem', u'lead_confidence': 99.9}, {u'first_name': u'Brian', u'last_name': u'Herr', u'value': 33.4, u'choice': u'Herr', u'incumbent': False, u'party': u'Rep', u'lead_confidence': 0.0}, {u'first_name': None, u'last_name': None, u'value': 0.2, u'choice': u'Other', u'incumbent': None, u'party': None, u'lead_confidence': None}], u'poll_count': 13, u'short_title': u'2014 Massachusetts Senate: Herr vs. Markey', u'topic': u'2014-senate', u'state': u'MA', u'slug': u'2014-massachusetts-senate-herr-vs-markey'}, {u'last_updated': u'2014-10-26T14:52:36.000Z', u'title': u'2014 Delaware Senate: Wade vs. Coons', u'url': u'http://elections.huffingtonpost.com/pollster/2014-delaware-senate-wade-vs-coons', u'election_date': u'2014-11-04', u'estimates': [{u'first_name': u'Chris', u'last_name': u'Coons', u'value': 56.0, u'choice': u'Coons', u'incumbent': True, u'party': u'Dem', u'lead_confidence': 99.9}, {u'first_name': u'Kevin', u'last_name': u'Wade', u'value': 34.0, u'choice': u'Wade', u'incumbent': False, u'party': u'Rep', u'lead_confidence': 0.0}, {u'first_name': None, u'last_name': None, u'value': 10.1, u'choice': u'Undecided', u'incumbent': None, u'party': None, u'lead_confidence': None}], u'poll_count': 5, u'short_title': u'2014 Delaware Senate: Wade vs. Coons', u'topic': u'2014-senate', u'state': u'DE', u'slug': u'2014-delaware-senate-wade-vs-coons'}]\n"
     ]
    }
   ],
   "source": [
    "import json\n",
    "import urllib2\n",
    "data = urllib2.urlopen(url_str).read()\n",
    "#data_dict = json.load(data)\n",
    "print json.loads(data)\n",
    "#print data"
   ]
  },
  {
   "cell_type": "markdown",
   "metadata": {},
   "source": [
    "To list all the URLs related to the 2014 Senate races using the pollster API, we can use a list comprehension:"
   ]
  },
  {
   "cell_type": "code",
   "execution_count": 206,
   "metadata": {
    "collapsed": false
   },
   "outputs": [],
   "source": [
    "election_urls = [election['url'] + '.csv' for election in requests.get(url_str).json()]\n",
    "# election_urls\n",
    "# print requests.get(url_str)"
   ]
  },
  {
   "cell_type": "markdown",
   "metadata": {},
   "source": [
    "Because there so many Senate races, we can create a dictionary of pandas DataFrames that will be keyed by the name of the election (a string). "
   ]
  },
  {
   "cell_type": "code",
   "execution_count": 207,
   "metadata": {
    "collapsed": false
   },
   "outputs": [],
   "source": [
    "def build_frame(url):\n",
    "    \"\"\"\n",
    "    Returns a pandas DataFrame object containing\n",
    "    the data returned from the given url\n",
    "    \"\"\"\n",
    "    source = requests.get(url).text\n",
    "    \n",
    "    # Use StringIO because pd.DataFrame.from_csv requires .read() method\n",
    "    s = StringIO(source)\n",
    "    \n",
    "    return pd.DataFrame.from_csv(s, index_col=None).convert_objects(\n",
    "            convert_dates=\"coerce\", convert_numeric=True)"
   ]
  },
  {
   "cell_type": "code",
   "execution_count": 208,
   "metadata": {
    "collapsed": false
   },
   "outputs": [
    {
     "name": "stderr",
     "output_type": "stream",
     "text": [
      "/anaconda/lib/python2.7/site-packages/ipykernel/__main__.py:12: FutureWarning: convert_objects is deprecated.  Use the data-type specific converters pd.to_datetime, pd.to_timedelta and pd.to_numeric.\n"
     ]
    }
   ],
   "source": [
    "# Makes a dictionary of pandas DataFrames keyed on election string.\n",
    "dfs = dict((election.split(\"/\")[-1][:-4], build_frame(election)) for election in election_urls)"
   ]
  },
  {
   "cell_type": "markdown",
   "metadata": {},
   "source": [
    "Show the head of the DataFrame containing the polls for the 2014 Senate race in Kentucky between McConnell and Grimes."
   ]
  },
  {
   "cell_type": "code",
   "execution_count": 219,
   "metadata": {
    "collapsed": false
   },
   "outputs": [
    {
     "data": {
      "text/html": [
       "<div>\n",
       "<table border=\"1\" class=\"dataframe\">\n",
       "  <thead>\n",
       "    <tr style=\"text-align: right;\">\n",
       "      <th></th>\n",
       "      <th>Pollster</th>\n",
       "      <th>Start Date</th>\n",
       "      <th>End Date</th>\n",
       "      <th>Entry Date/Time (ET)</th>\n",
       "      <th>Number of Observations</th>\n",
       "      <th>Population</th>\n",
       "      <th>Mode</th>\n",
       "      <th>McConnell</th>\n",
       "      <th>Grimes</th>\n",
       "      <th>Undecided</th>\n",
       "      <th>Pollster URL</th>\n",
       "      <th>Source URL</th>\n",
       "      <th>Partisan</th>\n",
       "      <th>Affiliation</th>\n",
       "    </tr>\n",
       "  </thead>\n",
       "  <tbody>\n",
       "    <tr>\n",
       "      <th>0</th>\n",
       "      <td>PPP (D)</td>\n",
       "      <td>2014-10-30</td>\n",
       "      <td>2014-11-01</td>\n",
       "      <td>2014-11-02 2000-01-01 01:44:58 UTC</td>\n",
       "      <td>1503</td>\n",
       "      <td>Likely Voters</td>\n",
       "      <td>IVR/Online</td>\n",
       "      <td>50</td>\n",
       "      <td>42</td>\n",
       "      <td>NaN</td>\n",
       "      <td>http://elections.huffingtonpost.com/pollster/p...</td>\n",
       "      <td>http://www.publicpolicypolling.com/pdf/2014/PP...</td>\n",
       "      <td>Pollster</td>\n",
       "      <td>Dem</td>\n",
       "    </tr>\n",
       "    <tr>\n",
       "      <th>1</th>\n",
       "      <td>NBC/Marist</td>\n",
       "      <td>2014-10-27</td>\n",
       "      <td>2014-10-30</td>\n",
       "      <td>2014-11-02 2000-01-01 14:37:22 UTC</td>\n",
       "      <td>556</td>\n",
       "      <td>Likely Voters</td>\n",
       "      <td>Live Phone</td>\n",
       "      <td>50</td>\n",
       "      <td>41</td>\n",
       "      <td>3</td>\n",
       "      <td>http://elections.huffingtonpost.com/pollster/p...</td>\n",
       "      <td>http://newscms.nbcnews.com/sites/newscms/files...</td>\n",
       "      <td>Nonpartisan</td>\n",
       "      <td>None</td>\n",
       "    </tr>\n",
       "    <tr>\n",
       "      <th>2</th>\n",
       "      <td>SurveyUSA/Courier-Journal/Herald-Leader/WHAS/WKYT</td>\n",
       "      <td>2014-10-25</td>\n",
       "      <td>2014-10-29</td>\n",
       "      <td>2014-10-30 2000-01-01 23:33:59 UTC</td>\n",
       "      <td>597</td>\n",
       "      <td>Likely Voters</td>\n",
       "      <td>IVR/Online</td>\n",
       "      <td>48</td>\n",
       "      <td>43</td>\n",
       "      <td>6</td>\n",
       "      <td>http://elections.huffingtonpost.com/pollster/p...</td>\n",
       "      <td>http://www.surveyusa.com/client/PollReport.asp...</td>\n",
       "      <td>Nonpartisan</td>\n",
       "      <td>None</td>\n",
       "    </tr>\n",
       "    <tr>\n",
       "      <th>3</th>\n",
       "      <td>POS (R-Crossroads GPS)</td>\n",
       "      <td>2014-10-25</td>\n",
       "      <td>2014-10-27</td>\n",
       "      <td>2014-10-30 2000-01-01 20:56:18 UTC</td>\n",
       "      <td>600</td>\n",
       "      <td>Likely Voters</td>\n",
       "      <td>Live Phone</td>\n",
       "      <td>50</td>\n",
       "      <td>43</td>\n",
       "      <td>NaN</td>\n",
       "      <td>http://elections.huffingtonpost.com/pollster/p...</td>\n",
       "      <td>https://www.crossroadsgps.org/wp-content/uploa...</td>\n",
       "      <td>Sponsor</td>\n",
       "      <td>Rep</td>\n",
       "    </tr>\n",
       "    <tr>\n",
       "      <th>4</th>\n",
       "      <td>CBS/NYT/YouGov</td>\n",
       "      <td>2014-10-16</td>\n",
       "      <td>2014-10-23</td>\n",
       "      <td>2014-10-26 2000-01-01 15:00:07 UTC</td>\n",
       "      <td>1502</td>\n",
       "      <td>Likely Voters</td>\n",
       "      <td>Internet</td>\n",
       "      <td>45</td>\n",
       "      <td>39</td>\n",
       "      <td>14</td>\n",
       "      <td>http://elections.huffingtonpost.com/pollster/p...</td>\n",
       "      <td>https://today.yougov.com/news/2014/09/07/battl...</td>\n",
       "      <td>Nonpartisan</td>\n",
       "      <td>None</td>\n",
       "    </tr>\n",
       "  </tbody>\n",
       "</table>\n",
       "</div>"
      ],
      "text/plain": [
       "                                            Pollster Start Date   End Date  \\\n",
       "0                                            PPP (D) 2014-10-30 2014-11-01   \n",
       "1                                         NBC/Marist 2014-10-27 2014-10-30   \n",
       "2  SurveyUSA/Courier-Journal/Herald-Leader/WHAS/WKYT 2014-10-25 2014-10-29   \n",
       "3                             POS (R-Crossroads GPS) 2014-10-25 2014-10-27   \n",
       "4                                     CBS/NYT/YouGov 2014-10-16 2014-10-23   \n",
       "\n",
       "                 Entry Date/Time (ET)  Number of Observations     Population  \\\n",
       "0  2014-11-02 2000-01-01 01:44:58 UTC                    1503  Likely Voters   \n",
       "1  2014-11-02 2000-01-01 14:37:22 UTC                     556  Likely Voters   \n",
       "2  2014-10-30 2000-01-01 23:33:59 UTC                     597  Likely Voters   \n",
       "3  2014-10-30 2000-01-01 20:56:18 UTC                     600  Likely Voters   \n",
       "4  2014-10-26 2000-01-01 15:00:07 UTC                    1502  Likely Voters   \n",
       "\n",
       "         Mode  McConnell  Grimes  Undecided  \\\n",
       "0  IVR/Online         50      42        NaN   \n",
       "1  Live Phone         50      41          3   \n",
       "2  IVR/Online         48      43          6   \n",
       "3  Live Phone         50      43        NaN   \n",
       "4    Internet         45      39         14   \n",
       "\n",
       "                                        Pollster URL  \\\n",
       "0  http://elections.huffingtonpost.com/pollster/p...   \n",
       "1  http://elections.huffingtonpost.com/pollster/p...   \n",
       "2  http://elections.huffingtonpost.com/pollster/p...   \n",
       "3  http://elections.huffingtonpost.com/pollster/p...   \n",
       "4  http://elections.huffingtonpost.com/pollster/p...   \n",
       "\n",
       "                                          Source URL     Partisan Affiliation  \n",
       "0  http://www.publicpolicypolling.com/pdf/2014/PP...     Pollster         Dem  \n",
       "1  http://newscms.nbcnews.com/sites/newscms/files...  Nonpartisan        None  \n",
       "2  http://www.surveyusa.com/client/PollReport.asp...  Nonpartisan        None  \n",
       "3  https://www.crossroadsgps.org/wp-content/uploa...      Sponsor         Rep  \n",
       "4  https://today.yougov.com/news/2014/09/07/battl...  Nonpartisan        None  "
      ]
     },
     "execution_count": 219,
     "metadata": {},
     "output_type": "execute_result"
    }
   ],
   "source": [
    "#your code here\n",
    "dfs[\"2014-kentucky-senate-mcconnell-vs-grimes\"].head()"
   ]
  },
  {
   "cell_type": "markdown",
   "metadata": {},
   "source": [
    "#### Problem 4(b)\n",
    "\n",
    "For each 2014 Senate race, create a preliminary prediction of the result for that state."
   ]
  },
  {
   "cell_type": "code",
   "execution_count": 233,
   "metadata": {
    "collapsed": false
   },
   "outputs": [],
   "source": [
    "#your code here\n",
    "def pred(data):\n",
    "    # data.columns = map(str.lower, data.columns)\n",
    "    # candidate \n",
    "    data[\"Diff\"] = data.ix[:,7] - data.ix[:,8]\n",
    "    \n",
    "    rec_diff = data.loc[map(lambda x: x.month>=10,data[\"Start Date\"])]\n",
    "    # print rec_diff.head()\n",
    "    rec_diff_mean = rec_diff[\"Diff\"].mean()\n",
    "    rec_diff_std = rec_diff[\"Diff\"].std()\n",
    "    if rec_diff_mean - 2*rec_diff_std >= 0: return [data.columns[7]]\n",
    "    if rec_diff_mean + 2*rec_diff_std <= 0: return [data.columns[8]]\n",
    "    #else: return [\"Even\"]\n",
    "\n",
    "res_pred = {p:pred(values) for p,values in dfs.items()}"
   ]
  },
  {
   "cell_type": "code",
   "execution_count": 239,
   "metadata": {
    "collapsed": false
   },
   "outputs": [],
   "source": [
    "res_pred_df = pd.DataFrame(res_pred).T\n",
    "res_pred_df.columns = [\"prediction\"]"
   ]
  },
  {
   "cell_type": "code",
   "execution_count": 240,
   "metadata": {
    "collapsed": false
   },
   "outputs": [
    {
     "data": {
      "text/html": [
       "<div>\n",
       "<table border=\"1\" class=\"dataframe\">\n",
       "  <thead>\n",
       "    <tr style=\"text-align: right;\">\n",
       "      <th></th>\n",
       "      <th>prediction</th>\n",
       "    </tr>\n",
       "  </thead>\n",
       "  <tbody>\n",
       "    <tr>\n",
       "      <th>2014-alaska-senate-sullivan-vs-begich</th>\n",
       "      <td>Even</td>\n",
       "    </tr>\n",
       "    <tr>\n",
       "      <th>2014-arkansas-senate-cotton-vs-pryor</th>\n",
       "      <td>Even</td>\n",
       "    </tr>\n",
       "    <tr>\n",
       "      <th>2014-colorado-senate-gardner-vs-udall</th>\n",
       "      <td>Even</td>\n",
       "    </tr>\n",
       "    <tr>\n",
       "      <th>2014-delaware-senate-wade-vs-coons</th>\n",
       "      <td>Even</td>\n",
       "    </tr>\n",
       "    <tr>\n",
       "      <th>2014-georgia-senate-perdue-vs-nunn</th>\n",
       "      <td>Even</td>\n",
       "    </tr>\n",
       "    <tr>\n",
       "      <th>2014-hawaii-senate-cavasso-vs-schatz</th>\n",
       "      <td>Schatz</td>\n",
       "    </tr>\n",
       "    <tr>\n",
       "      <th>2014-idaho-senate-risch-vs-mitchell</th>\n",
       "      <td>Risch</td>\n",
       "    </tr>\n",
       "    <tr>\n",
       "      <th>2014-illinois-senate-oberweis-vs-durbin</th>\n",
       "      <td>Durbin</td>\n",
       "    </tr>\n",
       "    <tr>\n",
       "      <th>2014-iowa-senate-ernst-vs-braley</th>\n",
       "      <td>Even</td>\n",
       "    </tr>\n",
       "    <tr>\n",
       "      <th>2014-kansas-senate-roberts-vs-orman-vs-taylor</th>\n",
       "      <td>Even</td>\n",
       "    </tr>\n",
       "    <tr>\n",
       "      <th>2014-kentucky-senate-mcconnell-vs-grimes</th>\n",
       "      <td>Even</td>\n",
       "    </tr>\n",
       "    <tr>\n",
       "      <th>2014-louisiana-senate-cassidy-vs-landrieu</th>\n",
       "      <td>Even</td>\n",
       "    </tr>\n",
       "    <tr>\n",
       "      <th>2014-maine-senate-collins-vs-bellows</th>\n",
       "      <td>Collins</td>\n",
       "    </tr>\n",
       "    <tr>\n",
       "      <th>2014-massachusetts-senate-herr-vs-markey</th>\n",
       "      <td>Markey</td>\n",
       "    </tr>\n",
       "    <tr>\n",
       "      <th>2014-michigan-senate-land-vs-peters</th>\n",
       "      <td>Even</td>\n",
       "    </tr>\n",
       "    <tr>\n",
       "      <th>2014-minnesota-senate-mcfadden-vs-franken</th>\n",
       "      <td>Franken</td>\n",
       "    </tr>\n",
       "    <tr>\n",
       "      <th>2014-mississippi-senate-cochran-vs-childers</th>\n",
       "      <td>Cochran</td>\n",
       "    </tr>\n",
       "    <tr>\n",
       "      <th>2014-montana-senate-daines-vs-curtis</th>\n",
       "      <td>Daines</td>\n",
       "    </tr>\n",
       "    <tr>\n",
       "      <th>2014-nebraska-senate-sasse-vs-domina</th>\n",
       "      <td>Even</td>\n",
       "    </tr>\n",
       "    <tr>\n",
       "      <th>2014-new-hampshire-senate-bass-vs-shaheen</th>\n",
       "      <td>Shaheen</td>\n",
       "    </tr>\n",
       "    <tr>\n",
       "      <th>2014-new-hampshire-senate-brown-vs-shaheen</th>\n",
       "      <td>Even</td>\n",
       "    </tr>\n",
       "    <tr>\n",
       "      <th>2014-new-jersey-senate-bell-vs-booker</th>\n",
       "      <td>Booker</td>\n",
       "    </tr>\n",
       "    <tr>\n",
       "      <th>2014-new-mexico-senate-weh-vs-udall</th>\n",
       "      <td>Even</td>\n",
       "    </tr>\n",
       "    <tr>\n",
       "      <th>2014-north-carolina-senate-tillis-vs-hagan</th>\n",
       "      <td>Even</td>\n",
       "    </tr>\n",
       "    <tr>\n",
       "      <th>2014-oklahoma-senate-inhofe-vs-silverstein</th>\n",
       "      <td>Inhofe</td>\n",
       "    </tr>\n",
       "    <tr>\n",
       "      <th>2014-oklahoma-senate-lankford-vs-johnson</th>\n",
       "      <td>Lankford</td>\n",
       "    </tr>\n",
       "    <tr>\n",
       "      <th>2014-oregon-senate-wehby-vs-merkley</th>\n",
       "      <td>Merkley</td>\n",
       "    </tr>\n",
       "    <tr>\n",
       "      <th>2014-rhode-island-senate-zaccaria-vs-reed</th>\n",
       "      <td>Even</td>\n",
       "    </tr>\n",
       "    <tr>\n",
       "      <th>2014-south-carolina-senate-graham-vs-hutto</th>\n",
       "      <td>Even</td>\n",
       "    </tr>\n",
       "    <tr>\n",
       "      <th>2014-south-carolina-senate-scott-vs-dickerson</th>\n",
       "      <td>Even</td>\n",
       "    </tr>\n",
       "    <tr>\n",
       "      <th>2014-south-dakota-senate-rounds-vs-weiland</th>\n",
       "      <td>Rounds</td>\n",
       "    </tr>\n",
       "    <tr>\n",
       "      <th>2014-tennessee-senate-alexander-vs-ball</th>\n",
       "      <td>Even</td>\n",
       "    </tr>\n",
       "    <tr>\n",
       "      <th>2014-texas-senate-cornyn-vs-alameel</th>\n",
       "      <td>Cornyn</td>\n",
       "    </tr>\n",
       "    <tr>\n",
       "      <th>2014-virginia-senate-gillespie-vs-warner</th>\n",
       "      <td>Warner</td>\n",
       "    </tr>\n",
       "    <tr>\n",
       "      <th>2014-west-virginia-senate-capito-vs-tennant</th>\n",
       "      <td>Even</td>\n",
       "    </tr>\n",
       "    <tr>\n",
       "      <th>2014-wyoming-senate</th>\n",
       "      <td>Even</td>\n",
       "    </tr>\n",
       "  </tbody>\n",
       "</table>\n",
       "</div>"
      ],
      "text/plain": [
       "                                              prediction\n",
       "2014-alaska-senate-sullivan-vs-begich               Even\n",
       "2014-arkansas-senate-cotton-vs-pryor                Even\n",
       "2014-colorado-senate-gardner-vs-udall               Even\n",
       "2014-delaware-senate-wade-vs-coons                  Even\n",
       "2014-georgia-senate-perdue-vs-nunn                  Even\n",
       "2014-hawaii-senate-cavasso-vs-schatz              Schatz\n",
       "2014-idaho-senate-risch-vs-mitchell                Risch\n",
       "2014-illinois-senate-oberweis-vs-durbin           Durbin\n",
       "2014-iowa-senate-ernst-vs-braley                    Even\n",
       "2014-kansas-senate-roberts-vs-orman-vs-taylor       Even\n",
       "2014-kentucky-senate-mcconnell-vs-grimes            Even\n",
       "2014-louisiana-senate-cassidy-vs-landrieu           Even\n",
       "2014-maine-senate-collins-vs-bellows             Collins\n",
       "2014-massachusetts-senate-herr-vs-markey          Markey\n",
       "2014-michigan-senate-land-vs-peters                 Even\n",
       "2014-minnesota-senate-mcfadden-vs-franken        Franken\n",
       "2014-mississippi-senate-cochran-vs-childers      Cochran\n",
       "2014-montana-senate-daines-vs-curtis              Daines\n",
       "2014-nebraska-senate-sasse-vs-domina                Even\n",
       "2014-new-hampshire-senate-bass-vs-shaheen        Shaheen\n",
       "2014-new-hampshire-senate-brown-vs-shaheen          Even\n",
       "2014-new-jersey-senate-bell-vs-booker             Booker\n",
       "2014-new-mexico-senate-weh-vs-udall                 Even\n",
       "2014-north-carolina-senate-tillis-vs-hagan          Even\n",
       "2014-oklahoma-senate-inhofe-vs-silverstein        Inhofe\n",
       "2014-oklahoma-senate-lankford-vs-johnson        Lankford\n",
       "2014-oregon-senate-wehby-vs-merkley              Merkley\n",
       "2014-rhode-island-senate-zaccaria-vs-reed           Even\n",
       "2014-south-carolina-senate-graham-vs-hutto          Even\n",
       "2014-south-carolina-senate-scott-vs-dickerson       Even\n",
       "2014-south-dakota-senate-rounds-vs-weiland        Rounds\n",
       "2014-tennessee-senate-alexander-vs-ball             Even\n",
       "2014-texas-senate-cornyn-vs-alameel               Cornyn\n",
       "2014-virginia-senate-gillespie-vs-warner          Warner\n",
       "2014-west-virginia-senate-capito-vs-tennant         Even\n",
       "2014-wyoming-senate                                 Even"
      ]
     },
     "execution_count": 240,
     "metadata": {},
     "output_type": "execute_result"
    }
   ],
   "source": [
    "res_pred_df"
   ]
  },
  {
   "cell_type": "markdown",
   "metadata": {},
   "source": [
    "# Submission Instructions\n",
    "\n",
    "To submit your homework, create a folder named **lastname_firstinitial_hw#** and place your IPython notebooks, data files, and any other files in this folder. Your IPython Notebooks should be completely executed with the results visible in the notebook. We should not have to run any code.  Compress the folder (please use .zip compression) and submit to the CS109 dropbox in the appropriate folder. *If we cannot access your work because these directions are not followed correctly, we will not grade your work.*\n"
   ]
  },
  {
   "cell_type": "code",
   "execution_count": null,
   "metadata": {
    "collapsed": false
   },
   "outputs": [],
   "source": []
  }
 ],
 "metadata": {
  "kernelspec": {
   "display_name": "Python 2",
   "language": "python",
   "name": "python2"
  },
  "language_info": {
   "codemirror_mode": {
    "name": "ipython",
    "version": 2
   },
   "file_extension": ".py",
   "mimetype": "text/x-python",
   "name": "python",
   "nbconvert_exporter": "python",
   "pygments_lexer": "ipython2",
   "version": "2.7.11"
  }
 },
 "nbformat": 4,
 "nbformat_minor": 0
}
